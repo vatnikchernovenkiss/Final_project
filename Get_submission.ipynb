{
 "cells": [
  {
   "cell_type": "markdown",
   "metadata": {
    "id": "KUtbgebW1ycS"
   },
   "source": [
    "### Final"
   ]
  },
  {
   "cell_type": "code",
   "execution_count": 1,
   "metadata": {
    "id": "AzdSgaNO1ziY"
   },
   "outputs": [],
   "source": [
    "# features path\n",
    "import pandas as pd\n",
    "rpath = '/'\n",
    "tr_df = pd.read_csv(rpath + 'tr_python_features')\n",
    "tr_df = tr_df.merge(pd.read_csv(rpath + 'smoothed_hadoop_features_tr'), how='left')\n",
    "\n",
    "tt_df = pd.read_csv(rpath + 'tt_python_features')\n",
    "tt_df = tt_df.merge(pd.read_csv(rpath + 'smoothed_hadoop_features_tt'), how='left')"
   ]
  },
  {
   "cell_type": "code",
   "execution_count": 2,
   "metadata": {
    "id": "zLujtXDk2WK0"
   },
   "outputs": [],
   "source": [
    "tr_df_copy = tr_df.copy()\n",
    "tr_df_copy = tr_df_copy.drop(columns=['DocumentId', 'QueryId','HostId','mark'])\n",
    "\n",
    "tt_df_copy = tt_df.copy()\n",
    "tt_df_copy = tt_df_copy.drop(columns=['DocumentId', 'HostId','QueryId'])"
   ]
  },
  {
   "cell_type": "code",
   "execution_count": 3,
   "metadata": {
    "colab": {
     "base_uri": "https://localhost:8080/"
    },
    "id": "IIg9H4Wu2zpx",
    "outputId": "4edb3247-b457-46b4-afb0-64291df9c5d0"
   },
   "outputs": [],
   "source": [
    "!pip install catboost"
   ]
  },
  {
   "cell_type": "code",
   "execution_count": 4,
   "metadata": {
    "id": "P4GeRdog2ilz"
   },
   "outputs": [],
   "source": [
    "X_train = tr_df_copy.values\n",
    "y_train = tr_df[\"mark\"].values\n",
    "X_test = tt_df_copy.values"
   ]
  },
  {
   "cell_type": "code",
   "execution_count": 5,
   "metadata": {
    "id": "AFFMT0vD2pLA"
   },
   "outputs": [],
   "source": [
    "import numpy as np\n",
    "\n",
    "trainqids = set(tr_df.QueryId.tolist())\n",
    "np.random.seed(42)\n",
    "train_ind = np.random.choice(list(trainqids), int(0.8 * len(trainqids))).tolist()\n",
    "test_ind = list(trainqids - set(train_ind))"
   ]
  },
  {
   "cell_type": "code",
   "execution_count": 6,
   "metadata": {
    "id": "e9-g4Gt67Ar1"
   },
   "outputs": [],
   "source": [
    "valid_train = tr_df[tr_df.QueryId.apply(lambda x: x in train_ind)]\n",
    "valid_test = tr_df[tr_df.QueryId.apply(lambda x: x in test_ind)]"
   ]
  },
  {
   "cell_type": "code",
   "execution_count": 7,
   "metadata": {
    "id": "RWQwNHSk6wwD"
   },
   "outputs": [],
   "source": [
    "from catboost import CatBoost, Pool, MetricVisualizer\n",
    "train_pool = Pool(\n",
    "    data = tr_df_copy[tr_df.QueryId.apply(lambda x: x in train_ind)].values,\n",
    "    label = valid_train.mark.values / 5,\n",
    "    group_id = valid_train.QueryId.values\n",
    ")\n",
    "\n",
    "valid_pool = Pool(\n",
    "    data = tr_df_copy[tr_df.QueryId.apply(lambda x: x in test_ind)].values,\n",
    "    label = valid_test.mark.values / 5,\n",
    "    group_id = valid_test.QueryId.values\n",
    ")\n",
    "\n",
    "full = Pool(\n",
    "    data = tr_df_copy.values,\n",
    "    label = tr_df.mark.values / 5,\n",
    "    group_id = tr_df.QueryId.values\n",
    ")"
   ]
  },
  {
   "cell_type": "code",
   "execution_count": 9,
   "metadata": {
    "id": "hWzIfVmm2pir"
   },
   "outputs": [],
   "source": [
    "parameters = {\n",
    "    'iterations': 1300,\n",
    "    'custom_metric': ['NDCG', 'PFound', 'AverageGain:top=5'],\n",
    "    'verbose': False,\n",
    "    'random_seed': 543434,\n",
    "    'depth': 8,\n",
    "    'bootstrap_type': 'Bernoulli',\n",
    "    'loss_function': 'YetiRank',\n",
    "    'subsample': 0.8\n",
    "}\n"
   ]
  },
  {
   "cell_type": "code",
   "execution_count": 10,
   "metadata": {
    "colab": {
     "base_uri": "https://localhost:8080/",
     "height": 35,
     "referenced_widgets": [
      "4270d589404e4589bf77322221f1e10e",
      "cec65d1347ca42f7b8a535a8a5db2d91"
     ]
    },
    "id": "B6WanlrH26Gg",
    "outputId": "a102aaa7-6547-4cbd-8702-ebbb356cf1bf"
   },
   "outputs": [],
   "source": [
    "from copy import deepcopy\n",
    "\n",
    "model = CatBoost(parameters)\n",
    "model.fit(full, eval_set = [full,valid_pool], plot=True)"
   ]
  },
  {
   "cell_type": "code",
   "execution_count": 11,
   "metadata": {
    "id": "X_83f_mJ2_JY"
   },
   "outputs": [],
   "source": [
    "test_data = Pool(data = X_test)\n",
    "tt_df[\"mark_cb\"] = model.predict(test_data)\n",
    "result = tt_df.sort_values(by=['QueryId', \"mark_cb\"], ascending = [True, False])"
   ]
  },
  {
   "cell_type": "code",
   "execution_count": 13,
   "metadata": {
    "id": "sTubGBD-2_cI"
   },
   "outputs": [],
   "source": [
    "with open('submission', 'w') as f:\n",
    "    f.write(\"QueryId,DocumentId\\n\")\n",
    "    for qid in set(result[\"QueryId\"].tolist()):\n",
    "        cur_res = result[result[\"QueryId\"] == qid][\"DocumentId\"].tolist()\n",
    "        c = 0\n",
    "        started_ids = set()\n",
    "        for uid in cur_res:\n",
    "            c += 1\n",
    "            started_ids.add(uid)\n",
    "            f.write(\"{},{}\\n\".format(qid, uid))\n",
    "            if c == 5: \n",
    "                break\n",
    "        if c < 5:\n",
    "            not_finished = set(test[test[\"qid\"] == 0][\"DocumentId\"].tolist()) - started_ids\n",
    "            for uid in not_finished:\n",
    "                c += 1\n",
    "                f.write(\"{},{}\\n\".format(qid, uid))\n",
    "                if c == 5:\n",
    "                    break"
   ]
  }
 ],
 "metadata": {
  "colab": {
   "collapsed_sections": [
    "_07sKSQpJ3TA"
   ],
   "name": "Copy of Right 13FebTexts30JanStolenFeaturesSum&catboost&xgboost_not_translated_MERGED70.ipynb",
   "provenance": [],
   "toc_visible": true
  },
  "kernelspec": {
   "display_name": "Python 3",
   "language": "python",
   "name": "python3"
  },
  "language_info": {
   "codemirror_mode": {
    "name": "ipython",
    "version": 3
   },
   "file_extension": ".py",
   "mimetype": "text/x-python",
   "name": "python",
   "nbconvert_exporter": "python",
   "pygments_lexer": "ipython3",
   "version": "3.8.3"
  },
  "widgets": {
   "application/vnd.jupyter.widget-state+json": {
    "4270d589404e4589bf77322221f1e10e": {
     "model_module": "@jupyter-widgets/base",
     "model_name": "DOMWidgetModel",
     "state": {
      "_dom_classes": [],
      "_model_module": "@jupyter-widgets/base",
      "_model_module_version": "1.2.0",
      "_model_name": "DOMWidgetModel",
      "_view_count": null,
      "_view_module": "catboost_module",
      "_view_module_version": "",
      "_view_name": "CatboostIpythonWidgetView",
      "data": {
       "catboost_info": {
        "content": {
         "data": {
          "iterations": [
           {
            "iteration": 0,
            "learn": [
             0.4753766095
            ],
            "passed_time": 0.6262325219,
            "remaining_time": 813.476046,
            "test": [
             0.8224784046,
             0.9301262574,
             0.4753766095
            ]
           },
           {
            "iteration": 1,
            "learn": [
             0.4942681303
            ],
            "passed_time": 1.228213724,
            "remaining_time": 797.1107068,
            "test": [
             0.8357685329,
             0.93797894,
             0.4942681303
            ]
           },
           {
            "iteration": 2,
            "learn": [
             0.500312659
            ],
            "passed_time": 1.831463351,
            "remaining_time": 791.8026555,
            "test": [
             0.8413623025,
             0.9414430871,
             0.500312659
            ]
           },
           {
            "iteration": 3,
            "learn": [
             0.5057318916
            ],
            "passed_time": 2.415831958,
            "remaining_time": 782.7295543,
            "test": [
             0.8516173888,
             0.9450293166,
             0.5057318916
            ]
           },
           {
            "iteration": 4,
            "learn": [
             0.5079109537
            ],
            "passed_time": 2.988602202,
            "remaining_time": 774.0479703,
            "test": [
             0.8538030622,
             0.9460948408,
             0.5079109537
            ]
           },
           {
            "iteration": 5,
            "learn": [
             0.5082330758
            ],
            "passed_time": 3.579405242,
            "remaining_time": 771.9583971,
            "test": [
             0.8549042714,
             0.9464254359,
             0.5082330758
            ]
           },
           {
            "iteration": 6,
            "learn": [
             0.5101279124
            ],
            "passed_time": 4.156061735,
            "remaining_time": 767.6839747,
            "test": [
             0.8561323052,
             0.9476774651,
             0.5101279124
            ]
           },
           {
            "iteration": 7,
            "learn": [
             0.5125722516
            ],
            "passed_time": 4.762180801,
            "remaining_time": 769.0921994,
            "test": [
             0.8586196117,
             0.9488056053,
             0.5125722516
            ]
           },
           {
            "iteration": 8,
            "learn": [
             0.5127427869
            ],
            "passed_time": 5.334080176,
            "remaining_time": 765.1441675,
            "test": [
             0.8589211491,
             0.9490283815,
             0.5127427869
            ]
           },
           {
            "iteration": 9,
            "learn": [
             0.5132733411
            ],
            "passed_time": 5.925696715,
            "remaining_time": 764.4148763,
            "test": [
             0.8589889786,
             0.9492008348,
             0.5132733411
            ]
           },
           {
            "iteration": 10,
            "learn": [
             0.5130649091
            ],
            "passed_time": 6.526405665,
            "remaining_time": 764.776082,
            "test": [
             0.8594749481,
             0.9493807481,
             0.5130649091
            ]
           },
           {
            "iteration": 11,
            "learn": [
             0.513576515
            ],
            "passed_time": 7.110773257,
            "remaining_time": 763.2229963,
            "test": [
             0.8603279158,
             0.949734792,
             0.513576515
            ]
           },
           {
            "iteration": 12,
            "learn": [
             0.5136712568
            ],
            "passed_time": 7.680718228,
            "remaining_time": 760.3911046,
            "test": [
             0.8609992251,
             0.9502266649,
             0.5136712568
            ]
           },
           {
            "iteration": 13,
            "learn": [
             0.513784947
            ],
            "passed_time": 8.269303662,
            "remaining_time": 759.5946078,
            "test": [
             0.8605539336,
             0.9501252196,
             0.513784947
            ]
           },
           {
            "iteration": 14,
            "learn": [
             0.5139365339
            ],
            "passed_time": 8.862334759,
            "remaining_time": 759.2066777,
            "test": [
             0.8603152917,
             0.9502645486,
             0.5139365339
            ]
           },
           {
            "iteration": 15,
            "learn": [
             0.5145428816
            ],
            "passed_time": 9.450249037,
            "remaining_time": 758.3824852,
            "test": [
             0.8604634791,
             0.9503288533,
             0.5145428816
            ]
           },
           {
            "iteration": 16,
            "learn": [
             0.5146755202
            ],
            "passed_time": 10.06542882,
            "remaining_time": 759.6438339,
            "test": [
             0.8611388822,
             0.9507074881,
             0.5146755202
            ]
           },
           {
            "iteration": 17,
            "learn": [
             0.5151871261
            ],
            "passed_time": 10.66387877,
            "remaining_time": 759.5051435,
            "test": [
             0.8612816186,
             0.9508614706,
             0.5151871261
            ]
           },
           {
            "iteration": 18,
            "learn": [
             0.5152439712
            ],
            "passed_time": 11.25008835,
            "remaining_time": 758.4927985,
            "test": [
             0.8613119354,
             0.9509480052,
             0.5152439712
            ]
           },
           {
            "iteration": 19,
            "learn": [
             0.515547145
            ],
            "passed_time": 11.84178037,
            "remaining_time": 757.8739435,
            "test": [
             0.8612846471,
             0.9510230444,
             0.515547145
            ]
           },
           {
            "iteration": 20,
            "learn": [
             0.5156229385
            ],
            "passed_time": 12.42024807,
            "remaining_time": 756.4522512,
            "test": [
             0.8615480035,
             0.9511745174,
             0.5156229385
            ]
           },
           {
            "iteration": 21,
            "learn": [
             0.5153766098
            ],
            "passed_time": 13.01453725,
            "remaining_time": 756.0263005,
            "test": [
             0.8613436789,
             0.9511718122,
             0.5153766098
            ]
           },
           {
            "iteration": 22,
            "learn": [
             0.5154524032
            ],
            "passed_time": 13.61415703,
            "remaining_time": 755.8816749,
            "test": [
             0.8618740549,
             0.9513970671,
             0.5154524032
            ]
           },
           {
            "iteration": 23,
            "learn": [
             0.5161534928
            ],
            "passed_time": 14.19812798,
            "remaining_time": 754.8671374,
            "test": [
             0.8622233744,
             0.951577883,
             0.5161534928
            ]
           },
           {
            "iteration": 24,
            "learn": [
             0.5157934738
            ],
            "passed_time": 14.79760376,
            "remaining_time": 754.6777916,
            "test": [
             0.8619519845,
             0.9515439191,
             0.5157934738
            ]
           },
           {
            "iteration": 25,
            "learn": [
             0.5165514085
            ],
            "passed_time": 15.37418108,
            "remaining_time": 753.3348727,
            "test": [
             0.8619169966,
             0.9515440016,
             0.5165514085
            ]
           },
           {
            "iteration": 26,
            "learn": [
             0.5166272019
            ],
            "passed_time": 15.96686282,
            "remaining_time": 752.8080135,
            "test": [
             0.8624927398,
             0.9518435421,
             0.5166272019
            ]
           },
           {
            "iteration": 27,
            "learn": [
             0.5167408921
            ],
            "passed_time": 16.56713419,
            "remaining_time": 752.6212388,
            "test": [
             0.8622856939,
             0.9518659448,
             0.5167408921
            ]
           },
           {
            "iteration": 28,
            "learn": [
             0.5170819627
            ],
            "passed_time": 17.13698294,
            "remaining_time": 751.072597,
            "test": [
             0.8624619419,
             0.9519355568,
             0.5170819627
            ]
           },
           {
            "iteration": 29,
            "learn": [
             0.516892479
            ],
            "passed_time": 17.74014198,
            "remaining_time": 750.999344,
            "test": [
             0.8625938564,
             0.9520001207,
             0.516892479
            ]
           },
           {
            "iteration": 30,
            "learn": [
             0.5172714464
            ],
            "passed_time": 18.31286174,
            "remaining_time": 749.6458564,
            "test": [
             0.862486709,
             0.9520794594,
             0.5172714464
            ]
           },
           {
            "iteration": 31,
            "learn": [
             0.5175935686
            ],
            "passed_time": 18.90835596,
            "remaining_time": 749.2436048,
            "test": [
             0.8627852684,
             0.9522050295,
             0.5175935686
            ]
           },
           {
            "iteration": 32,
            "learn": [
             0.517820949
            ],
            "passed_time": 19.49713992,
            "remaining_time": 748.5720084,
            "test": [
             0.8627835745,
             0.9521821041,
             0.517820949
            ]
           },
           {
            "iteration": 33,
            "learn": [
             0.5178777941
            ],
            "passed_time": 20.09652604,
            "remaining_time": 748.3000577,
            "test": [
             0.8628435057,
             0.9521739571,
             0.5178777941
            ]
           },
           {
            "iteration": 34,
            "learn": [
             0.5178777941
            ],
            "passed_time": 20.70144193,
            "remaining_time": 748.2092582,
            "test": [
             0.8630565195,
             0.9522287484,
             0.5178777941
            ]
           },
           {
            "iteration": 35,
            "learn": [
             0.5178967424
            ],
            "passed_time": 21.27701362,
            "remaining_time": 747.0595892,
            "test": [
             0.8634341631,
             0.9524041836,
             0.5178967424
            ]
           },
           {
            "iteration": 36,
            "learn": [
             0.5179346392
            ],
            "passed_time": 21.87281493,
            "remaining_time": 746.6314935,
            "test": [
             0.8635844853,
             0.9524879949,
             0.5179346392
            ]
           },
           {
            "iteration": 37,
            "learn": [
             0.517877794
            ],
            "passed_time": 22.44932927,
            "remaining_time": 745.5540404,
            "test": [
             0.8636684099,
             0.9525617079,
             0.517877794
            ]
           },
           {
            "iteration": 38,
            "learn": [
             0.5181051744
            ],
            "passed_time": 23.0342375,
            "remaining_time": 744.7736791,
            "test": [
             0.8638009119,
             0.9525917631,
             0.5181051744
            ]
           },
           {
            "iteration": 39,
            "learn": [
             0.5179535875
            ],
            "passed_time": 23.62604026,
            "remaining_time": 744.2202682,
            "test": [
             0.8634033026,
             0.952498995,
             0.5179535875
            ]
           },
           {
            "iteration": 40,
            "learn": [
             0.5178588457
            ],
            "passed_time": 24.19969098,
            "remaining_time": 743.107584,
            "test": [
             0.8637908087,
             0.9526459163,
             0.5178588457
            ]
           },
           {
            "iteration": 41,
            "learn": [
             0.5179725359
            ],
            "passed_time": 24.80122731,
            "remaining_time": 742.8558084,
            "test": [
             0.864305579,
             0.95283588,
             0.5179725359
            ]
           },
           {
            "iteration": 42,
            "learn": [
             0.5180104326
            ],
            "passed_time": 25.37487597,
            "remaining_time": 741.7725372,
            "test": [
             0.8644788132,
             0.9529589004,
             0.5180104326
            ]
           },
           {
            "iteration": 43,
            "learn": [
             0.5185978319
            ],
            "passed_time": 25.96392503,
            "remaining_time": 741.1520418,
            "test": [
             0.864723535,
             0.9530448933,
             0.5185978319
            ]
           },
           {
            "iteration": 44,
            "learn": [
             0.5189578509
            ],
            "passed_time": 26.55964179,
            "remaining_time": 740.7188987,
            "test": [
             0.8646666179,
             0.9531334318,
             0.5189578509
            ]
           },
           {
            "iteration": 45,
            "learn": [
             0.5188441607
            ],
            "passed_time": 27.16587379,
            "remaining_time": 740.5653419,
            "test": [
             0.8648796739,
             0.953248741,
             0.5188441607
            ]
           },
           {
            "iteration": 46,
            "learn": [
             0.5192989215
            ],
            "passed_time": 27.79783473,
            "remaining_time": 741.078445,
            "test": [
             0.8648458531,
             0.9532469932,
             0.5192989215
            ]
           },
           {
            "iteration": 47,
            "learn": [
             0.5191283862
            ],
            "passed_time": 28.38862906,
            "remaining_time": 740.4700745,
            "test": [
             0.8649954443,
             0.9533407169,
             0.5191283862
            ]
           },
           {
            "iteration": 48,
            "learn": [
             0.5197347339
            ],
            "passed_time": 28.98430545,
            "remaining_time": 739.9870638,
            "test": [
             0.8649929972,
             0.9533714987,
             0.5197347339
            ]
           },
           {
            "iteration": 49,
            "learn": [
             0.5192989214
            ],
            "passed_time": 29.55676054,
            "remaining_time": 738.9190136,
            "test": [
             0.8650357152,
             0.9534017787,
             0.5192989214
            ]
           },
           {
            "iteration": 50,
            "learn": [
             0.5195073535
            ],
            "passed_time": 30.15914974,
            "remaining_time": 738.6034907,
            "test": [
             0.8649187302,
             0.9533775594,
             0.5195073535
            ]
           },
           {
            "iteration": 51,
            "learn": [
             0.5199052692
            ],
            "passed_time": 30.75582948,
            "remaining_time": 738.1399075,
            "test": [
             0.8651342436,
             0.9535240727,
             0.5199052692
            ]
           },
           {
            "iteration": 52,
            "learn": [
             0.5201326496
            ],
            "passed_time": 31.32632409,
            "remaining_time": 737.0552101,
            "test": [
             0.8654290845,
             0.9536399697,
             0.5201326496
            ]
           },
           {
            "iteration": 53,
            "learn": [
             0.5204358234
            ],
            "passed_time": 31.9283102,
            "remaining_time": 736.7161946,
            "test": [
             0.8654643217,
             0.9536767716,
             0.5204358234
            ]
           },
           {
            "iteration": 54,
            "learn": [
             0.5204926685
            ],
            "passed_time": 32.50195136,
            "remaining_time": 735.7259899,
            "test": [
             0.8656552196,
             0.9537866078,
             0.5204926685
            ]
           },
           {
            "iteration": 55,
            "learn": [
             0.5201515979
            ],
            "passed_time": 33.09175,
            "remaining_time": 735.1095894,
            "test": [
             0.8656240723,
             0.9537871373,
             0.5201515979
            ]
           },
           {
            "iteration": 56,
            "learn": [
             0.5201705463
            ],
            "passed_time": 33.6877043,
            "remaining_time": 734.6283587,
            "test": [
             0.8655911316,
             0.9537904861,
             0.5201705463
            ]
           },
           {
            "iteration": 57,
            "learn": [
             0.5207011005
            ],
            "passed_time": 34.30883643,
            "remaining_time": 734.6823249,
            "test": [
             0.8657077225,
             0.9538818138,
             0.5207011005
            ]
           },
           {
            "iteration": 58,
            "learn": [
             0.5208337391
            ],
            "passed_time": 34.90955824,
            "remaining_time": 734.284098,
            "test": [
             0.8660710236,
             0.9540427498,
             0.5208337391
            ]
           },
           {
            "iteration": 59,
            "learn": [
             0.5211369129
            ],
            "passed_time": 35.4873223,
            "remaining_time": 733.404661,
            "test": [
             0.8658435212,
             0.9539910047,
             0.5211369129
            ]
           },
           {
            "iteration": 60,
            "learn": [
             0.5211179646
            ],
            "passed_time": 36.07370661,
            "remaining_time": 732.7102047,
            "test": [
             0.8660822398,
             0.95407924,
             0.5211179646
            ]
           },
           {
            "iteration": 61,
            "learn": [
             0.5213074482
            ],
            "passed_time": 36.65647413,
            "remaining_time": 731.9470158,
            "test": [
             0.8661206555,
             0.9541403154,
             0.5213074482
            ]
           },
           {
            "iteration": 62,
            "learn": [
             0.5216106221
            ],
            "passed_time": 37.2507537,
            "remaining_time": 731.4155925,
            "test": [
             0.8661814672,
             0.954224852,
             0.5216106221
            ]
           },
           {
            "iteration": 63,
            "learn": [
             0.5214400868
            ],
            "passed_time": 37.84357578,
            "remaining_time": 730.8540572,
            "test": [
             0.8663896542,
             0.9543242973,
             0.5214400868
            ]
           },
           {
            "iteration": 64,
            "learn": [
             0.5218001057
            ],
            "passed_time": 38.41176546,
            "remaining_time": 729.8235438,
            "test": [
             0.8661724585,
             0.9542730078,
             0.5218001057
            ]
           },
           {
            "iteration": 65,
            "learn": [
             0.5218380025
            ],
            "passed_time": 39.00603256,
            "remaining_time": 729.2946089,
            "test": [
             0.8662313153,
             0.9542934242,
             0.5218380025
            ]
           },
           {
            "iteration": 66,
            "learn": [
             0.5218569508
            ],
            "passed_time": 39.60438518,
            "remaining_time": 728.8389093,
            "test": [
             0.8663242041,
             0.9543842846,
             0.5218569508
            ]
           },
           {
            "iteration": 67,
            "learn": [
             0.5220274861
            ],
            "passed_time": 40.21713186,
            "remaining_time": 728.6398008,
            "test": [
             0.8665376051,
             0.9545019958,
             0.5220274861
            ]
           },
           {
            "iteration": 68,
            "learn": [
             0.521970641
            ],
            "passed_time": 40.8134485,
            "remaining_time": 728.1355812,
            "test": [
             0.8667584786,
             0.9546387598,
             0.521970641
            ]
           },
           {
            "iteration": 69,
            "learn": [
             0.5222548665
            ],
            "passed_time": 41.37576406,
            "remaining_time": 727.0312828,
            "test": [
             0.8667652984,
             0.9546787239,
             0.5222548665
            ]
           },
           {
            "iteration": 70,
            "learn": [
             0.5220843312
            ],
            "passed_time": 41.98557696,
            "remaining_time": 726.7644238,
            "test": [
             0.8666770426,
             0.9546608137,
             0.5220843312
            ]
           },
           {
            "iteration": 71,
            "learn": [
             0.5224254018
            ],
            "passed_time": 42.55989731,
            "remaining_time": 725.8826931,
            "test": [
             0.8667985649,
             0.9547688058,
             0.5224254018
            ]
           },
           {
            "iteration": 72,
            "learn": [
             0.5226906789
            ],
            "passed_time": 43.17185795,
            "remaining_time": 725.6420507,
            "test": [
             0.8669287748,
             0.9548743498,
             0.5226906789
            ]
           },
           {
            "iteration": 73,
            "learn": [
             0.5226527822
            ],
            "passed_time": 43.75089121,
            "remaining_time": 724.8458463,
            "test": [
             0.8669473718,
             0.9548982903,
             0.5226527822
            ]
           },
           {
            "iteration": 74,
            "learn": [
             0.5226906789
            ],
            "passed_time": 44.35819561,
            "remaining_time": 724.5171949,
            "test": [
             0.8669522925,
             0.9549206572,
             0.5226906789
            ]
           },
           {
            "iteration": 75,
            "learn": [
             0.5229559561
            ],
            "passed_time": 44.94874943,
            "remaining_time": 723.9114381,
            "test": [
             0.8669952284,
             0.954974074,
             0.5229559561
            ]
           },
           {
            "iteration": 76,
            "learn": [
             0.5231264913
            ],
            "passed_time": 45.52860788,
            "remaining_time": 723.1362004,
            "test": [
             0.8671764249,
             0.9550631418,
             0.5231264913
            ]
           },
           {
            "iteration": 77,
            "learn": [
             0.5234486135
            ],
            "passed_time": 46.13618332,
            "remaining_time": 722.8002054,
            "test": [
             0.8671488148,
             0.9550674803,
             0.5234486135
            ]
           },
           {
            "iteration": 78,
            "learn": [
             0.523524407
            ],
            "passed_time": 46.71344305,
            "remaining_time": 721.9887844,
            "test": [
             0.8672127769,
             0.9551074908,
             0.523524407
            ]
           },
           {
            "iteration": 79,
            "learn": [
             0.5235623037
            ],
            "passed_time": 47.31328163,
            "remaining_time": 721.5275448,
            "test": [
             0.8673968144,
             0.955186392,
             0.5235623037
            ]
           },
           {
            "iteration": 80,
            "learn": [
             0.5238654776
            ],
            "passed_time": 47.88552396,
            "remaining_time": 720.6475766,
            "test": [
             0.8674023696,
             0.9552135296,
             0.5238654776
            ]
           },
           {
            "iteration": 81,
            "learn": [
             0.5238465292
            ],
            "passed_time": 48.49376802,
            "remaining_time": 720.3098713,
            "test": [
             0.8673854345,
             0.9552304807,
             0.5238465292
            ]
           },
           {
            "iteration": 82,
            "learn": [
             0.5239602194
            ],
            "passed_time": 49.11505682,
            "remaining_time": 720.1569174,
            "test": [
             0.8676409592,
             0.9553571981,
             0.5239602194
            ]
           },
           {
            "iteration": 83,
            "learn": [
             0.5239223227
            ],
            "passed_time": 49.68279024,
            "remaining_time": 719.2175349,
            "test": [
             0.8673578715,
             0.9552811193,
             0.5239223227
            ]
           },
           {
            "iteration": 84,
            "learn": [
             0.5238654776
            ],
            "passed_time": 50.30060383,
            "remaining_time": 719.0027488,
            "test": [
             0.8674488987,
             0.9553315508,
             0.5238654776
            ]
           },
           {
            "iteration": 85,
            "learn": [
             0.5242065482
            ],
            "passed_time": 50.88002542,
            "remaining_time": 718.2366379,
            "test": [
             0.8676069173,
             0.9554313715,
             0.5242065482
            ]
           },
           {
            "iteration": 86,
            "learn": [
             0.5243581351
            ],
            "passed_time": 51.48254918,
            "remaining_time": 717.7969214,
            "test": [
             0.8676174357,
             0.9554513474,
             0.5243581351
            ]
           },
           {
            "iteration": 87,
            "learn": [
             0.5242065482
            ],
            "passed_time": 52.06702731,
            "remaining_time": 717.104967,
            "test": [
             0.8677994815,
             0.9555188625,
             0.5242065482
            ]
           },
           {
            "iteration": 88,
            "learn": [
             0.5239602194
            ],
            "passed_time": 52.63507854,
            "remaining_time": 716.1919114,
            "test": [
             0.8677881321,
             0.955505293,
             0.5239602194
            ]
           },
           {
            "iteration": 89,
            "learn": [
             0.5241497031
            ],
            "passed_time": 53.2360656,
            "remaining_time": 715.7293264,
            "test": [
             0.8677959673,
             0.9555052259,
             0.5241497031
            ]
           },
           {
            "iteration": 90,
            "learn": [
             0.5244149802
            ],
            "passed_time": 53.81271701,
            "remaining_time": 714.9403831,
            "test": [
             0.8676885855,
             0.9554686692,
             0.5244149802
            ]
           },
           {
            "iteration": 91,
            "learn": [
             0.524509722
            ],
            "passed_time": 54.40040359,
            "remaining_time": 714.3009515,
            "test": [
             0.8677930911,
             0.9555551301,
             0.524509722
            ]
           },
           {
            "iteration": 92,
            "learn": [
             0.5243770835
            ],
            "passed_time": 54.97856922,
            "remaining_time": 713.5390651,
            "test": [
             0.8678414424,
             0.9555808363,
             0.5243770835
            ]
           },
           {
            "iteration": 93,
            "learn": [
             0.5246423606
            ],
            "passed_time": 55.58804859,
            "remaining_time": 713.1828361,
            "test": [
             0.8678013695,
             0.9555927155,
             0.5246423606
            ]
           },
           {
            "iteration": 94,
            "learn": [
             0.5248318442
            ],
            "passed_time": 56.17601324,
            "remaining_time": 712.5483785,
            "test": [
             0.8676640369,
             0.9555533945,
             0.5248318442
            ]
           },
           {
            "iteration": 95,
            "learn": [
             0.5247939475
            ],
            "passed_time": 56.77535641,
            "remaining_time": 712.0575949,
            "test": [
             0.8678136264,
             0.9556324959,
             0.5247939475
            ]
           },
           {
            "iteration": 96,
            "learn": [
             0.5248128959
            ],
            "passed_time": 57.38805031,
            "remaining_time": 711.7301497,
            "test": [
             0.8678784796,
             0.9556656458,
             0.5248128959
            ]
           },
           {
            "iteration": 97,
            "learn": [
             0.5249455344
            ],
            "passed_time": 57.97538759,
            "remaining_time": 711.0858763,
            "test": [
             0.8678957859,
             0.9556809035,
             0.5249455344
            ]
           },
           {
            "iteration": 98,
            "learn": [
             0.5249455344
            ],
            "passed_time": 58.58393549,
            "remaining_time": 710.7000659,
            "test": [
             0.8679934156,
             0.9557282987,
             0.5249455344
            ]
           },
           {
            "iteration": 99,
            "learn": [
             0.5251918632
            ],
            "passed_time": 59.15883338,
            "remaining_time": 709.9060006,
            "test": [
             0.8680416496,
             0.9557559917,
             0.5251918632
            ]
           },
           {
            "iteration": 100,
            "learn": [
             0.5251350181
            ],
            "passed_time": 59.78017734,
            "remaining_time": 709.6676498,
            "test": [
             0.868131107,
             0.9557884504,
             0.5251350181
            ]
           },
           {
            "iteration": 101,
            "learn": [
             0.525286605
            ],
            "passed_time": 60.38064496,
            "remaining_time": 709.1765947,
            "test": [
             0.8681207218,
             0.9557897607,
             0.525286605
            ]
           },
           {
            "iteration": 102,
            "learn": [
             0.525286605
            ],
            "passed_time": 60.96237371,
            "remaining_time": 708.465644,
            "test": [
             0.8680481535,
             0.9558035897,
             0.525286605
            ]
           },
           {
            "iteration": 103,
            "learn": [
             0.5253623985
            ],
            "passed_time": 61.56087673,
            "remaining_time": 707.9500824,
            "test": [
             0.868040243,
             0.9558147091,
             0.5253623985
            ]
           },
           {
            "iteration": 104,
            "learn": [
             0.525286605
            ],
            "passed_time": 62.13776094,
            "remaining_time": 707.1868983,
            "test": [
             0.8680555573,
             0.9558364537,
             0.525286605
            ]
           },
           {
            "iteration": 105,
            "learn": [
             0.5253245018
            ],
            "passed_time": 62.76581391,
            "remaining_time": 707.003602,
            "test": [
             0.86798583,
             0.9558196592,
             0.5253245018
            ]
           },
           {
            "iteration": 106,
            "learn": [
             0.5255897789
            ],
            "passed_time": 63.33556311,
            "remaining_time": 706.1619326,
            "test": [
             0.8680416737,
             0.9558874331,
             0.5255897789
            ]
           },
           {
            "iteration": 107,
            "learn": [
             0.5254571403
            ],
            "passed_time": 63.91956703,
            "remaining_time": 705.4826287,
            "test": [
             0.8681220014,
             0.9559197757,
             0.5254571403
            ]
           },
           {
            "iteration": 108,
            "learn": [
             0.5255897789
            ],
            "passed_time": 64.52526549,
            "remaining_time": 705.0421211,
            "test": [
             0.8680000891,
             0.9558734913,
             0.5255897789
            ]
           },
           {
            "iteration": 109,
            "learn": [
             0.5258171593
            ],
            "passed_time": 65.11154948,
            "remaining_time": 704.3885807,
            "test": [
             0.8680194447,
             0.9559121464,
             0.5258171593
            ]
           },
           {
            "iteration": 110,
            "learn": [
             0.5255139854
            ],
            "passed_time": 65.71062779,
            "remaining_time": 703.8733013,
            "test": [
             0.8680073179,
             0.9559359789,
             0.5255139854
            ]
           },
           {
            "iteration": 111,
            "learn": [
             0.5253623985
            ],
            "passed_time": 66.29054792,
            "remaining_time": 703.1533119,
            "test": [
             0.8679968078,
             0.9559156324,
             0.5253623985
            ]
           },
           {
            "iteration": 112,
            "learn": [
             0.5255329338
            ],
            "passed_time": 66.89546932,
            "remaining_time": 702.6984255,
            "test": [
             0.8680149162,
             0.9559519941,
             0.5255329338
            ]
           },
           {
            "iteration": 113,
            "learn": [
             0.5257224174
            ],
            "passed_time": 67.48032603,
            "remaining_time": 702.0321638,
            "test": [
             0.868096616,
             0.9559999683,
             0.5257224174
            ]
           },
           {
            "iteration": 114,
            "learn": [
             0.5258361076
            ],
            "passed_time": 68.07076918,
            "remaining_time": 701.4248825,
            "test": [
             0.8681385751,
             0.9560385764,
             0.5258361076
            ]
           },
           {
            "iteration": 115,
            "learn": [
             0.5261013848
            ],
            "passed_time": 68.67592323,
            "remaining_time": 700.968044,
            "test": [
             0.8680454077,
             0.9560326251,
             0.5261013848
            ]
           },
           {
            "iteration": 116,
            "learn": [
             0.5263098168
            ],
            "passed_time": 69.24600742,
            "remaining_time": 700.1540751,
            "test": [
             0.8680775131,
             0.9560558934,
             0.5263098168
            ]
           },
           {
            "iteration": 117,
            "learn": [
             0.5267456292
            ],
            "passed_time": 69.84870739,
            "remaining_time": 699.6709503,
            "test": [
             0.8680584489,
             0.9560714423,
             0.5267456292
            ]
           },
           {
            "iteration": 118,
            "learn": [
             0.5267077325
            ],
            "passed_time": 70.45242566,
            "remaining_time": 699.1959219,
            "test": [
             0.868172622,
             0.9561356765,
             0.5267077325
            ]
           },
           {
            "iteration": 119,
            "learn": [
             0.5267835259
            ],
            "passed_time": 71.06794353,
            "remaining_time": 698.834778,
            "test": [
             0.8681850561,
             0.9561645231,
             0.5267835259
            ]
           },
           {
            "iteration": 120,
            "learn": [
             0.5268593194
            ],
            "passed_time": 71.67402658,
            "remaining_time": 698.3774987,
            "test": [
             0.86814776,
             0.9561765429,
             0.5268593194
            ]
           },
           {
            "iteration": 121,
            "learn": [
             0.5267835259
            ],
            "passed_time": 72.26252022,
            "remaining_time": 697.7479412,
            "test": [
             0.8680516728,
             0.9561563433,
             0.5267835259
            ]
           },
           {
            "iteration": 122,
            "learn": [
             0.5271245965
            ],
            "passed_time": 72.85392554,
            "remaining_time": 697.1469135,
            "test": [
             0.8681474135,
             0.9562155777,
             0.5271245965
            ]
           },
           {
            "iteration": 123,
            "learn": [
             0.5271624932
            ],
            "passed_time": 73.43090275,
            "remaining_time": 696.4092067,
            "test": [
             0.8682455883,
             0.9562740319,
             0.5271624932
            ]
           },
           {
            "iteration": 124,
            "learn": [
             0.5272193383
            ],
            "passed_time": 74.02701838,
            "remaining_time": 695.8539728,
            "test": [
             0.8682240958,
             0.9562612293,
             0.5272193383
            ]
           },
           {
            "iteration": 125,
            "learn": [
             0.5272382867
            ],
            "passed_time": 74.61574775,
            "remaining_time": 695.2292687,
            "test": [
             0.8683247099,
             0.9563225691,
             0.5272382867
            ]
           },
           {
            "iteration": 126,
            "learn": [
             0.5274846155
            ],
            "passed_time": 75.22708051,
            "remaining_time": 694.813901,
            "test": [
             0.8683404962,
             0.9563620956,
             0.5274846155
            ]
           },
           {
            "iteration": 127,
            "learn": [
             0.5276740991
            ],
            "passed_time": 75.8147946,
            "remaining_time": 694.179213,
            "test": [
             0.8685957547,
             0.9564813794,
             0.5276740991
            ]
           },
           {
            "iteration": 128,
            "learn": [
             0.5275604089
            ],
            "passed_time": 76.40348267,
            "remaining_time": 693.5540946,
            "test": [
             0.8686305854,
             0.9564971813,
             0.5275604089
            ]
           },
           {
            "iteration": 129,
            "learn": [
             0.5278446344
            ],
            "passed_time": 76.99508107,
            "remaining_time": 692.9557296,
            "test": [
             0.8685740053,
             0.9565042078,
             0.5278446344
            ]
           },
           {
            "iteration": 130,
            "learn": [
             0.527825686
            ],
            "passed_time": 77.56601021,
            "remaining_time": 692.1730224,
            "test": [
             0.8686477237,
             0.9565398186,
             0.527825686
            ]
           },
           {
            "iteration": 131,
            "learn": [
             0.5278067377
            ],
            "passed_time": 78.15098713,
            "remaining_time": 691.5178255,
            "test": [
             0.8686453322,
             0.9565504974,
             0.5278067377
            ]
           },
           {
            "iteration": 132,
            "learn": [
             0.527768841
            ],
            "passed_time": 78.74583746,
            "remaining_time": 690.9503182,
            "test": [
             0.8686976204,
             0.9565801995,
             0.527768841
            ]
           },
           {
            "iteration": 133,
            "learn": [
             0.5280909632
            ],
            "passed_time": 79.32954146,
            "remaining_time": 690.285413,
            "test": [
             0.8688360795,
             0.9566379959,
             0.5280909632
            ]
           },
           {
            "iteration": 134,
            "learn": [
             0.5281478083
            ],
            "passed_time": 79.91994179,
            "remaining_time": 689.6794976,
            "test": [
             0.8689375427,
             0.9567267398,
             0.5281478083
            ]
           },
           {
            "iteration": 135,
            "learn": [
             0.528185705
            ],
            "passed_time": 80.51209619,
            "remaining_time": 689.0888233,
            "test": [
             0.8689971828,
             0.9567748469,
             0.528185705
            ]
           },
           {
            "iteration": 136,
            "learn": [
             0.5282425501
            ],
            "passed_time": 81.11807215,
            "remaining_time": 688.6154592,
            "test": [
             0.869054964,
             0.9568085653,
             0.5282425501
            ]
           },
           {
            "iteration": 137,
            "learn": [
             0.5282614985
            ],
            "passed_time": 81.69474058,
            "remaining_time": 687.8933953,
            "test": [
             0.8691733958,
             0.9568794214,
             0.5282614985
            ]
           },
           {
            "iteration": 138,
            "learn": [
             0.5286215174
            ],
            "passed_time": 82.29221476,
            "remaining_time": 687.3472039,
            "test": [
             0.8691371979,
             0.9568769285,
             0.5286215174
            ]
           },
           {
            "iteration": 139,
            "learn": [
             0.5283751887
            ],
            "passed_time": 82.87010933,
            "remaining_time": 686.6380487,
            "test": [
             0.8691412056,
             0.9569191406,
             0.5283751887
            ]
           },
           {
            "iteration": 140,
            "learn": [
             0.528394137
            ],
            "passed_time": 83.45094948,
            "remaining_time": 685.9549677,
            "test": [
             0.8690876663,
             0.956899117,
             0.528394137
            ]
           },
           {
            "iteration": 141,
            "learn": [
             0.5284509821
            ],
            "passed_time": 84.07013005,
            "remaining_time": 685.5859901,
            "test": [
             0.8692752384,
             0.956987162,
             0.5284509821
            ]
           },
           {
            "iteration": 142,
            "learn": [
             0.5285836207
            ],
            "passed_time": 84.65211375,
            "remaining_time": 684.9125567,
            "test": [
             0.8692304141,
             0.9569783292,
             0.5285836207
            ]
           },
           {
            "iteration": 143,
            "learn": [
             0.5285078272
            ],
            "passed_time": 85.24649887,
            "remaining_time": 684.3399493,
            "test": [
             0.8692986472,
             0.9570135519,
             0.5285078272
            ]
           },
           {
            "iteration": 144,
            "learn": [
             0.528394137
            ],
            "passed_time": 85.81803039,
            "remaining_time": 683.5850007,
            "test": [
             0.8693061497,
             0.9570190716,
             0.528394137
            ]
           },
           {
            "iteration": 145,
            "learn": [
             0.5284509821
            ],
            "passed_time": 86.43883278,
            "remaining_time": 683.222007,
            "test": [
             0.8692518313,
             0.957005841,
             0.5284509821
            ]
           },
           {
            "iteration": 146,
            "learn": [
             0.5285836207
            ],
            "passed_time": 87.046327,
            "remaining_time": 682.7511227,
            "test": [
             0.8694021173,
             0.9570763457,
             0.5285836207
            ]
           },
           {
            "iteration": 147,
            "learn": [
             0.5285646723
            ],
            "passed_time": 87.62905683,
            "remaining_time": 682.0856316,
            "test": [
             0.8692565461,
             0.9570161603,
             0.5285646723
            ]
           },
           {
            "iteration": 148,
            "learn": [
             0.528602569
            ],
            "passed_time": 88.21262496,
            "remaining_time": 681.4277271,
            "test": [
             0.8693807724,
             0.957087486,
             0.528602569
            ]
           },
           {
            "iteration": 149,
            "learn": [
             0.5285836207
            ],
            "passed_time": 88.78953598,
            "remaining_time": 680.7197759,
            "test": [
             0.8692833262,
             0.9570480266,
             0.5285836207
            ]
           },
           {
            "iteration": 150,
            "learn": [
             0.5285267756
            ],
            "passed_time": 89.38235572,
            "remaining_time": 680.1346141,
            "test": [
             0.8692863214,
             0.9570468842,
             0.5285267756
            ]
           },
           {
            "iteration": 151,
            "learn": [
             0.5286404658
            ],
            "passed_time": 89.95108431,
            "remaining_time": 679.3673999,
            "test": [
             0.8693939297,
             0.9570770319,
             0.5286404658
            ]
           },
           {
            "iteration": 152,
            "learn": [
             0.528754156
            ],
            "passed_time": 90.56550161,
            "remaining_time": 678.9452964,
            "test": [
             0.8694113277,
             0.9571378499,
             0.528754156
            ]
           },
           {
            "iteration": 153,
            "learn": [
             0.5287920527
            ],
            "passed_time": 91.17590521,
            "remaining_time": 678.4908271,
            "test": [
             0.8695176387,
             0.9571900785,
             0.5287920527
            ]
           },
           {
            "iteration": 154,
            "learn": [
             0.5287352076
            ],
            "passed_time": 91.76307698,
            "remaining_time": 677.8627299,
            "test": [
             0.8695090523,
             0.9571966045,
             0.5287352076
            ]
           },
           {
            "iteration": 155,
            "learn": [
             0.5288110011
            ],
            "passed_time": 92.35428097,
            "remaining_time": 677.2647271,
            "test": [
             0.8694169063,
             0.9571682897,
             0.5288110011
            ]
           },
           {
            "iteration": 156,
            "learn": [
             0.5289057429
            ],
            "passed_time": 92.92661872,
            "remaining_time": 676.5294599,
            "test": [
             0.8694575455,
             0.9571923035,
             0.5289057429
            ]
           },
           {
            "iteration": 157,
            "learn": [
             0.5290952266
            ],
            "passed_time": 93.5391424,
            "remaining_time": 676.0867128,
            "test": [
             0.86946982,
             0.9572118956,
             0.5290952266
            ]
           },
           {
            "iteration": 158,
            "learn": [
             0.5292089168
            ],
            "passed_time": 94.12071672,
            "remaining_time": 675.4197345,
            "test": [
             0.8695544542,
             0.9572834417,
             0.5292089168
            ]
           },
           {
            "iteration": 159,
            "learn": [
             0.5292278651
            ],
            "passed_time": 94.72266501,
            "remaining_time": 674.8989882,
            "test": [
             0.8695701052,
             0.9573041332,
             0.5292278651
            ]
           },
           {
            "iteration": 160,
            "learn": [
             0.5292468135
            ],
            "passed_time": 95.30798037,
            "remaining_time": 674.259563,
            "test": [
             0.8694966206,
             0.9572689108,
             0.5292468135
            ]
           },
           {
            "iteration": 161,
            "learn": [
             0.5292468135
            ],
            "passed_time": 95.87628961,
            "remaining_time": 673.5013431,
            "test": [
             0.8695190527,
             0.957266261,
             0.5292468135
            ]
           },
           {
            "iteration": 162,
            "learn": [
             0.5292657619
            ],
            "passed_time": 96.45928391,
            "remaining_time": 672.8478884,
            "test": [
             0.8695757525,
             0.9573218802,
             0.5292657619
            ]
           },
           {
            "iteration": 163,
            "learn": [
             0.5293415553
            ],
            "passed_time": 97.03520067,
            "remaining_time": 672.1462681,
            "test": [
             0.8697283949,
             0.957363903,
             0.5293415553
            ]
           },
           {
            "iteration": 164,
            "learn": [
             0.5293605037
            ],
            "passed_time": 97.6472888,
            "remaining_time": 671.6949866,
            "test": [
             0.8696734839,
             0.9573476014,
             0.5293605037
            ]
           },
           {
            "iteration": 165,
            "learn": [
             0.5294173488
            ],
            "passed_time": 98.20525656,
            "remaining_time": 670.8720538,
            "test": [
             0.8695686678,
             0.9573111417,
             0.5294173488
            ]
           },
           {
            "iteration": 166,
            "learn": [
             0.5294362971
            ],
            "passed_time": 98.83357585,
            "remaining_time": 670.5295894,
            "test": [
             0.8695312728,
             0.9573288059,
             0.5294362971
            ]
           },
           {
            "iteration": 167,
            "learn": [
             0.5296257808
            ],
            "passed_time": 99.43561636,
            "remaining_time": 670.0066531,
            "test": [
             0.8696478976,
             0.9573842843,
             0.5296257808
            ]
           },
           {
            "iteration": 168,
            "learn": [
             0.5295878841
            ],
            "passed_time": 100.0057262,
            "remaining_time": 669.2690908,
            "test": [
             0.8696594401,
             0.9573922632,
             0.5295878841
            ]
           },
           {
            "iteration": 169,
            "learn": [
             0.5295499873
            ],
            "passed_time": 100.592291,
            "remaining_time": 668.6428756,
            "test": [
             0.869605966,
             0.957370176,
             0.5295499873
            ]
           },
           {
            "iteration": 170,
            "learn": [
             0.5297584194
            ],
            "passed_time": 101.1680622,
            "remaining_time": 667.9458607,
            "test": [
             0.8695684422,
             0.9573609154,
             0.5297584194
            ]
           },
           {
            "iteration": 171,
            "learn": [
             0.5297963161
            ],
            "passed_time": 101.7724051,
            "remaining_time": 667.4376332,
            "test": [
             0.8697211806,
             0.9574109742,
             0.5297963161
            ]
           },
           {
            "iteration": 172,
            "learn": [
             0.5298342128
            ],
            "passed_time": 102.336707,
            "remaining_time": 666.6674498,
            "test": [
             0.869658287,
             0.9574332393,
             0.5298342128
            ]
           },
           {
            "iteration": 173,
            "learn": [
             0.5297584194
            ],
            "passed_time": 102.9613305,
            "remaining_time": 666.2899893,
            "test": [
             0.8695967421,
             0.9574180647,
             0.5297584194
            ]
           },
           {
            "iteration": 174,
            "learn": [
             0.5297584194
            ],
            "passed_time": 103.5610583,
            "remaining_time": 665.7496604,
            "test": [
             0.8697111204,
             0.9574605118,
             0.5297584194
            ]
           },
           {
            "iteration": 175,
            "learn": [
             0.5296447292
            ],
            "passed_time": 104.1483949,
            "remaining_time": 665.1295221,
            "test": [
             0.8697758351,
             0.9575033181,
             0.5296447292
            ]
           },
           {
            "iteration": 176,
            "learn": [
             0.5297205226
            ],
            "passed_time": 104.7429628,
            "remaining_time": 664.5556343,
            "test": [
             0.8698094025,
             0.9575369065,
             0.5297205226
            ]
           },
           {
            "iteration": 177,
            "learn": [
             0.5297963161
            ],
            "passed_time": 105.3117421,
            "remaining_time": 663.8189584,
            "test": [
             0.8698439431,
             0.9575725509,
             0.5297963161
            ]
           },
           {
            "iteration": 178,
            "learn": [
             0.529947903
            ],
            "passed_time": 105.92184,
            "remaining_time": 663.3429196,
            "test": [
             0.8698921119,
             0.9575836683,
             0.529947903
            ]
           },
           {
            "iteration": 179,
            "learn": [
             0.529947903
            ],
            "passed_time": 106.4899465,
            "remaining_time": 662.6041116,
            "test": [
             0.8698464565,
             0.9575856069,
             0.529947903
            ]
           },
           {
            "iteration": 180,
            "learn": [
             0.5297773677
            ],
            "passed_time": 107.1004143,
            "remaining_time": 662.1290805,
            "test": [
             0.8698839469,
             0.9576181321,
             0.5297773677
            ]
           },
           {
            "iteration": 181,
            "learn": [
             0.5298342128
            ],
            "passed_time": 107.7108179,
            "remaining_time": 661.6521671,
            "test": [
             0.869866372,
             0.957612263,
             0.5298342128
            ]
           },
           {
            "iteration": 182,
            "learn": [
             0.5299289547
            ],
            "passed_time": 108.2741324,
            "remaining_time": 660.8863713,
            "test": [
             0.869950619,
             0.9576462696,
             0.5299289547
            ]
           },
           {
            "iteration": 183,
            "learn": [
             0.5298910579
            ],
            "passed_time": 108.8923941,
            "remaining_time": 660.4560425,
            "test": [
             0.8699576028,
             0.9576736213,
             0.5298910579
            ]
           },
           {
            "iteration": 184,
            "learn": [
             0.5301563351
            ],
            "passed_time": 109.4611243,
            "remaining_time": 659.7251544,
            "test": [
             0.8700566645,
             0.9577447414,
             0.5301563351
            ]
           },
           {
            "iteration": 185,
            "learn": [
             0.5301942318
            ],
            "passed_time": 110.068906,
            "remaining_time": 659.2298994,
            "test": [
             0.8700765773,
             0.9577685983,
             0.5301942318
            ]
           },
           {
            "iteration": 186,
            "learn": [
             0.5303268703
            ],
            "passed_time": 110.6313526,
            "remaining_time": 658.463612,
            "test": [
             0.8701317702,
             0.9578234828,
             0.5303268703
            ]
           },
           {
            "iteration": 187,
            "learn": [
             0.5301563351
            ],
            "passed_time": 111.237376,
            "remaining_time": 657.957245,
            "test": [
             0.8700863091,
             0.95780329,
             0.5301563351
            ]
           },
           {
            "iteration": 188,
            "learn": [
             0.5302131802
            ],
            "passed_time": 111.8241844,
            "remaining_time": 657.336872,
            "test": [
             0.8701145051,
             0.9578329269,
             0.5302131802
            ]
           },
           {
            "iteration": 189,
            "learn": [
             0.530307922
            ],
            "passed_time": 112.3867391,
            "remaining_time": 656.5751599,
            "test": [
             0.8703534583,
             0.9579192488,
             0.530307922
            ]
           },
           {
            "iteration": 190,
            "learn": [
             0.5300805416
            ],
            "passed_time": 112.9932371,
            "remaining_time": 656.0706803,
            "test": [
             0.8703638735,
             0.9579496309,
             0.5300805416
            ]
           },
           {
            "iteration": 191,
            "learn": [
             0.530307922
            ],
            "passed_time": 113.5498707,
            "remaining_time": 655.2773789,
            "test": [
             0.8704282879,
             0.9579966435,
             0.530307922
            ]
           },
           {
            "iteration": 192,
            "learn": [
             0.5304405606
            ],
            "passed_time": 114.1451211,
            "remaining_time": 654.7080261,
            "test": [
             0.8704182037,
             0.9580008604,
             0.5304405606
            ]
           },
           {
            "iteration": 193,
            "learn": [
             0.530307922
            ],
            "passed_time": 114.7060544,
            "remaining_time": 653.9427635,
            "test": [
             0.8704208335,
             0.9580014314,
             0.530307922
            ]
           },
           {
            "iteration": 194,
            "learn": [
             0.5302131802
            ],
            "passed_time": 115.3270041,
            "remaining_time": 653.51969,
            "test": [
             0.8704108945,
             0.9579931346,
             0.5302131802
            ]
           },
           {
            "iteration": 195,
            "learn": [
             0.5302700253
            ],
            "passed_time": 115.9636641,
            "remaining_time": 653.1830874,
            "test": [
             0.870431797,
             0.9580221482,
             0.5302700253
            ]
           },
           {
            "iteration": 196,
            "learn": [
             0.5304216122
            ],
            "passed_time": 116.5475988,
            "remaining_time": 652.5482311,
            "test": [
             0.8705151213,
             0.9580680297,
             0.5304216122
            ]
           },
           {
            "iteration": 197,
            "learn": [
             0.5303268704
            ],
            "passed_time": 117.1729215,
            "remaining_time": 652.1442401,
            "test": [
             0.8704192325,
             0.9580402963,
             0.5303268704
            ]
           },
           {
            "iteration": 198,
            "learn": [
             0.5304405606
            ],
            "passed_time": 117.761391,
            "remaining_time": 651.5341279,
            "test": [
             0.8704434265,
             0.9580486239,
             0.5304405606
            ]
           },
           {
            "iteration": 199,
            "learn": [
             0.5305921475
            ],
            "passed_time": 118.4018912,
            "remaining_time": 651.2104018,
            "test": [
             0.8704479016,
             0.9580841704,
             0.5305921475
            ]
           },
           {
            "iteration": 200,
            "learn": [
             0.5305921475
            ],
            "passed_time": 118.9694848,
            "remaining_time": 650.4848945,
            "test": [
             0.870483903,
             0.9581197146,
             0.5305921475
            ]
           },
           {
            "iteration": 201,
            "learn": [
             0.5308574246
            ],
            "passed_time": 119.5651433,
            "remaining_time": 649.9135015,
            "test": [
             0.8705612856,
             0.9581476134,
             0.5308574246
            ]
           },
           {
            "iteration": 202,
            "learn": [
             0.5307058377
            ],
            "passed_time": 120.1669672,
            "remaining_time": 649.3751875,
            "test": [
             0.8705364113,
             0.9581407706,
             0.5307058377
            ]
           },
           {
            "iteration": 203,
            "learn": [
             0.5308384762
            ],
            "passed_time": 120.7279218,
            "remaining_time": 648.6166779,
            "test": [
             0.8705076165,
             0.9581428098,
             0.5308384762
            ]
           },
           {
            "iteration": 204,
            "learn": [
             0.5309332181
            ],
            "passed_time": 121.3385678,
            "remaining_time": 648.1255207,
            "test": [
             0.8705888684,
             0.9581964389,
             0.5309332181
            ]
           },
           {
            "iteration": 205,
            "learn": [
             0.5310658566
            ],
            "passed_time": 121.9173347,
            "remaining_time": 647.4639037,
            "test": [
             0.8706079689,
             0.9582069119,
             0.5310658566
            ]
           },
           {
            "iteration": 206,
            "learn": [
             0.5309900632
            ],
            "passed_time": 122.5216242,
            "remaining_time": 646.9378516,
            "test": [
             0.870706191,
             0.9582480417,
             0.5309900632
            ]
           },
           {
            "iteration": 207,
            "learn": [
             0.5309711148
            ],
            "passed_time": 123.0953059,
            "remaining_time": 646.250356,
            "test": [
             0.8707338354,
             0.9582584865,
             0.5309711148
            ]
           },
           {
            "iteration": 208,
            "learn": [
             0.5309900632
            ],
            "passed_time": 123.7279759,
            "remaining_time": 645.8718741,
            "test": [
             0.8707474452,
             0.9582916824,
             0.5309900632
            ]
           },
           {
            "iteration": 209,
            "learn": [
             0.5311984952
            ],
            "passed_time": 124.3361555,
            "remaining_time": 645.3638549,
            "test": [
             0.8707418584,
             0.958295378,
             0.5311984952
            ]
           },
           {
            "iteration": 210,
            "learn": [
             0.5311605985
            ],
            "passed_time": 124.9037989,
            "remaining_time": 644.6456728,
            "test": [
             0.8708076243,
             0.9583512814,
             0.5311605985
            ]
           },
           {
            "iteration": 211,
            "learn": [
             0.5316343076
            ],
            "passed_time": 125.5122185,
            "remaining_time": 644.1381781,
            "test": [
             0.8706746764,
             0.958310222,
             0.5316343076
            ]
           },
           {
            "iteration": 212,
            "learn": [
             0.5313879789
            ],
            "passed_time": 126.0830479,
            "remaining_time": 643.4379016,
            "test": [
             0.8706873069,
             0.9583206733,
             0.5313879789
            ]
           },
           {
            "iteration": 213,
            "learn": [
             0.5312363919
            ],
            "passed_time": 126.6735035,
            "remaining_time": 642.8384335,
            "test": [
             0.8707263087,
             0.9583249862,
             0.5312363919
            ]
           },
           {
            "iteration": 214,
            "learn": [
             0.5314827207
            ],
            "passed_time": 127.2452785,
            "remaining_time": 642.1447775,
            "test": [
             0.8707378127,
             0.9583368345,
             0.5314827207
            ]
           },
           {
            "iteration": 215,
            "learn": [
             0.531293237
            ],
            "passed_time": 127.842875,
            "remaining_time": 641.5818358,
            "test": [
             0.870817271,
             0.9583687665,
             0.531293237
            ]
           },
           {
            "iteration": 216,
            "learn": [
             0.5315395658
            ],
            "passed_time": 128.4509586,
            "remaining_time": 641.0709132,
            "test": [
             0.8707776733,
             0.9583680605,
             0.5315395658
            ]
           },
           {
            "iteration": 217,
            "learn": [
             0.5315774625
            ],
            "passed_time": 129.0130444,
            "remaining_time": 640.3307982,
            "test": [
             0.8707969849,
             0.9583749729,
             0.5315774625
            ]
           },
           {
            "iteration": 218,
            "learn": [
             0.5314827207
            ],
            "passed_time": 129.6238865,
            "remaining_time": 639.8329742,
            "test": [
             0.8708366072,
             0.9584137571,
             0.5314827207
            ]
           },
           {
            "iteration": 219,
            "learn": [
             0.5314827207
            ],
            "passed_time": 130.1984283,
            "remaining_time": 639.1559207,
            "test": [
             0.8708270717,
             0.9584107114,
             0.5314827207
            ]
           },
           {
            "iteration": 220,
            "learn": [
             0.5314827207
            ],
            "passed_time": 130.8045792,
            "remaining_time": 638.6341219,
            "test": [
             0.8708134668,
             0.9584263352,
             0.5314827207
            ]
           },
           {
            "iteration": 221,
            "learn": [
             0.5314637723
            ],
            "passed_time": 131.3694334,
            "remaining_time": 637.9110326,
            "test": [
             0.8707612068,
             0.9584124936,
             0.5314637723
            ]
           },
           {
            "iteration": 222,
            "learn": [
             0.5316343076
            ],
            "passed_time": 131.9808759,
            "remaining_time": 637.414365,
            "test": [
             0.8708461306,
             0.9584558102,
             0.5316343076
            ]
           },
           {
            "iteration": 223,
            "learn": [
             0.5315964109
            ],
            "passed_time": 132.6004434,
            "remaining_time": 636.9557015,
            "test": [
             0.8708998563,
             0.9585078681,
             0.5315964109
            ]
           },
           {
            "iteration": 224,
            "learn": [
             0.5318048429
            ],
            "passed_time": 133.1790331,
            "remaining_time": 636.2998247,
            "test": [
             0.8708461637,
             0.9584893258,
             0.5318048429
            ]
           },
           {
            "iteration": 225,
            "learn": [
             0.5318237913
            ],
            "passed_time": 133.8097976,
            "remaining_time": 635.892578,
            "test": [
             0.8708866875,
             0.9585166812,
             0.5318237913
            ]
           },
           {
            "iteration": 226,
            "learn": [
             0.5320511717
            ],
            "passed_time": 134.3980677,
            "remaining_time": 635.2824961,
            "test": [
             0.8709843378,
             0.9585846562,
             0.5320511717
            ]
           },
           {
            "iteration": 227,
            "learn": [
             0.5319753782
            ],
            "passed_time": 134.9968047,
            "remaining_time": 634.7218184,
            "test": [
             0.8710202003,
             0.9585911947,
             0.5319753782
            ]
           },
           {
            "iteration": 228,
            "learn": [
             0.5320132749
            ],
            "passed_time": 135.5868576,
            "remaining_time": 634.1201943,
            "test": [
             0.8709676347,
             0.958572705,
             0.5320132749
            ]
           },
           {
            "iteration": 229,
            "learn": [
             0.5320132749
            ],
            "passed_time": 136.1783055,
            "remaining_time": 633.5251602,
            "test": [
             0.8710423796,
             0.9586127538,
             0.5320132749
            ]
           },
           {
            "iteration": 230,
            "learn": [
             0.5321080167
            ],
            "passed_time": 136.787218,
            "remaining_time": 633.0109787,
            "test": [
             0.871233534,
             0.9587295354,
             0.5321080167
            ]
           },
           {
            "iteration": 231,
            "learn": [
             0.532278552
            ],
            "passed_time": 137.3726661,
            "remaining_time": 632.3879629,
            "test": [
             0.87123538,
             0.9587349646,
             0.532278552
            ]
           },
           {
            "iteration": 232,
            "learn": [
             0.5322596037
            ],
            "passed_time": 137.9759495,
            "remaining_time": 631.8469447,
            "test": [
             0.8712653946,
             0.9587518589,
             0.5322596037
            ]
           },
           {
            "iteration": 233,
            "learn": [
             0.5321269651
            ],
            "passed_time": 138.5532867,
            "remaining_time": 631.1871951,
            "test": [
             0.8713049542,
             0.9587964752,
             0.5321269651
            ]
           },
           {
            "iteration": 234,
            "learn": [
             0.5323164488
            ],
            "passed_time": 139.1798259,
            "remaining_time": 630.751126,
            "test": [
             0.8714473124,
             0.958868308,
             0.5323164488
            ]
           },
           {
            "iteration": 235,
            "learn": [
             0.5323922422
            ],
            "passed_time": 139.7762146,
            "remaining_time": 630.1775099,
            "test": [
             0.8713827214,
             0.9588542903,
             0.5323922422
            ]
           },
           {
            "iteration": 236,
            "learn": [
             0.5325248808
            ],
            "passed_time": 140.3577834,
            "remaining_time": 629.5372309,
            "test": [
             0.8714037455,
             0.9588812652,
             0.5325248808
            ]
           },
           {
            "iteration": 237,
            "learn": [
             0.5325817259
            ],
            "passed_time": 140.9516961,
            "remaining_time": 628.9525264,
            "test": [
             0.8714592064,
             0.9589162419,
             0.5325817259
            ]
           },
           {
            "iteration": 238,
            "learn": [
             0.5326954161
            ],
            "passed_time": 141.5362759,
            "remaining_time": 628.3263127,
            "test": [
             0.8714031374,
             0.9589000968,
             0.5326954161
            ]
           },
           {
            "iteration": 239,
            "learn": [
             0.5328280547
            ],
            "passed_time": 142.1322893,
            "remaining_time": 627.7509442,
            "test": [
             0.8714104659,
             0.958922856,
             0.5328280547
            ]
           },
           {
            "iteration": 240,
            "learn": [
             0.5327333128
            ],
            "passed_time": 142.7019888,
            "remaining_time": 627.0597766,
            "test": [
             0.871380551,
             0.9589218827,
             0.5327333128
            ]
           },
           {
            "iteration": 241,
            "learn": [
             0.5327522612
            ],
            "passed_time": 143.304949,
            "remaining_time": 626.515025,
            "test": [
             0.8713958896,
             0.9589553621,
             0.5327522612
            ]
           },
           {
            "iteration": 242,
            "learn": [
             0.5326575194
            ],
            "passed_time": 143.9022066,
            "remaining_time": 625.9449893,
            "test": [
             0.8714066901,
             0.9589570933,
             0.5326575194
            ]
           },
           {
            "iteration": 243,
            "learn": [
             0.5326006743
            ],
            "passed_time": 144.5140061,
            "remaining_time": 625.4376658,
            "test": [
             0.8714984077,
             0.9589999125,
             0.5326006743
            ]
           },
           {
            "iteration": 244,
            "learn": [
             0.5327143645
            ],
            "passed_time": 145.1031167,
            "remaining_time": 624.8317884,
            "test": [
             0.8715335231,
             0.959017197,
             0.5327143645
            ]
           },
           {
            "iteration": 245,
            "learn": [
             0.5327333128
            ],
            "passed_time": 145.6829074,
            "remaining_time": 624.1861153,
            "test": [
             0.8715507024,
             0.9590402036,
             0.5327333128
            ]
           },
           {
            "iteration": 246,
            "learn": [
             0.5327712096
            ],
            "passed_time": 146.2860635,
            "remaining_time": 623.6405864,
            "test": [
             0.8715667059,
             0.9590478133,
             0.5327712096
            ]
           },
           {
            "iteration": 247,
            "learn": [
             0.532847003
            ],
            "passed_time": 146.8890874,
            "remaining_time": 623.0940322,
            "test": [
             0.8716210692,
             0.959085996,
             0.532847003
            ]
           },
           {
            "iteration": 248,
            "learn": [
             0.5330554351
            ],
            "passed_time": 147.5289647,
            "remaining_time": 622.702578,
            "test": [
             0.8716618147,
             0.9591169605,
             0.5330554351
            ]
           },
           {
            "iteration": 249,
            "learn": [
             0.5331880736
            ],
            "passed_time": 148.2213031,
            "remaining_time": 622.529473,
            "test": [
             0.8715882853,
             0.9590944026,
             0.5331880736
            ]
           },
           {
            "iteration": 250,
            "learn": [
             0.5331691253
            ],
            "passed_time": 148.8349093,
            "remaining_time": 622.0231869,
            "test": [
             0.8715903137,
             0.9591150062,
             0.5331691253
            ]
           },
           {
            "iteration": 251,
            "learn": [
             0.5329796416
            ],
            "passed_time": 149.5104701,
            "remaining_time": 621.7737012,
            "test": [
             0.8715726609,
             0.9591140622,
             0.5329796416
            ]
           },
           {
            "iteration": 252,
            "learn": [
             0.5330554351
            ],
            "passed_time": 150.1720147,
            "remaining_time": 621.4628434,
            "test": [
             0.871526586,
             0.9590892819,
             0.5330554351
            ]
           },
           {
            "iteration": 253,
            "learn": [
             0.5332449187
            ],
            "passed_time": 150.8220436,
            "remaining_time": 621.1018016,
            "test": [
             0.8716561916,
             0.959161398,
             0.5332449187
            ]
           },
           {
            "iteration": 254,
            "learn": [
             0.5332259704
            ],
            "passed_time": 151.462023,
            "remaining_time": 620.6973099,
            "test": [
             0.8715795839,
             0.9591316944,
             0.5332259704
            ]
           },
           {
            "iteration": 255,
            "learn": [
             0.5331312285
            ],
            "passed_time": 152.1045855,
            "remaining_time": 620.3015127,
            "test": [
             0.871610228,
             0.9591503967,
             0.5331312285
            ]
           },
           {
            "iteration": 256,
            "learn": [
             0.5330364867
            ],
            "passed_time": 152.7434252,
            "remaining_time": 619.8886865,
            "test": [
             0.8716679722,
             0.9591876294,
             0.5330364867
            ]
           },
           {
            "iteration": 257,
            "learn": [
             0.5331312285
            ],
            "passed_time": 153.3710852,
            "remaining_time": 619.4289567,
            "test": [
             0.8717886599,
             0.9592509719,
             0.5331312285
            ]
           },
           {
            "iteration": 258,
            "learn": [
             0.5333775573
            ],
            "passed_time": 153.9918349,
            "remaining_time": 618.940155,
            "test": [
             0.8717822881,
             0.9592644739,
             0.5333775573
            ]
           },
           {
            "iteration": 259,
            "learn": [
             0.5334912475
            ],
            "passed_time": 154.6267086,
            "remaining_time": 618.5068344,
            "test": [
             0.8718933077,
             0.9593108309,
             0.5334912475
            ]
           },
           {
            "iteration": 260,
            "learn": [
             0.5335859893
            ],
            "passed_time": 155.1972977,
            "remaining_time": 617.8160625,
            "test": [
             0.8718810679,
             0.9593160753,
             0.5335859893
            ]
           },
           {
            "iteration": 261,
            "learn": [
             0.5335101958
            ],
            "passed_time": 155.8104457,
            "remaining_time": 617.294819,
            "test": [
             0.8719322657,
             0.9593396943,
             0.5335101958
            ]
           },
           {
            "iteration": 262,
            "learn": [
             0.5335291442
            ],
            "passed_time": 156.3731401,
            "remaining_time": 616.5739402,
            "test": [
             0.8719073168,
             0.9593410285,
             0.5335291442
            ]
           },
           {
            "iteration": 263,
            "learn": [
             0.5333965056
            ],
            "passed_time": 156.9976482,
            "remaining_time": 616.0968316,
            "test": [
             0.8719023662,
             0.9593409274,
             0.5333965056
            ]
           },
           {
            "iteration": 264,
            "learn": [
             0.5334912475
            ],
            "passed_time": 157.6111576,
            "remaining_time": 615.5756534,
            "test": [
             0.8719119231,
             0.9593630627,
             0.5334912475
            ]
           },
           {
            "iteration": 265,
            "learn": [
             0.5335670409
            ],
            "passed_time": 158.1729728,
            "remaining_time": 614.8528343,
            "test": [
             0.8719050272,
             0.9593596281,
             0.5335670409
            ]
           },
           {
            "iteration": 266,
            "learn": [
             0.5337375762
            ],
            "passed_time": 158.7830333,
            "remaining_time": 614.3178778,
            "test": [
             0.8718697601,
             0.9593566306,
             0.5337375762
            ]
           },
           {
            "iteration": 267,
            "learn": [
             0.5337944213
            ],
            "passed_time": 159.3420214,
            "remaining_time": 613.5856943,
            "test": [
             0.8719284712,
             0.9593777986,
             0.5337944213
            ]
           },
           {
            "iteration": 268,
            "learn": [
             0.533983905
            ],
            "passed_time": 159.9594449,
            "remaining_time": 613.0787646,
            "test": [
             0.8719073677,
             0.9593738788,
             0.533983905
            ]
           },
           {
            "iteration": 269,
            "learn": [
             0.5338323181
            ],
            "passed_time": 160.5121806,
            "remaining_time": 612.3242445,
            "test": [
             0.8718830635,
             0.959376897,
             0.5338323181
            ]
           },
           {
            "iteration": 270,
            "learn": [
             0.5338133697
            ],
            "passed_time": 161.1193762,
            "remaining_time": 611.7780005,
            "test": [
             0.8719161152,
             0.9593980416,
             0.5338133697
            ]
           },
           {
            "iteration": 271,
            "learn": [
             0.5337565246
            ],
            "passed_time": 161.7133957,
            "remaining_time": 611.1815101,
            "test": [
             0.8718878243,
             0.9594013709,
             0.5337565246
            ]
           },
           {
            "iteration": 272,
            "learn": [
             0.5338512664
            ],
            "passed_time": 162.284866,
            "remaining_time": 610.5002102,
            "test": [
             0.8718857252,
             0.959403487,
             0.5338512664
            ]
           },
           {
            "iteration": 273,
            "learn": [
             0.533983905
            ],
            "passed_time": 162.9068828,
            "remaining_time": 610.0089846,
            "test": [
             0.8720198379,
             0.9594823279,
             0.533983905
            ]
           },
           {
            "iteration": 274,
            "learn": [
             0.5340028534
            ],
            "passed_time": 163.4714027,
            "remaining_time": 609.3025011,
            "test": [
             0.8720048688,
             0.9594676438,
             0.5340028534
            ]
           },
           {
            "iteration": 275,
            "learn": [
             0.5341354919
            ],
            "passed_time": 164.0825198,
            "remaining_time": 608.7699286,
            "test": [
             0.8720864044,
             0.9595031787,
             0.5341354919
            ]
           },
           {
            "iteration": 276,
            "learn": [
             0.5340596985
            ],
            "passed_time": 164.6433623,
            "remaining_time": 608.0511179,
            "test": [
             0.8720147099,
             0.9594815069,
             0.5340596985
            ]
           },
           {
            "iteration": 277,
            "learn": [
             0.5340218017
            ],
            "passed_time": 165.2423354,
            "remaining_time": 607.4736213,
            "test": [
             0.872036105,
             0.9594910208,
             0.5340218017
            ]
           },
           {
            "iteration": 278,
            "learn": [
             0.5340218017
            ],
            "passed_time": 165.8235953,
            "remaining_time": 606.8311499,
            "test": [
             0.8721133605,
             0.9595396267,
             0.5340218017
            ]
           },
           {
            "iteration": 279,
            "learn": [
             0.5340786468
            ],
            "passed_time": 166.4293713,
            "remaining_time": 606.278424,
            "test": [
             0.8722024247,
             0.9596010606,
             0.5340786468
            ]
           },
           {
            "iteration": 280,
            "learn": [
             0.5340975952
            ],
            "passed_time": 167.0554577,
            "remaining_time": 605.7989729,
            "test": [
             0.8722024045,
             0.9595871688,
             0.5340975952
            ]
           },
           {
            "iteration": 281,
            "learn": [
             0.5340596985
            ],
            "passed_time": 167.6185319,
            "remaining_time": 605.0910121,
            "test": [
             0.8721634112,
             0.9595848639,
             0.5340596985
            ]
           },
           {
            "iteration": 282,
            "learn": [
             0.534192337
            ],
            "passed_time": 168.2198393,
            "remaining_time": 604.5214719,
            "test": [
             0.8722966793,
             0.9596452464,
             0.534192337
            ]
           },
           {
            "iteration": 283,
            "learn": [
             0.5342491821
            ],
            "passed_time": 168.8018029,
            "remaining_time": 603.8825062,
            "test": [
             0.8723056217,
             0.9596619066,
             0.5342491821
            ]
           },
           {
            "iteration": 284,
            "learn": [
             0.5343060272
            ],
            "passed_time": 169.4308693,
            "remaining_time": 603.4116925,
            "test": [
             0.8723317548,
             0.9596927775,
             0.5343060272
            ]
           },
           {
            "iteration": 285,
            "learn": [
             0.5343628723
            ],
            "passed_time": 170.011764,
            "remaining_time": 602.7689813,
            "test": [
             0.8724149366,
             0.959731596,
             0.5343628723
            ]
           },
           {
            "iteration": 286,
            "learn": [
             0.5344197174
            ],
            "passed_time": 170.6031972,
            "remaining_time": 602.163898,
            "test": [
             0.8724318167,
             0.9597542094,
             0.5344197174
            ]
           },
           {
            "iteration": 287,
            "learn": [
             0.5344386658
            ],
            "passed_time": 171.2415225,
            "remaining_time": 601.7236833,
            "test": [
             0.8725260471,
             0.9598024254,
             0.5344386658
            ]
           },
           {
            "iteration": 288,
            "learn": [
             0.5345144593
            ],
            "passed_time": 171.8005041,
            "remaining_time": 601.0045316,
            "test": [
             0.8725740175,
             0.9598183643,
             0.5345144593
            ]
           },
           {
            "iteration": 289,
            "learn": [
             0.5345713044
            ],
            "passed_time": 172.4077072,
            "remaining_time": 600.4544285,
            "test": [
             0.8726856007,
             0.9598698949,
             0.5345713044
            ]
           },
           {
            "iteration": 290,
            "learn": [
             0.5345902527
            ],
            "passed_time": 172.9737356,
            "remaining_time": 599.7611655,
            "test": [
             0.8727292586,
             0.9598944415,
             0.5345902527
            ]
           },
           {
            "iteration": 291,
            "learn": [
             0.5345902527
            ],
            "passed_time": 173.5819159,
            "remaining_time": 599.214285,
            "test": [
             0.8727393569,
             0.9598944488,
             0.5345902527
            ]
           },
           {
            "iteration": 292,
            "learn": [
             0.5345902527
            ],
            "passed_time": 174.1523628,
            "remaining_time": 598.5373016,
            "test": [
             0.8726434582,
             0.9598689657,
             0.5345902527
            ]
           },
           {
            "iteration": 293,
            "learn": [
             0.5345713043
            ],
            "passed_time": 174.7919106,
            "remaining_time": 598.0974901,
            "test": [
             0.872678006,
             0.9598900148,
             0.5345713043
            ]
           },
           {
            "iteration": 294,
            "learn": [
             0.5345902527
            ],
            "passed_time": 175.4085094,
            "remaining_time": 597.5781423,
            "test": [
             0.8726333276,
             0.9598743244,
             0.5345902527
            ]
           },
           {
            "iteration": 295,
            "learn": [
             0.5346092011
            ],
            "passed_time": 175.9705308,
            "remaining_time": 596.8730165,
            "test": [
             0.8726612809,
             0.9598925068,
             0.5346092011
            ]
           },
           {
            "iteration": 296,
            "learn": [
             0.5347039429
            ],
            "passed_time": 176.5894205,
            "remaining_time": 596.3609049,
            "test": [
             0.872680628,
             0.9599031518,
             0.5347039429
            ]
           },
           {
            "iteration": 297,
            "learn": [
             0.5346092011
            ],
            "passed_time": 177.1616801,
            "remaining_time": 595.6912867,
            "test": [
             0.8727155356,
             0.9599281176,
             0.5346092011
            ]
           },
           {
            "iteration": 298,
            "learn": [
             0.5348934266
            ],
            "passed_time": 177.771009,
            "remaining_time": 595.1464214,
            "test": [
             0.872768397,
             0.959956396,
             0.5348934266
            ]
           },
           {
            "iteration": 299,
            "learn": [
             0.5349123749
            ],
            "passed_time": 178.3380684,
            "remaining_time": 594.4602281,
            "test": [
             0.872767172,
             0.9599683238,
             0.5349123749
            ]
           },
           {
            "iteration": 300,
            "learn": [
             0.5349881684
            ],
            "passed_time": 178.9511487,
            "remaining_time": 593.9275667,
            "test": [
             0.8728125664,
             0.9599690842,
             0.5349881684
            ]
           },
           {
            "iteration": 301,
            "learn": [
             0.5350829102
            ],
            "passed_time": 179.5757512,
            "remaining_time": 593.4324492,
            "test": [
             0.8728384495,
             0.9599999926,
             0.5350829102
            ]
           },
           {
            "iteration": 302,
            "learn": [
             0.5349313233
            ],
            "passed_time": 180.1522481,
            "remaining_time": 592.7781893,
            "test": [
             0.872851405,
             0.9599914947,
             0.5349313233
            ]
           },
           {
            "iteration": 303,
            "learn": [
             0.5349313233
            ],
            "passed_time": 180.7780148,
            "remaining_time": 592.2858644,
            "test": [
             0.8729035407,
             0.9600180297,
             0.5349313233
            ]
           },
           {
            "iteration": 304,
            "learn": [
             0.5350450135
            ],
            "passed_time": 181.3529981,
            "remaining_time": 591.6269937,
            "test": [
             0.8729134452,
             0.9600336162,
             0.5350450135
            ]
           },
           {
            "iteration": 305,
            "learn": [
             0.535177652
            ],
            "passed_time": 181.9670602,
            "remaining_time": 591.0956137,
            "test": [
             0.8728578649,
             0.9600372916,
             0.535177652
            ]
           },
           {
            "iteration": 306,
            "learn": [
             0.5351587037
            ],
            "passed_time": 182.5446814,
            "remaining_time": 590.4458263,
            "test": [
             0.8729040461,
             0.9600562061,
             0.5351587037
            ]
           },
           {
            "iteration": 307,
            "learn": [
             0.5351018586
            ],
            "passed_time": 183.1581016,
            "remaining_time": 589.9118078,
            "test": [
             0.8728957143,
             0.9600535551,
             0.5351018586
            ]
           },
           {
            "iteration": 308,
            "learn": [
             0.5353481873
            ],
            "passed_time": 183.7384097,
            "remaining_time": 589.271081,
            "test": [
             0.872918884,
             0.9600919351,
             0.5353481873
            ]
           },
           {
            "iteration": 309,
            "learn": [
             0.5354429292
            ],
            "passed_time": 184.3264128,
            "remaining_time": 588.6553184,
            "test": [
             0.8729162863,
             0.9600862867,
             0.5354429292
            ]
           },
           {
            "iteration": 310,
            "learn": [
             0.5355945161
            ],
            "passed_time": 184.9661799,
            "remaining_time": 588.2043471,
            "test": [
             0.8729731168,
             0.9601248485,
             0.5355945161
            ]
           },
           {
            "iteration": 311,
            "learn": [
             0.5356513612
            ],
            "passed_time": 185.5421096,
            "remaining_time": 587.5500138,
            "test": [
             0.8730837247,
             0.9601837459,
             0.5356513612
            ]
           },
           {
            "iteration": 312,
            "learn": [
             0.5358218965
            ],
            "passed_time": 186.1559012,
            "remaining_time": 587.0155735,
            "test": [
             0.8731476857,
             0.9602505376,
             0.5358218965
            ]
           },
           {
            "iteration": 313,
            "learn": [
             0.5357650514
            ],
            "passed_time": 186.7166934,
            "remaining_time": 586.3142028,
            "test": [
             0.8730887552,
             0.9602299554,
             0.5357650514
            ]
           },
           {
            "iteration": 314,
            "learn": [
             0.5356892579
            ],
            "passed_time": 187.3486714,
            "remaining_time": 585.8363218,
            "test": [
             0.8731357338,
             0.9602494635,
             0.5356892579
            ]
           },
           {
            "iteration": 315,
            "learn": [
             0.5357271546
            ],
            "passed_time": 187.9055594,
            "remaining_time": 585.1236405,
            "test": [
             0.8731638709,
             0.9602592135,
             0.5357271546
            ]
           },
           {
            "iteration": 316,
            "learn": [
             0.5357082063
            ],
            "passed_time": 188.5348204,
            "remaining_time": 584.6363672,
            "test": [
             0.8731629485,
             0.9602602534,
             0.5357082063
            ]
           },
           {
            "iteration": 317,
            "learn": [
             0.5358597932
            ],
            "passed_time": 189.1631096,
            "remaining_time": 584.1452001,
            "test": [
             0.8732757579,
             0.960329672,
             0.5358597932
            ]
           },
           {
            "iteration": 318,
            "learn": [
             0.5358408448
            ],
            "passed_time": 189.7209108,
            "remaining_time": 583.4364059,
            "test": [
             0.8732664571,
             0.9603385564,
             0.5358408448
            ]
           },
           {
            "iteration": 319,
            "learn": [
             0.5358787416
            ],
            "passed_time": 190.3383795,
            "remaining_time": 582.9112872,
            "test": [
             0.8732245127,
             0.960318894,
             0.5358787416
            ]
           },
           {
            "iteration": 320,
            "learn": [
             0.5357650514
            ],
            "passed_time": 190.9078721,
            "remaining_time": 582.2392735,
            "test": [
             0.8732287636,
             0.9603344304,
             0.5357650514
            ]
           },
           {
            "iteration": 321,
            "learn": [
             0.535746103
            ],
            "passed_time": 191.5358229,
            "remaining_time": 581.7454498,
            "test": [
             0.8732961574,
             0.960394284,
             0.535746103
            ]
           },
           {
            "iteration": 322,
            "learn": [
             0.5359166383
            ],
            "passed_time": 192.0945838,
            "remaining_time": 581.0415119,
            "test": [
             0.8733114749,
             0.9604012755,
             0.5359166383
            ]
           },
           {
            "iteration": 323,
            "learn": [
             0.53589769
            ],
            "passed_time": 192.7209645,
            "remaining_time": 580.5421647,
            "test": [
             0.8732294176,
             0.9603680475,
             0.53589769
            ]
           },
           {
            "iteration": 324,
            "learn": [
             0.53589769
            ],
            "passed_time": 193.3607432,
            "remaining_time": 580.0822295,
            "test": [
             0.8732349981,
             0.9603741398,
             0.53589769
            ]
           },
           {
            "iteration": 325,
            "learn": [
             0.5359355867
            ],
            "passed_time": 193.9216492,
            "remaining_time": 579.3855408,
            "test": [
             0.8733740042,
             0.9604604695,
             0.5359355867
            ]
           },
           {
            "iteration": 326,
            "learn": [
             0.5360113801
            ],
            "passed_time": 194.5641262,
            "remaining_time": 578.9324001,
            "test": [
             0.8734406646,
             0.9604871968,
             0.5360113801
            ]
           },
           {
            "iteration": 327,
            "learn": [
             0.5359734834
            ],
            "passed_time": 195.1267914,
            "remaining_time": 578.241589,
            "test": [
             0.8734305245,
             0.9605090656,
             0.5359734834
            ]
           },
           {
            "iteration": 328,
            "learn": [
             0.5359166383
            ],
            "passed_time": 195.7457625,
            "remaining_time": 577.7177367,
            "test": [
             0.8733328123,
             0.9604756516,
             0.5359166383
            ]
           },
           {
            "iteration": 329,
            "learn": [
             0.5359355867
            ],
            "passed_time": 196.323001,
            "remaining_time": 577.0706393,
            "test": [
             0.8733233734,
             0.9604739603,
             0.5359355867
            ]
           },
           {
            "iteration": 330,
            "learn": [
             0.5360492769
            ],
            "passed_time": 196.9645782,
            "remaining_time": 576.612315,
            "test": [
             0.8733813138,
             0.9605107942,
             0.5360492769
            ]
           },
           {
            "iteration": 331,
            "learn": [
             0.5360682252
            ],
            "passed_time": 197.5862279,
            "remaining_time": 576.094785,
            "test": [
             0.8734474095,
             0.9605503069,
             0.5360682252
            ]
           },
           {
            "iteration": 332,
            "learn": [
             0.5360871736
            ],
            "passed_time": 198.1433095,
            "remaining_time": 575.38913,
            "test": [
             0.8735489888,
             0.9606058748,
             0.5360871736
            ]
           },
           {
            "iteration": 333,
            "learn": [
             0.5360682252
            ],
            "passed_time": 198.7651163,
            "remaining_time": 574.871564,
            "test": [
             0.8735510562,
             0.9606115212,
             0.5360682252
            ]
           },
           {
            "iteration": 334,
            "learn": [
             0.5362387605
            ],
            "passed_time": 199.3370946,
            "remaining_time": 574.2098397,
            "test": [
             0.873579176,
             0.9606424604,
             0.5362387605
            ]
           },
           {
            "iteration": 335,
            "learn": [
             0.5363524507
            ],
            "passed_time": 199.9391559,
            "remaining_time": 573.6349591,
            "test": [
             0.8736270184,
             0.9606698132,
             0.5363524507
            ]
           },
           {
            "iteration": 336,
            "learn": [
             0.5364661409
            ],
            "passed_time": 200.5169799,
            "remaining_time": 572.9906576,
            "test": [
             0.8736899203,
             0.9607029504,
             0.5364661409
            ]
           },
           {
            "iteration": 337,
            "learn": [
             0.5365419344
            ],
            "passed_time": 201.129378,
            "remaining_time": 572.4451528,
            "test": [
             0.8735941843,
             0.9606621574,
             0.5365419344
            ]
           },
           {
            "iteration": 338,
            "learn": [
             0.5365608828
            ],
            "passed_time": 201.7489118,
            "remaining_time": 571.9194815,
            "test": [
             0.8735604518,
             0.9606424737,
             0.5365608828
            ]
           },
           {
            "iteration": 339,
            "learn": [
             0.5365798311
            ],
            "passed_time": 202.3078219,
            "remaining_time": 571.2220853,
            "test": [
             0.8735947622,
             0.9606593734,
             0.5365798311
            ]
           },
           {
            "iteration": 340,
            "learn": [
             0.5367124697
            ],
            "passed_time": 202.937032,
            "remaining_time": 570.7232073,
            "test": [
             0.8735841108,
             0.9606561895,
             0.5367124697
            ]
           },
           {
            "iteration": 341,
            "learn": [
             0.5367882632
            ],
            "passed_time": 203.5207292,
            "remaining_time": 570.0960778,
            "test": [
             0.8735690873,
             0.9606561514,
             0.5367882632
            ]
           },
           {
            "iteration": 342,
            "learn": [
             0.5366935213
            ],
            "passed_time": 204.145583,
            "remaining_time": 569.5840319,
            "test": [
             0.87357433,
             0.9606672966,
             0.5366935213
            ]
           },
           {
            "iteration": 343,
            "learn": [
             0.5366935213
            ],
            "passed_time": 204.7195911,
            "remaining_time": 568.9300265,
            "test": [
             0.8736008846,
             0.9606888067,
             0.5366935213
            ]
           },
           {
            "iteration": 344,
            "learn": [
             0.5365987795
            ],
            "passed_time": 205.3709289,
            "remaining_time": 568.4905422,
            "test": [
             0.8736946461,
             0.9607382593,
             0.5365987795
            ]
           },
           {
            "iteration": 345,
            "learn": [
             0.5367314181
            ],
            "passed_time": 205.9936011,
            "remaining_time": 567.9707962,
            "test": [
             0.8737504569,
             0.9607616369,
             0.5367314181
            ]
           },
           {
            "iteration": 346,
            "learn": [
             0.5367882632
            ],
            "passed_time": 206.5801612,
            "remaining_time": 567.3512784,
            "test": [
             0.8738083877,
             0.9607885067,
             0.5367882632
            ]
           },
           {
            "iteration": 347,
            "learn": [
             0.5368451082
            ],
            "passed_time": 207.1809209,
            "remaining_time": 566.7707952,
            "test": [
             0.8738263874,
             0.9608030383,
             0.5368451082
            ]
           },
           {
            "iteration": 348,
            "learn": [
             0.536883005
            ],
            "passed_time": 207.7590194,
            "remaining_time": 566.1284453,
            "test": [
             0.8738750003,
             0.9608418065,
             0.536883005
            ]
           },
           {
            "iteration": 349,
            "learn": [
             0.536883005
            ],
            "passed_time": 208.3838889,
            "remaining_time": 565.6134129,
            "test": [
             0.8738496484,
             0.9608311662,
             0.536883005
            ]
           },
           {
            "iteration": 350,
            "learn": [
             0.5369966952
            ],
            "passed_time": 208.9462464,
            "remaining_time": 564.9287403,
            "test": [
             0.873905712,
             0.9608718679,
             0.5369966952
            ]
           },
           {
            "iteration": 351,
            "learn": [
             0.5369019533
            ],
            "passed_time": 209.5968231,
            "remaining_time": 564.4823532,
            "test": [
             0.8739490532,
             0.960898119,
             0.5369019533
            ]
           },
           {
            "iteration": 352,
            "learn": [
             0.5370535403
            ],
            "passed_time": 210.1911479,
            "remaining_time": 563.883901,
            "test": [
             0.8738797188,
             0.9608761516,
             0.5370535403
            ]
           },
           {
            "iteration": 353,
            "learn": [
             0.5372240756
            ],
            "passed_time": 210.7729967,
            "remaining_time": 563.2521323,
            "test": [
             0.8739298161,
             0.9609080968,
             0.5372240756
            ]
           },
           {
            "iteration": 354,
            "learn": [
             0.537299869
            ],
            "passed_time": 211.3857716,
            "remaining_time": 562.7029696,
            "test": [
             0.8740344618,
             0.960960965,
             0.537299869
            ]
           },
           {
            "iteration": 355,
            "learn": [
             0.5372809207
            ],
            "passed_time": 211.9560931,
            "remaining_time": 562.0408761,
            "test": [
             0.8742599303,
             0.9610360148,
             0.5372809207
            ]
           },
           {
            "iteration": 356,
            "learn": [
             0.5373756625
            ],
            "passed_time": 212.5835962,
            "remaining_time": 561.5303396,
            "test": [
             0.8742048392,
             0.9610401958,
             0.5373756625
            ]
           },
           {
            "iteration": 357,
            "learn": [
             0.5373756625
            ],
            "passed_time": 213.1412364,
            "remaining_time": 560.8353205,
            "test": [
             0.8742352695,
             0.9610500593,
             0.5373756625
            ]
           },
           {
            "iteration": 358,
            "learn": [
             0.5374704043
            ],
            "passed_time": 213.779613,
            "remaining_time": 560.3526903,
            "test": [
             0.8742063073,
             0.9610582196,
             0.5374704043
            ]
           },
           {
            "iteration": 359,
            "learn": [
             0.5373946109
            ],
            "passed_time": 214.4028997,
            "remaining_time": 559.8297937,
            "test": [
             0.8742072647,
             0.9610612759,
             0.5373946109
            ]
           },
           {
            "iteration": 360,
            "learn": [
             0.5373567141
            ],
            "passed_time": 214.986169,
            "remaining_time": 559.2022512,
            "test": [
             0.874147796,
             0.9610510186,
             0.5373567141
            ]
           },
           {
            "iteration": 361,
            "learn": [
             0.5373567141
            ],
            "passed_time": 215.6467685,
            "remaining_time": 558.7753284,
            "test": [
             0.8740294096,
             0.9610212559,
             0.5373567141
            ]
           },
           {
            "iteration": 362,
            "learn": [
             0.5376409396
            ],
            "passed_time": 216.2196788,
            "remaining_time": 558.1207688,
            "test": [
             0.8740439642,
             0.9610452678,
             0.5376409396
            ]
           },
           {
            "iteration": 363,
            "learn": [
             0.5376788364
            ],
            "passed_time": 216.8471576,
            "remaining_time": 557.6069766,
            "test": [
             0.8740660767,
             0.9610687882,
             0.5376788364
            ]
           },
           {
            "iteration": 364,
            "learn": [
             0.5377546298
            ],
            "passed_time": 217.4100678,
            "remaining_time": 556.92716,
            "test": [
             0.8740924588,
             0.9610866316,
             0.5377546298
            ]
           },
           {
            "iteration": 365,
            "learn": [
             0.5376409396
            ],
            "passed_time": 218.0480092,
            "remaining_time": 556.4394551,
            "test": [
             0.8743117305,
             0.961189932,
             0.5376409396
            ]
           },
           {
            "iteration": 366,
            "learn": [
             0.537659888
            ],
            "passed_time": 218.68383,
            "remaining_time": 555.9455407,
            "test": [
             0.8742835937,
             0.9611872831,
             0.537659888
            ]
           },
           {
            "iteration": 367,
            "learn": [
             0.5375272494
            ],
            "passed_time": 219.2495626,
            "remaining_time": 555.2733487,
            "test": [
             0.8742824598,
             0.9611978104,
             0.5375272494
            ]
           },
           {
            "iteration": 368,
            "learn": [
             0.5374704043
            ],
            "passed_time": 219.9216234,
            "remaining_time": 554.8700036,
            "test": [
             0.8743291835,
             0.9612258851,
             0.5374704043
            ]
           },
           {
            "iteration": 369,
            "learn": [
             0.5375083011
            ],
            "passed_time": 220.4935663,
            "remaining_time": 554.2135584,
            "test": [
             0.8742588615,
             0.9612046375,
             0.5375083011
            ]
           },
           {
            "iteration": 370,
            "learn": [
             0.5375651461
            ],
            "passed_time": 221.1155827,
            "remaining_time": 553.6829551,
            "test": [
             0.8742767216,
             0.9612178061,
             0.5375651461
            ]
           },
           {
            "iteration": 371,
            "learn": [
             0.5376977847
            ],
            "passed_time": 221.6942837,
            "remaining_time": 553.0438044,
            "test": [
             0.8744085351,
             0.9612750164,
             0.5376977847
            ]
           },
           {
            "iteration": 372,
            "learn": [
             0.5377546298
            ],
            "passed_time": 222.331188,
            "remaining_time": 552.5496282,
            "test": [
             0.8745207946,
             0.9613287003,
             0.5377546298
            ]
           },
           {
            "iteration": 373,
            "learn": [
             0.5379062167
            ],
            "passed_time": 222.9264895,
            "remaining_time": 551.9516827,
            "test": [
             0.8746676206,
             0.9613866731,
             0.5379062167
            ]
           },
           {
            "iteration": 374,
            "learn": [
             0.5378493716
            ],
            "passed_time": 223.4846474,
            "remaining_time": 551.2621303,
            "test": [
             0.8746118,
             0.9613737996,
             0.5378493716
            ]
           },
           {
            "iteration": 375,
            "learn": [
             0.5376977847
            ],
            "passed_time": 224.0983731,
            "remaining_time": 550.7098317,
            "test": [
             0.8747350984,
             0.9614363383,
             0.5376977847
            ]
           },
           {
            "iteration": 376,
            "learn": [
             0.5376788363
            ],
            "passed_time": 224.6644212,
            "remaining_time": 550.0404794,
            "test": [
             0.874697199,
             0.9614314629,
             0.5376788363
            ]
           },
           {
            "iteration": 377,
            "learn": [
             0.5377356814
            ],
            "passed_time": 225.280896,
            "remaining_time": 549.4946722,
            "test": [
             0.8746861374,
             0.9614313266,
             0.5377356814
            ]
           },
           {
            "iteration": 378,
            "learn": [
             0.5377925265
            ],
            "passed_time": 225.8512177,
            "remaining_time": 548.8363365,
            "test": [
             0.8746873434,
             0.9614366353,
             0.5377925265
            ]
           },
           {
            "iteration": 379,
            "learn": [
             0.5380578037
            ],
            "passed_time": 226.4612979,
            "remaining_time": 548.2747211,
            "test": [
             0.8746472162,
             0.9614155533,
             0.5380578037
            ]
           },
           {
            "iteration": 380,
            "learn": [
             0.5379820102
            ],
            "passed_time": 227.0460052,
            "remaining_time": 547.6516502,
            "test": [
             0.874721737,
             0.96145145,
             0.5379820102
            ]
           },
           {
            "iteration": 381,
            "learn": [
             0.5380578037
            ],
            "passed_time": 227.6530054,
            "remaining_time": 547.0823532,
            "test": [
             0.8747098006,
             0.9614653817,
             0.5380578037
            ]
           },
           {
            "iteration": 382,
            "learn": [
             0.5379630618
            ],
            "passed_time": 228.2672569,
            "remaining_time": 546.5302209,
            "test": [
             0.874766391,
             0.9614988845,
             0.5379630618
            ]
           },
           {
            "iteration": 383,
            "learn": [
             0.5380199069
            ],
            "passed_time": 228.8460141,
            "remaining_time": 545.8930962,
            "test": [
             0.8748224272,
             0.9615284859,
             0.5380199069
            ]
           },
           {
            "iteration": 384,
            "learn": [
             0.5380578037
            ],
            "passed_time": 229.4582194,
            "remaining_time": 545.3357681,
            "test": [
             0.8747397615,
             0.9615097634,
             0.5380578037
            ]
           },
           {
            "iteration": 385,
            "learn": [
             0.5380578037
            ],
            "passed_time": 230.0455789,
            "remaining_time": 544.7193241,
            "test": [
             0.8748034924,
             0.9615396596,
             0.5380578037
            ]
           },
           {
            "iteration": 386,
            "learn": [
             0.5379820102
            ],
            "passed_time": 230.7006746,
            "remaining_time": 544.2628319,
            "test": [
             0.874737452,
             0.9615209362,
             0.5379820102
            ]
           },
           {
            "iteration": 387,
            "learn": [
             0.5379251651
            ],
            "passed_time": 231.3379167,
            "remaining_time": 543.7633506,
            "test": [
             0.8746552895,
             0.9615018357,
             0.5379251651
            ]
           },
           {
            "iteration": 388,
            "learn": [
             0.5379062167
            ],
            "passed_time": 231.9462216,
            "remaining_time": 543.1953929,
            "test": [
             0.8746383952,
             0.9615104965,
             0.5379062167
            ]
           },
           {
            "iteration": 389,
            "learn": [
             0.5379251651
            ],
            "passed_time": 232.5760923,
            "remaining_time": 542.6775488,
            "test": [
             0.8747066855,
             0.9615530848,
             0.5379251651
            ]
           },
           {
            "iteration": 390,
            "learn": [
             0.5379630618
            ],
            "passed_time": 233.1678102,
            "remaining_time": 542.0704335,
            "test": [
             0.8747259311,
             0.9615623503,
             0.5379630618
            ]
           },
           {
            "iteration": 391,
            "learn": [
             0.5379441135
            ],
            "passed_time": 233.8083737,
            "remaining_time": 541.576539,
            "test": [
             0.8746916738,
             0.9615559813,
             0.5379441135
            ]
           },
           {
            "iteration": 392,
            "learn": [
             0.5380957004
            ],
            "passed_time": 234.4291163,
            "remaining_time": 541.0361539,
            "test": [
             0.8746955258,
             0.9615687558,
             0.5380957004
            ]
           },
           {
            "iteration": 393,
            "learn": [
             0.5381146488
            ],
            "passed_time": 235.0525426,
            "remaining_time": 540.5015319,
            "test": [
             0.8746998506,
             0.9615874829,
             0.5381146488
            ]
           },
           {
            "iteration": 394,
            "learn": [
             0.5383420292
            ],
            "passed_time": 235.6734611,
            "remaining_time": 539.9607147,
            "test": [
             0.8747237463,
             0.9616049464,
             0.5383420292
            ]
           },
           {
            "iteration": 395,
            "learn": [
             0.5384557193
            ],
            "passed_time": 236.2648714,
            "remaining_time": 539.3521307,
            "test": [
             0.8747505976,
             0.9616312647,
             0.5384557193
            ]
           },
           {
            "iteration": 396,
            "learn": [
             0.5384557193
            ],
            "passed_time": 236.9092304,
            "remaining_time": 538.8640682,
            "test": [
             0.874810156,
             0.9616545654,
             0.5384557193
            ]
           },
           {
            "iteration": 397,
            "learn": [
             0.5384746677
            ],
            "passed_time": 237.4921813,
            "remaining_time": 538.236049,
            "test": [
             0.8747986381,
             0.96165814,
             0.5384746677
            ]
           },
           {
            "iteration": 398,
            "learn": [
             0.5384936161
            ],
            "passed_time": 238.1525966,
            "remaining_time": 537.7831819,
            "test": [
             0.8748065502,
             0.9616783548,
             0.5384936161
            ]
           },
           {
            "iteration": 399,
            "learn": [
             0.538436771
            ],
            "passed_time": 238.7700032,
            "remaining_time": 537.2325072,
            "test": [
             0.8748352657,
             0.9616962513,
             0.538436771
            ]
           },
           {
            "iteration": 400,
            "learn": [
             0.5384557193
            ],
            "passed_time": 239.3521654,
            "remaining_time": 536.6024854,
            "test": [
             0.8749617717,
             0.9617461688,
             0.5384557193
            ]
           },
           {
            "iteration": 401,
            "learn": [
             0.538436771
            ],
            "passed_time": 239.9894222,
            "remaining_time": 536.095774,
            "test": [
             0.8749883142,
             0.9617601514,
             0.538436771
            ]
           },
           {
            "iteration": 402,
            "learn": [
             0.5384746677
            ],
            "passed_time": 240.5692202,
            "remaining_time": 535.4605225,
            "test": [
             0.874979839,
             0.961764916,
             0.5384746677
            ]
           },
           {
            "iteration": 403,
            "learn": [
             0.5384936161
            ],
            "passed_time": 241.1850915,
            "remaining_time": 534.9055494,
            "test": [
             0.8749862773,
             0.9617790405,
             0.5384936161
            ]
           },
           {
            "iteration": 404,
            "learn": [
             0.5384936161
            ],
            "passed_time": 241.7515842,
            "remaining_time": 534.2411552,
            "test": [
             0.8749670033,
             0.9617821003,
             0.5384936161
            ]
           },
           {
            "iteration": 405,
            "learn": [
             0.5384936161
            ],
            "passed_time": 242.4261348,
            "remaining_time": 533.8151835,
            "test": [
             0.8749391128,
             0.9617794039,
             0.5384936161
            ]
           },
           {
            "iteration": 406,
            "learn": [
             0.5385315128
            ],
            "passed_time": 243.0674401,
            "remaining_time": 533.3150468,
            "test": [
             0.8749138125,
             0.9617983276,
             0.5385315128
            ]
           },
           {
            "iteration": 407,
            "learn": [
             0.5386830997
            ],
            "passed_time": 243.6567816,
            "remaining_time": 532.7006109,
            "test": [
             0.874969144,
             0.9618201065,
             0.5386830997
            ]
           },
           {
            "iteration": 408,
            "learn": [
             0.5386073063
            ],
            "passed_time": 244.2977213,
            "remaining_time": 532.1987034,
            "test": [
             0.8749440414,
             0.9618070872,
             0.5386073063
            ]
           },
           {
            "iteration": 409,
            "learn": [
             0.5387209965
            ],
            "passed_time": 244.8771067,
            "remaining_time": 531.5624998,
            "test": [
             0.8749946042,
             0.961831081,
             0.5387209965
            ]
           },
           {
            "iteration": 410,
            "learn": [
             0.5387209965
            ],
            "passed_time": 245.5388446,
            "remaining_time": 531.1047027,
            "test": [
             0.8749880591,
             0.961834972,
             0.5387209965
            ]
           },
           {
            "iteration": 411,
            "learn": [
             0.5386641514
            ],
            "passed_time": 246.175393,
            "remaining_time": 530.5916238,
            "test": [
             0.8749847935,
             0.9618398563,
             0.5386641514
            ]
           },
           {
            "iteration": 412,
            "learn": [
             0.5387399448
            ],
            "passed_time": 246.7713998,
            "remaining_time": 529.9908756,
            "test": [
             0.8749937124,
             0.9618501752,
             0.5387399448
            ]
           },
           {
            "iteration": 413,
            "learn": [
             0.5388157383
            ],
            "passed_time": 247.4325995,
            "remaining_time": 529.5296695,
            "test": [
             0.8749897815,
             0.9618782632,
             0.5388157383
            ]
           },
           {
            "iteration": 414,
            "learn": [
             0.5387778416
            ],
            "passed_time": 248.0566199,
            "remaining_time": 528.9882135,
            "test": [
             0.8750051318,
             0.9618846144,
             0.5387778416
            ]
           },
           {
            "iteration": 415,
            "learn": [
             0.5387967899
            ],
            "passed_time": 248.746577,
            "remaining_time": 528.5864762,
            "test": [
             0.8750119488,
             0.9618906816,
             0.5387967899
            ]
           },
           {
            "iteration": 416,
            "learn": [
             0.5388157383
            ],
            "passed_time": 249.3602984,
            "remaining_time": 528.0219267,
            "test": [
             0.8750910838,
             0.9619257389,
             0.5388157383
            ]
           },
           {
            "iteration": 417,
            "learn": [
             0.5388725834
            ],
            "passed_time": 249.9531801,
            "remaining_time": 527.4131695,
            "test": [
             0.8751119243,
             0.9619387727,
             0.5388725834
            ]
           },
           {
            "iteration": 418,
            "learn": [
             0.539005222
            ],
            "passed_time": 250.5831187,
            "remaining_time": 526.8824048,
            "test": [
             0.8751194633,
             0.9619493196,
             0.539005222
            ]
           },
           {
            "iteration": 419,
            "learn": [
             0.5390620671
            ],
            "passed_time": 251.1577249,
            "remaining_time": 526.2352331,
            "test": [
             0.8751320875,
             0.9619819987,
             0.5390620671
            ]
           },
           {
            "iteration": 420,
            "learn": [
             0.5390999638
            ],
            "passed_time": 251.8717615,
            "remaining_time": 525.879521,
            "test": [
             0.8752197257,
             0.9620222851,
             0.5390999638
            ]
           },
           {
            "iteration": 421,
            "learn": [
             0.5393652409
            ],
            "passed_time": 252.4571467,
            "remaining_time": 525.2544426,
            "test": [
             0.8752286328,
             0.9620386504,
             0.5393652409
            ]
           },
           {
            "iteration": 422,
            "learn": [
             0.5393083958
            ],
            "passed_time": 253.0772914,
            "remaining_time": 524.7016183,
            "test": [
             0.8752262541,
             0.9620396967,
             0.5393083958
            ]
           },
           {
            "iteration": 423,
            "learn": [
             0.5392894474
            ],
            "passed_time": 253.7059008,
            "remaining_time": 524.1659648,
            "test": [
             0.8751251191,
             0.9620088759,
             0.5392894474
            ]
           },
           {
            "iteration": 424,
            "learn": [
             0.5393273442
            ],
            "passed_time": 254.2699696,
            "remaining_time": 523.4969961,
            "test": [
             0.8751556368,
             0.9620267807,
             0.5393273442
            ]
           },
           {
            "iteration": 425,
            "learn": [
             0.539422086
            ],
            "passed_time": 254.904337,
            "remaining_time": 522.9727478,
            "test": [
             0.8752934295,
             0.9621038737,
             0.539422086
            ]
           },
           {
            "iteration": 426,
            "learn": [
             0.5392894474
            ],
            "passed_time": 255.475151,
            "remaining_time": 522.3180488,
            "test": [
             0.8753040031,
             0.962103257,
             0.5392894474
            ]
           },
           {
            "iteration": 427,
            "learn": [
             0.539422086
            ],
            "passed_time": 256.127832,
            "remaining_time": 521.8305363,
            "test": [
             0.8752884089,
             0.9621067911,
             0.539422086
            ]
           },
           {
            "iteration": 428,
            "learn": [
             0.5395547246
            ],
            "passed_time": 256.7050131,
            "remaining_time": 521.188966,
            "test": [
             0.8753326433,
             0.9621322516,
             0.5395547246
            ]
           },
           {
            "iteration": 429,
            "learn": [
             0.5396684148
            ],
            "passed_time": 257.3352089,
            "remaining_time": 520.6549575,
            "test": [
             0.8753693274,
             0.9621612297,
             0.5396684148
            ]
           },
           {
            "iteration": 430,
            "learn": [
             0.5396494664
            ],
            "passed_time": 257.9639916,
            "remaining_time": 520.1176535,
            "test": [
             0.8754416754,
             0.962213332,
             0.5396494664
            ]
           },
           {
            "iteration": 431,
            "learn": [
             0.5396115697
            ],
            "passed_time": 258.5393779,
            "remaining_time": 519.4726389,
            "test": [
             0.8753796958,
             0.9621870397,
             0.5396115697
            ]
           },
           {
            "iteration": 432,
            "learn": [
             0.5397063115
            ],
            "passed_time": 259.1598988,
            "remaining_time": 518.9183193,
            "test": [
             0.8753556597,
             0.9622015171,
             0.5397063115
            ]
           },
           {
            "iteration": 433,
            "learn": [
             0.5398578984
            ],
            "passed_time": 259.7371489,
            "remaining_time": 518.2773524,
            "test": [
             0.8755110167,
             0.9622771332,
             0.5398578984
            ]
           },
           {
            "iteration": 434,
            "learn": [
             0.5398578984
            ],
            "passed_time": 260.3608193,
            "remaining_time": 517.7289855,
            "test": [
             0.8755151896,
             0.9622849658,
             0.5398578984
            ]
           },
           {
            "iteration": 435,
            "learn": [
             0.5399715886
            ],
            "passed_time": 260.9525957,
            "remaining_time": 517.1170704,
            "test": [
             0.875537959,
             0.9623044677,
             0.5399715886
            ]
           },
           {
            "iteration": 436,
            "learn": [
             0.5399526403
            ],
            "passed_time": 261.5553424,
            "remaining_time": 516.5269118,
            "test": [
             0.8755903641,
             0.9623287476,
             0.5399526403
            ]
           },
           {
            "iteration": 437,
            "learn": [
             0.5399526403
            ],
            "passed_time": 262.1667828,
            "remaining_time": 515.9538055,
            "test": [
             0.8755652078,
             0.9623369997,
             0.5399526403
            ]
           },
           {
            "iteration": 438,
            "learn": [
             0.5400094854
            ],
            "passed_time": 262.7507471,
            "remaining_time": 515.3266362,
            "test": [
             0.8755778715,
             0.9623484868,
             0.5400094854
            ]
           },
           {
            "iteration": 439,
            "learn": [
             0.539990537
            ],
            "passed_time": 263.3856961,
            "remaining_time": 514.7993151,
            "test": [
             0.8756114436,
             0.9623715917,
             0.539990537
            ]
           },
           {
            "iteration": 440,
            "learn": [
             0.5400094854
            ],
            "passed_time": 263.9837032,
            "remaining_time": 514.1995488,
            "test": [
             0.8756422109,
             0.9623894245,
             0.5400094854
            ]
           },
           {
            "iteration": 441,
            "learn": [
             0.5400852788
            ],
            "passed_time": 264.6121121,
            "remaining_time": 513.6588059,
            "test": [
             0.8756590193,
             0.9624139753,
             0.5400852788
            ]
           },
           {
            "iteration": 442,
            "learn": [
             0.5402179174
            ],
            "passed_time": 265.174916,
            "remaining_time": 512.9907516,
            "test": [
             0.8756403591,
             0.9624265053,
             0.5402179174
            ]
           },
           {
            "iteration": 443,
            "learn": [
             0.5401421239
            ],
            "passed_time": 265.7886141,
            "remaining_time": 512.4212921,
            "test": [
             0.8757884397,
             0.9624836992,
             0.5401421239
            ]
           },
           {
            "iteration": 444,
            "learn": [
             0.5402558141
            ],
            "passed_time": 266.4284263,
            "remaining_time": 511.9018078,
            "test": [
             0.8757973954,
             0.9624955997,
             0.5402558141
            ]
           },
           {
            "iteration": 445,
            "learn": [
             0.5402937108
            ],
            "passed_time": 267.0182221,
            "remaining_time": 511.2860127,
            "test": [
             0.8758264471,
             0.9625245574,
             0.5402937108
            ]
           },
           {
            "iteration": 446,
            "learn": [
             0.5403884527
            ],
            "passed_time": 267.6354135,
            "remaining_time": 510.7226123,
            "test": [
             0.8758278996,
             0.9625309208,
             0.5403884527
            ]
           },
           {
            "iteration": 447,
            "learn": [
             0.5404263494
            ],
            "passed_time": 268.2102948,
            "remaining_time": 510.0785071,
            "test": [
             0.8759057022,
             0.9625658605,
             0.5404263494
            ]
           },
           {
            "iteration": 448,
            "learn": [
             0.5402179174
            ],
            "passed_time": 268.8401831,
            "remaining_time": 509.5389661,
            "test": [
             0.875915567,
             0.9625726268,
             0.5402179174
            ]
           },
           {
            "iteration": 449,
            "learn": [
             0.5404263494
            ],
            "passed_time": 269.3954451,
            "remaining_time": 508.858063,
            "test": [
             0.8759661971,
             0.9626249353,
             0.5404263494
            ]
           },
           {
            "iteration": 450,
            "learn": [
             0.5404452978
            ],
            "passed_time": 270.0829413,
            "remaining_time": 508.4266456,
            "test": [
             0.8760532214,
             0.9626660814,
             0.5404452978
            ]
           },
           {
            "iteration": 451,
            "learn": [
             0.5404642461
            ],
            "passed_time": 270.702506,
            "remaining_time": 507.8666484,
            "test": [
             0.8761164648,
             0.9627069834,
             0.5404642461
            ]
           },
           {
            "iteration": 452,
            "learn": [
             0.5406158331
            ],
            "passed_time": 271.2569542,
            "remaining_time": 507.1846362,
            "test": [
             0.8761065154,
             0.9627074396,
             0.5406158331
            ]
           },
           {
            "iteration": 453,
            "learn": [
             0.5405779363
            ],
            "passed_time": 271.8691713,
            "remaining_time": 506.6108347,
            "test": [
             0.8760615397,
             0.9626977109,
             0.5405779363
            ]
           },
           {
            "iteration": 454,
            "learn": [
             0.5405779363
            ],
            "passed_time": 272.4345246,
            "remaining_time": 505.9498314,
            "test": [
             0.8760213596,
             0.96268036,
             0.5405779363
            ]
           },
           {
            "iteration": 455,
            "learn": [
             0.5406726782
            ],
            "passed_time": 273.0698212,
            "remaining_time": 505.4187042,
            "test": [
             0.8760370021,
             0.9626834986,
             0.5406726782
            ]
           },
           {
            "iteration": 456,
            "learn": [
             0.5406916265
            ],
            "passed_time": 273.6496635,
            "remaining_time": 504.7848279,
            "test": [
             0.8759693059,
             0.9626626178,
             0.5406916265
            ]
           },
           {
            "iteration": 457,
            "learn": [
             0.5406347814
            ],
            "passed_time": 274.2728278,
            "remaining_time": 504.2308319,
            "test": [
             0.8759421493,
             0.9626718317,
             0.5406347814
            ]
           },
           {
            "iteration": 458,
            "learn": [
             0.5405968847
            ],
            "passed_time": 274.8611311,
            "remaining_time": 503.6126608,
            "test": [
             0.8759582849,
             0.9626789173,
             0.5405968847
            ]
           },
           {
            "iteration": 459,
            "learn": [
             0.5406916265
            ],
            "passed_time": 275.4545147,
            "remaining_time": 503.0038964,
            "test": [
             0.8759577169,
             0.9626942773,
             0.5406916265
            ]
           },
           {
            "iteration": 460,
            "learn": [
             0.5408621618
            ],
            "passed_time": 276.074938,
            "remaining_time": 502.4444099,
            "test": [
             0.8760125352,
             0.9627115954,
             0.5408621618
            ]
           },
           {
            "iteration": 461,
            "learn": [
             0.5410705938
            ],
            "passed_time": 276.6476908,
            "remaining_time": 501.7981925,
            "test": [
             0.8760533305,
             0.9627539825,
             0.5410705938
            ]
           },
           {
            "iteration": 462,
            "learn": [
             0.5410705938
            ],
            "passed_time": 277.2971353,
            "remaining_time": 501.2909336,
            "test": [
             0.8760528936,
             0.962756382,
             0.5410705938
            ]
           },
           {
            "iteration": 463,
            "learn": [
             0.5411463873
            ],
            "passed_time": 277.8749136,
            "remaining_time": 500.6539391,
            "test": [
             0.8761582614,
             0.9628171925,
             0.5411463873
            ]
           },
           {
            "iteration": 464,
            "learn": [
             0.541184284
            ],
            "passed_time": 278.5140983,
            "remaining_time": 500.1274669,
            "test": [
             0.8761967134,
             0.9628408758,
             0.541184284
            ]
           },
           {
            "iteration": 465,
            "learn": [
             0.5412600775
            ],
            "passed_time": 279.0951497,
            "remaining_time": 499.4964696,
            "test": [
             0.876179411,
             0.9628468047,
             0.5412600775
            ]
           },
           {
            "iteration": 466,
            "learn": [
             0.5412979742
            ],
            "passed_time": 279.7275373,
            "remaining_time": 498.957256,
            "test": [
             0.8762014478,
             0.9628712602,
             0.5412979742
            ]
           },
           {
            "iteration": 467,
            "learn": [
             0.5412979742
            ],
            "passed_time": 280.3801254,
            "remaining_time": 498.4535563,
            "test": [
             0.8761518762,
             0.9628580411,
             0.5412979742
            ]
           },
           {
            "iteration": 468,
            "learn": [
             0.5412221808
            ],
            "passed_time": 281.0209501,
            "remaining_time": 497.9283786,
            "test": [
             0.8762508581,
             0.9629002701,
             0.5412221808
            ]
           },
           {
            "iteration": 469,
            "learn": [
             0.5412411291
            ],
            "passed_time": 281.6288946,
            "remaining_time": 497.3446436,
            "test": [
             0.8762817668,
             0.9629149889,
             0.5412411291
            ]
           },
           {
            "iteration": 470,
            "learn": [
             0.541184284
            ],
            "passed_time": 282.1958251,
            "remaining_time": 496.6886179,
            "test": [
             0.8763074791,
             0.9629236686,
             0.541184284
            ]
           },
           {
            "iteration": 471,
            "learn": [
             0.5412979742
            ],
            "passed_time": 282.8208475,
            "remaining_time": 496.1348766,
            "test": [
             0.8762874162,
             0.9629145819,
             0.5412979742
            ]
           },
           {
            "iteration": 472,
            "learn": [
             0.5413548193
            ],
            "passed_time": 283.3824105,
            "remaining_time": 495.4698805,
            "test": [
             0.87623109,
             0.9628868757,
             0.5413548193
            ]
           },
           {
            "iteration": 473,
            "learn": [
             0.5413548193
            ],
            "passed_time": 284.047466,
            "remaining_time": 494.9856686,
            "test": [
             0.8762893948,
             0.9629350717,
             0.5413548193
            ]
           },
           {
            "iteration": 474,
            "learn": [
             0.5412221808
            ],
            "passed_time": 284.6704315,
            "remaining_time": 494.4275916,
            "test": [
             0.8763604039,
             0.9629639553,
             0.5412221808
            ]
           },
           {
            "iteration": 475,
            "learn": [
             0.5412221808
            ],
            "passed_time": 285.260359,
            "remaining_time": 493.81205,
            "test": [
             0.8763076194,
             0.9629537989,
             0.5412221808
            ]
           },
           {
            "iteration": 476,
            "learn": [
             0.5412790259
            ],
            "passed_time": 285.8855798,
            "remaining_time": 493.2575098,
            "test": [
             0.8763334853,
             0.9629713084,
             0.5412790259
            ]
           },
           {
            "iteration": 477,
            "learn": [
             0.5412790259
            ],
            "passed_time": 286.4568067,
            "remaining_time": 492.6098223,
            "test": [
             0.8762537305,
             0.9629482723,
             0.5412790259
            ]
           },
           {
            "iteration": 478,
            "learn": [
             0.5412979742
            ],
            "passed_time": 287.1058141,
            "remaining_time": 492.0957691,
            "test": [
             0.8763833986,
             0.9630103343,
             0.5412979742
            ]
           },
           {
            "iteration": 479,
            "learn": [
             0.5412979742
            ],
            "passed_time": 287.6657468,
            "remaining_time": 491.4289842,
            "test": [
             0.876413626,
             0.9630405715,
             0.5412979742
            ]
           },
           {
            "iteration": 480,
            "learn": [
             0.5414685095
            ],
            "passed_time": 288.2873229,
            "remaining_time": 490.8676038,
            "test": [
             0.8764550526,
             0.9630634773,
             0.5414685095
            ]
           },
           {
            "iteration": 481,
            "learn": [
             0.5414874579
            ],
            "passed_time": 288.894497,
            "remaining_time": 490.2815322,
            "test": [
             0.876417718,
             0.9630560573,
             0.5414874579
            ]
           },
           {
            "iteration": 482,
            "learn": [
             0.5416390448
            ],
            "passed_time": 289.4885543,
            "remaining_time": 489.6731861,
            "test": [
             0.8763961652,
             0.9630578351,
             0.5416390448
            ]
           },
           {
            "iteration": 483,
            "learn": [
             0.5417337867
            ],
            "passed_time": 290.1337137,
            "remaining_time": 489.1510544,
            "test": [
             0.8764030018,
             0.9630758669,
             0.5417337867
            ]
           },
           {
            "iteration": 484,
            "learn": [
             0.5419232703
            ],
            "passed_time": 290.7063205,
            "remaining_time": 488.5064973,
            "test": [
             0.8763989393,
             0.9630773162,
             0.5419232703
            ]
           },
           {
            "iteration": 485,
            "learn": [
             0.5418474769
            ],
            "passed_time": 291.3553819,
            "remaining_time": 487.9902898,
            "test": [
             0.876460191,
             0.9631141111,
             0.5418474769
            ]
           },
           {
            "iteration": 486,
            "learn": [
             0.5419232703
            ],
            "passed_time": 291.9152939,
            "remaining_time": 487.3247104,
            "test": [
             0.8764068935,
             0.9630968874,
             0.5419232703
            ]
           },
           {
            "iteration": 487,
            "learn": [
             0.5417716834
            ],
            "passed_time": 292.5597573,
            "remaining_time": 486.8002518,
            "test": [
             0.8764192324,
             0.9631012172,
             0.5417716834
            ]
           },
           {
            "iteration": 488,
            "learn": [
             0.5418285285
            ],
            "passed_time": 293.1623413,
            "remaining_time": 486.2058462,
            "test": [
             0.8764205691,
             0.9631083629,
             0.5418285285
            ]
           },
           {
            "iteration": 489,
            "learn": [
             0.5417906318
            ],
            "passed_time": 293.7410384,
            "remaining_time": 485.5719206,
            "test": [
             0.8763962342,
             0.9630967714,
             0.5417906318
            ]
           },
           {
            "iteration": 490,
            "learn": [
             0.5417148383
            ],
            "passed_time": 294.3575279,
            "remaining_time": 485.000489,
            "test": [
             0.876453335,
             0.9631253512,
             0.5417148383
            ]
           },
           {
            "iteration": 491,
            "learn": [
             0.5416200965
            ],
            "passed_time": 294.9409259,
            "remaining_time": 484.3745287,
            "test": [
             0.8764603135,
             0.9631302134,
             0.5416200965
            ]
           },
           {
            "iteration": 492,
            "learn": [
             0.5416390448
            ],
            "passed_time": 295.582108,
            "remaining_time": 483.8433288,
            "test": [
             0.8765243238,
             0.9631780457,
             0.5416390448
            ]
           },
           {
            "iteration": 493,
            "learn": [
             0.5416390448
            ],
            "passed_time": 296.1502556,
            "remaining_time": 483.1925222,
            "test": [
             0.8765001777,
             0.9631730483,
             0.5416390448
            ]
           },
           {
            "iteration": 494,
            "learn": [
             0.5418474768
            ],
            "passed_time": 296.8284723,
            "remaining_time": 482.7210509,
            "test": [
             0.8764877217,
             0.9631679951,
             0.5418474768
            ]
           },
           {
            "iteration": 495,
            "learn": [
             0.5418853736
            ],
            "passed_time": 297.4382036,
            "remaining_time": 482.1377333,
            "test": [
             0.876489628,
             0.9631703557,
             0.5418853736
            ]
           },
           {
            "iteration": 496,
            "learn": [
             0.5419232703
            ],
            "passed_time": 298.0253717,
            "remaining_time": 481.5178541,
            "test": [
             0.8765404276,
             0.9632061507,
             0.5419232703
            ]
           },
           {
            "iteration": 497,
            "learn": [
             0.5419043219
            ],
            "passed_time": 298.666166,
            "remaining_time": 480.9844681,
            "test": [
             0.8766257739,
             0.9632388964,
             0.5419043219
            ]
           },
           {
            "iteration": 498,
            "learn": [
             0.5419990638
            ],
            "passed_time": 299.2484949,
            "remaining_time": 480.3568024,
            "test": [
             0.8766666383,
             0.9632575247,
             0.5419990638
            ]
           },
           {
            "iteration": 499,
            "learn": [
             0.5422453925
            ],
            "passed_time": 299.9109868,
            "remaining_time": 479.8575788,
            "test": [
             0.8766018723,
             0.9632481568,
             0.5422453925
            ]
           },
           {
            "iteration": 500,
            "learn": [
             0.5421695991
            ],
            "passed_time": 300.4967869,
            "remaining_time": 479.2353948,
            "test": [
             0.876663251,
             0.9632806043,
             0.5421695991
            ]
           },
           {
            "iteration": 501,
            "learn": [
             0.5420559089
            ],
            "passed_time": 301.1251215,
            "remaining_time": 478.6809701,
            "test": [
             0.8766456783,
             0.9632738355,
             0.5420559089
            ]
           },
           {
            "iteration": 502,
            "learn": [
             0.5422264442
            ],
            "passed_time": 301.6925325,
            "remaining_time": 478.0297186,
            "test": [
             0.87667261,
             0.9632997252,
             0.5422264442
            ]
           },
           {
            "iteration": 503,
            "learn": [
             0.5423022376
            ],
            "passed_time": 302.3344246,
            "remaining_time": 477.4964326,
            "test": [
             0.8766843703,
             0.9633034635,
             0.5423022376
            ]
           },
           {
            "iteration": 504,
            "learn": [
             0.5422264442
            ],
            "passed_time": 302.9372782,
            "remaining_time": 476.9012597,
            "test": [
             0.8767177003,
             0.963322498,
             0.5422264442
            ]
           },
           {
            "iteration": 505,
            "learn": [
             0.5423969795
            ],
            "passed_time": 303.5228328,
            "remaining_time": 476.2789116,
            "test": [
             0.8766448707,
             0.9633077308,
             0.5423969795
            ]
           },
           {
            "iteration": 506,
            "learn": [
             0.5423590827
            ],
            "passed_time": 304.1933039,
            "remaining_time": 475.7895266,
            "test": [
             0.8766965348,
             0.9633280939,
             0.5423590827
            ]
           },
           {
            "iteration": 507,
            "learn": [
             0.5423022376
            ],
            "passed_time": 304.755962,
            "remaining_time": 475.1313423,
            "test": [
             0.8766972992,
             0.9633350747,
             0.5423022376
            ]
           },
           {
            "iteration": 508,
            "learn": [
             0.5423590827
            ],
            "passed_time": 305.3879218,
            "remaining_time": 474.5812302,
            "test": [
             0.8767366889,
             0.9633581826,
             0.5423590827
            ]
           },
           {
            "iteration": 509,
            "learn": [
             0.5422264442
            ],
            "passed_time": 305.957097,
            "remaining_time": 473.9335425,
            "test": [
             0.8768392134,
             0.9634048314,
             0.5422264442
            ]
           },
           {
            "iteration": 510,
            "learn": [
             0.5421695991
            ],
            "passed_time": 306.602311,
            "remaining_time": 473.4035682,
            "test": [
             0.876863986,
             0.963416051,
             0.5421695991
            ]
           },
           {
            "iteration": 511,
            "learn": [
             0.5423780311
            ],
            "passed_time": 307.1956174,
            "remaining_time": 472.7932549,
            "test": [
             0.8768791717,
             0.9634456352,
             0.5423780311
            ]
           },
           {
            "iteration": 512,
            "learn": [
             0.5421695991
            ],
            "passed_time": 307.8159983,
            "remaining_time": 472.2245431,
            "test": [
             0.8768579699,
             0.9634343036,
             0.5421695991
            ]
           },
           {
            "iteration": 513,
            "learn": [
             0.5422074958
            ],
            "passed_time": 308.4566549,
            "remaining_time": 471.6866357,
            "test": [
             0.8768912477,
             0.9634460295,
             0.5422074958
            ]
           },
           {
            "iteration": 514,
            "learn": [
             0.5421885474
            ],
            "passed_time": 309.0212894,
            "remaining_time": 471.0324508,
            "test": [
             0.8768931053,
             0.9634555359,
             0.5421885474
            ]
           },
           {
            "iteration": 515,
            "learn": [
             0.5422832893
            ],
            "passed_time": 309.663847,
            "remaining_time": 470.4970079,
            "test": [
             0.8769073422,
             0.9634638161,
             0.5422832893
            ]
           },
           {
            "iteration": 516,
            "learn": [
             0.542321186
            ],
            "passed_time": 310.2306304,
            "remaining_time": 469.84639,
            "test": [
             0.8769308567,
             0.9634779025,
             0.542321186
            ]
           },
           {
            "iteration": 517,
            "learn": [
             0.5422453925
            ],
            "passed_time": 310.8685185,
            "remaining_time": 469.3034391,
            "test": [
             0.8769449478,
             0.96349037,
             0.5422453925
            ]
           },
           {
            "iteration": 518,
            "learn": [
             0.5422074958
            ],
            "passed_time": 311.4318502,
            "remaining_time": 468.6479288,
            "test": [
             0.8769897368,
             0.9635238723,
             0.5422074958
            ]
           },
           {
            "iteration": 519,
            "learn": [
             0.5421695991
            ],
            "passed_time": 312.0859542,
            "remaining_time": 468.1289313,
            "test": [
             0.8770371161,
             0.9635433788,
             0.5421695991
            ]
           },
           {
            "iteration": 520,
            "learn": [
             0.5421695991
            ],
            "passed_time": 312.7332945,
            "remaining_time": 467.5993021,
            "test": [
             0.8770823202,
             0.9635687611,
             0.5421695991
            ]
           },
           {
            "iteration": 521,
            "learn": [
             0.5422643409
            ],
            "passed_time": 313.2928513,
            "remaining_time": 466.9383875,
            "test": [
             0.8770900545,
             0.9635729466,
             0.5422643409
            ]
           },
           {
            "iteration": 522,
            "learn": [
             0.5423401343
            ],
            "passed_time": 313.9323272,
            "remaining_time": 466.3965931,
            "test": [
             0.8770798522,
             0.9635802148,
             0.5423401343
            ]
           },
           {
            "iteration": 523,
            "learn": [
             0.5424159278
            ],
            "passed_time": 314.5135251,
            "remaining_time": 465.7681211,
            "test": [
             0.8769982238,
             0.9635369839,
             0.5424159278
            ]
           },
           {
            "iteration": 524,
            "learn": [
             0.5424159278
            ],
            "passed_time": 315.1577571,
            "remaining_time": 465.2328795,
            "test": [
             0.8769921916,
             0.9635362447,
             0.5424159278
            ]
           },
           {
            "iteration": 525,
            "learn": [
             0.5424159278
            ],
            "passed_time": 315.7208445,
            "remaining_time": 464.5778206,
            "test": [
             0.8770437709,
             0.9635745839,
             0.5424159278
            ]
           },
           {
            "iteration": 526,
            "learn": [
             0.5424348762
            ],
            "passed_time": 316.3804291,
            "remaining_time": 464.0646522,
            "test": [
             0.8770059061,
             0.963568461,
             0.5424348762
            ]
           },
           {
            "iteration": 527,
            "learn": [
             0.5423401344
            ],
            "passed_time": 317.0011514,
            "remaining_time": 463.4941077,
            "test": [
             0.877032997,
             0.9635805148,
             0.5423401344
            ]
           },
           {
            "iteration": 528,
            "learn": [
             0.5423401344
            ],
            "passed_time": 317.5783563,
            "remaining_time": 462.8599485,
            "test": [
             0.8770335732,
             0.963585893,
             0.5423401344
            ]
           },
           {
            "iteration": 529,
            "learn": [
             0.5423590827
            ],
            "passed_time": 318.20969,
            "remaining_time": 462.304644,
            "test": [
             0.8770612532,
             0.9636111216,
             0.5423590827
            ]
           },
           {
            "iteration": 530,
            "learn": [
             0.5423022376
            ],
            "passed_time": 318.7885411,
            "remaining_time": 461.6730473,
            "test": [
             0.8770414353,
             0.9636060663,
             0.5423022376
            ]
           },
           {
            "iteration": 531,
            "learn": [
             0.5422264442
            ],
            "passed_time": 319.4366696,
            "remaining_time": 461.1416584,
            "test": [
             0.8770590321,
             0.9636160482,
             0.5422264442
            ]
           },
           {
            "iteration": 532,
            "learn": [
             0.5422453925
            ],
            "passed_time": 320.0060574,
            "remaining_time": 460.4965216,
            "test": [
             0.8771192034,
             0.963645112,
             0.5422453925
            ]
           },
           {
            "iteration": 533,
            "learn": [
             0.5423401344
            ],
            "passed_time": 320.6518468,
            "remaining_time": 459.9612633,
            "test": [
             0.8771251135,
             0.9636557025,
             0.5423401344
            ]
           },
           {
            "iteration": 534,
            "learn": [
             0.5423401344
            ],
            "passed_time": 321.2293187,
            "remaining_time": 459.3279044,
            "test": [
             0.8771009986,
             0.9636508217,
             0.5423401344
            ]
           },
           {
            "iteration": 535,
            "learn": [
             0.5423401344
            ],
            "passed_time": 321.8779081,
            "remaining_time": 458.7961227,
            "test": [
             0.8771531409,
             0.9636708649,
             0.5423401344
            ]
           },
           {
            "iteration": 536,
            "learn": [
             0.5423022376
            ],
            "passed_time": 322.507697,
            "remaining_time": 458.2371934,
            "test": [
             0.8771135337,
             0.9636485313,
             0.5423022376
            ]
           },
           {
            "iteration": 537,
            "learn": [
             0.5423590827
            ],
            "passed_time": 323.0866887,
            "remaining_time": 457.6060536,
            "test": [
             0.8770356358,
             0.9636234036,
             0.5423590827
            ]
           },
           {
            "iteration": 538,
            "learn": [
             0.5422453925
            ],
            "passed_time": 323.7524134,
            "remaining_time": 457.0975633,
            "test": [
             0.87702929,
             0.9636323722,
             0.5422453925
            ]
           },
           {
            "iteration": 539,
            "learn": [
             0.5422074958
            ],
            "passed_time": 324.310644,
            "remaining_time": 456.4372027,
            "test": [
             0.8770741266,
             0.9636596989,
             0.5422074958
            ]
           },
           {
            "iteration": 540,
            "learn": [
             0.542321186
            ],
            "passed_time": 324.9460908,
            "remaining_time": 455.8855507,
            "test": [
             0.8770379996,
             0.9636590936,
             0.542321186
            ]
           },
           {
            "iteration": 541,
            "learn": [
             0.5424159278
            ],
            "passed_time": 325.5176245,
            "remaining_time": 455.2442054,
            "test": [
             0.8770419223,
             0.963682965,
             0.5424159278
            ]
           },
           {
            "iteration": 542,
            "learn": [
             0.5423969794
            ],
            "passed_time": 326.1728111,
            "remaining_time": 454.7197385,
            "test": [
             0.8770427046,
             0.9636853089,
             0.5423969794
            ]
           },
           {
            "iteration": 543,
            "learn": [
             0.5426054115
            ],
            "passed_time": 326.8424611,
            "remaining_time": 454.2148908,
            "test": [
             0.8771293142,
             0.9637307977,
             0.5426054115
            ]
           },
           {
            "iteration": 544,
            "learn": [
             0.5426812049
            ],
            "passed_time": 327.3981823,
            "remaining_time": 453.5516104,
            "test": [
             0.8771705883,
             0.963772715,
             0.5426812049
            ]
           },
           {
            "iteration": 545,
            "learn": [
             0.5427191017
            ],
            "passed_time": 328.0839794,
            "remaining_time": 453.0683525,
            "test": [
             0.8771739282,
             0.9637723538,
             0.5427191017
            ]
           },
           {
            "iteration": 546,
            "learn": [
             0.5426433082
            ],
            "passed_time": 328.6554895,
            "remaining_time": 452.4270267,
            "test": [
             0.8771648248,
             0.9637846391,
             0.5426433082
            ]
           },
           {
            "iteration": 547,
            "learn": [
             0.5425485664
            ],
            "passed_time": 329.2925278,
            "remaining_time": 451.8758775,
            "test": [
             0.8771516914,
             0.9637845237,
             0.5425485664
            ]
           },
           {
            "iteration": 548,
            "learn": [
             0.5424727729
            ],
            "passed_time": 329.8771554,
            "remaining_time": 451.2527208,
            "test": [
             0.8770931406,
             0.9637652553,
             0.5424727729
            ]
           },
           {
            "iteration": 549,
            "learn": [
             0.5426433082
            ],
            "passed_time": 330.5164672,
            "remaining_time": 450.7042734,
            "test": [
             0.8771138007,
             0.9637889738,
             0.5426433082
            ]
           },
           {
            "iteration": 550,
            "learn": [
             0.5426433082
            ],
            "passed_time": 331.0935309,
            "remaining_time": 450.0708796,
            "test": [
             0.8771121523,
             0.9637890415,
             0.5426433082
            ]
           },
           {
            "iteration": 551,
            "learn": [
             0.5426812049
            ],
            "passed_time": 331.7424874,
            "remaining_time": 449.5351097,
            "test": [
             0.8771183689,
             0.9638007567,
             0.5426812049
            ]
           },
           {
            "iteration": 552,
            "learn": [
             0.5427001533
            ],
            "passed_time": 332.3793529,
            "remaining_time": 448.9825979,
            "test": [
             0.8771523382,
             0.9638269701,
             0.5427001533
            ]
           },
           {
            "iteration": 553,
            "learn": [
             0.5426622566
            ],
            "passed_time": 332.9566236,
            "remaining_time": 448.3495328,
            "test": [
             0.8771317455,
             0.9638307628,
             0.5426622566
            ]
           },
           {
            "iteration": 554,
            "learn": [
             0.5426812049
            ],
            "passed_time": 333.5897556,
            "remaining_time": 447.7916539,
            "test": [
             0.8771967851,
             0.9638562418,
             0.5426812049
            ]
           },
           {
            "iteration": 555,
            "learn": [
             0.5427001533
            ],
            "passed_time": 334.148087,
            "remaining_time": 447.1334113,
            "test": [
             0.8772452548,
             0.9638829694,
             0.5427001533
            ]
           },
           {
            "iteration": 556,
            "learn": [
             0.54273805
            ],
            "passed_time": 334.795461,
            "remaining_time": 446.5943043,
            "test": [
             0.8772762649,
             0.9639137636,
             0.54273805
            ]
           },
           {
            "iteration": 557,
            "learn": [
             0.5426812049
            ],
            "passed_time": 335.416059,
            "remaining_time": 446.0192038,
            "test": [
             0.8772164553,
             0.9638934738,
             0.5426812049
            ]
           },
           {
            "iteration": 558,
            "learn": [
             0.5426622566
            ],
            "passed_time": 335.9882348,
            "remaining_time": 445.3797531,
            "test": [
             0.8771929904,
             0.9638940987,
             0.5426622566
            ]
           },
           {
            "iteration": 559,
            "learn": [
             0.5428327919
            ],
            "passed_time": 336.6363572,
            "remaining_time": 444.8409005,
            "test": [
             0.8772311563,
             0.9639150469,
             0.5428327919
            ]
           },
           {
            "iteration": 560,
            "learn": [
             0.5427948951
            ],
            "passed_time": 337.2075039,
            "remaining_time": 444.2002592,
            "test": [
             0.877279298,
             0.9639404782,
             0.5427948951
            ]
           },
           {
            "iteration": 561,
            "learn": [
             0.5428327919
            ],
            "passed_time": 337.852781,
            "remaining_time": 443.6572106,
            "test": [
             0.8772720323,
             0.9639352441,
             0.5428327919
            ]
           },
           {
            "iteration": 562,
            "learn": [
             0.5431738624
            ],
            "passed_time": 338.4281371,
            "remaining_time": 443.0222683,
            "test": [
             0.8772744262,
             0.9639490854,
             0.5431738624
            ]
           },
           {
            "iteration": 563,
            "learn": [
             0.5431738624
            ],
            "passed_time": 339.0612736,
            "remaining_time": 442.4629386,
            "test": [
             0.8772745836,
             0.963957977,
             0.5431738624
            ]
           },
           {
            "iteration": 564,
            "learn": [
             0.5432307075
            ],
            "passed_time": 339.6347155,
            "remaining_time": 441.8256918,
            "test": [
             0.877238958,
             0.9639619641,
             0.5432307075
            ]
           },
           {
            "iteration": 565,
            "learn": [
             0.543306501
            ],
            "passed_time": 340.2944535,
            "remaining_time": 441.300581,
            "test": [
             0.8772390382,
             0.9639672815,
             0.543306501
            ]
           },
           {
            "iteration": 566,
            "learn": [
             0.5432875526
            ],
            "passed_time": 340.9339501,
            "remaining_time": 440.7488279,
            "test": [
             0.8772931168,
             0.9640088273,
             0.5432875526
            ]
           },
           {
            "iteration": 567,
            "learn": [
             0.5432307075
            ],
            "passed_time": 341.5054903,
            "remaining_time": 440.1091882,
            "test": [
             0.8773367412,
             0.9640347532,
             0.5432307075
            ]
           },
           {
            "iteration": 568,
            "learn": [
             0.543306501
            ],
            "passed_time": 342.1521023,
            "remaining_time": 439.5662334,
            "test": [
             0.8773091819,
             0.9640278131,
             0.543306501
            ]
           },
           {
            "iteration": 569,
            "learn": [
             0.5433633461
            ],
            "passed_time": 342.7228401,
            "remaining_time": 438.9257425,
            "test": [
             0.8773793124,
             0.9640581919,
             0.5433633461
            ]
           },
           {
            "iteration": 570,
            "learn": [
             0.5435907265
            ],
            "passed_time": 343.3790053,
            "remaining_time": 438.394562,
            "test": [
             0.8773563081,
             0.9640555597,
             0.5435907265
            ]
           },
           {
            "iteration": 571,
            "learn": [
             0.5436475716
            ],
            "passed_time": 343.9609105,
            "remaining_time": 437.7684315,
            "test": [
             0.8773690732,
             0.9640712804,
             0.5436475716
            ]
           },
           {
            "iteration": 572,
            "learn": [
             0.5437044167
            ],
            "passed_time": 344.5966676,
            "remaining_time": 437.2107807,
            "test": [
             0.8774142638,
             0.9641003865,
             0.5437044167
            ]
           },
           {
            "iteration": 573,
            "learn": [
             0.5437612618
            ],
            "passed_time": 345.2421002,
            "remaining_time": 436.6650954,
            "test": [
             0.8774582832,
             0.9641282133,
             0.5437612618
            ]
           },
           {
            "iteration": 574,
            "learn": [
             0.5439886422
            ],
            "passed_time": 345.8038774,
            "remaining_time": 436.0135846,
            "test": [
             0.8774342484,
             0.9641489948,
             0.5439886422
            ]
           },
           {
            "iteration": 575,
            "learn": [
             0.5439696938
            ],
            "passed_time": 346.4870951,
            "remaining_time": 435.5150292,
            "test": [
             0.8774583145,
             0.9641566266,
             0.5439696938
            ]
           },
           {
            "iteration": 576,
            "learn": [
             0.5439507455
            ],
            "passed_time": 347.0513099,
            "remaining_time": 434.8667193,
            "test": [
             0.877513547,
             0.964183399,
             0.5439507455
            ]
           },
           {
            "iteration": 577,
            "learn": [
             0.5439696938
            ],
            "passed_time": 347.6810428,
            "remaining_time": 434.3005414,
            "test": [
             0.8776009338,
             0.9642087352,
             0.5439696938
            ]
           },
           {
            "iteration": 578,
            "learn": [
             0.5439507455
            ],
            "passed_time": 348.2695759,
            "remaining_time": 433.6828398,
            "test": [
             0.87757699,
             0.9642084371,
             0.5439507455
            ]
           },
           {
            "iteration": 579,
            "learn": [
             0.5440454873
            ],
            "passed_time": 348.8696943,
            "remaining_time": 433.0796205,
            "test": [
             0.8775988794,
             0.9642290896,
             0.5440454873
            ]
           },
           {
            "iteration": 580,
            "learn": [
             0.5441212808
            ],
            "passed_time": 349.5352754,
            "remaining_time": 432.5574234,
            "test": [
             0.8775206059,
             0.9642046341,
             0.5441212808
            ]
           },
           {
            "iteration": 581,
            "learn": [
             0.5441781258
            ],
            "passed_time": 350.1396172,
            "remaining_time": 431.9591842,
            "test": [
             0.8775930325,
             0.964254474,
             0.5441781258
            ]
           },
           {
            "iteration": 582,
            "learn": [
             0.544291816
            ],
            "passed_time": 350.8182846,
            "remaining_time": 431.4523329,
            "test": [
             0.8775394222,
             0.9642413983,
             0.544291816
            ]
           },
           {
            "iteration": 583,
            "learn": [
             0.5443297128
            ],
            "passed_time": 351.4000485,
            "remaining_time": 430.8260868,
            "test": [
             0.8775020195,
             0.9642421611,
             0.5443297128
            ]
           },
           {
            "iteration": 584,
            "learn": [
             0.5443297128
            ],
            "passed_time": 352.0301306,
            "remaining_time": 430.2590486,
            "test": [
             0.8775316727,
             0.9642569642,
             0.5443297128
            ]
           },
           {
            "iteration": 585,
            "learn": [
             0.5444812997
            ],
            "passed_time": 352.5955881,
            "remaining_time": 429.6130545,
            "test": [
             0.8775438002,
             0.964261174,
             0.5444812997
            ]
           },
           {
            "iteration": 586,
            "learn": [
             0.5444812997
            ],
            "passed_time": 353.233501,
            "remaining_time": 429.0553428,
            "test": [
             0.8775793464,
             0.9642830541,
             0.5444812997
            ]
           },
           {
            "iteration": 587,
            "learn": [
             0.544651835
            ],
            "passed_time": 353.8375372,
            "remaining_time": 428.4563376,
            "test": [
             0.8778779176,
             0.9644317902,
             0.544651835
            ]
           },
           {
            "iteration": 588,
            "learn": [
             0.5446139383
            ],
            "passed_time": 354.4091214,
            "remaining_time": 427.8181415,
            "test": [
             0.8778322023,
             0.9644023448,
             0.5446139383
            ]
           },
           {
            "iteration": 589,
            "learn": [
             0.5446897317
            ],
            "passed_time": 355.0325804,
            "remaining_time": 427.2425968,
            "test": [
             0.8778116785,
             0.9643962056,
             0.5446897317
            ]
           },
           {
            "iteration": 590,
            "learn": [
             0.5444812997
            ],
            "passed_time": 355.6136138,
            "remaining_time": 426.6159935,
            "test": [
             0.8778562652,
             0.9644148937,
             0.5444812997
            ]
           },
           {
            "iteration": 591,
            "learn": [
             0.5445949899
            ],
            "passed_time": 356.2743849,
            "remaining_time": 426.0849063,
            "test": [
             0.8778679427,
             0.9644373277,
             0.5445949899
            ]
           },
           {
            "iteration": 592,
            "learn": [
             0.5446139383
            ],
            "passed_time": 356.8647801,
            "remaining_time": 425.4694765,
            "test": [
             0.8778057415,
             0.9644001171,
             0.5446139383
            ]
           },
           {
            "iteration": 593,
            "learn": [
             0.5446897317
            ],
            "passed_time": 357.4936695,
            "remaining_time": 424.8998832,
            "test": [
             0.8778658911,
             0.9644419187,
             0.5446897317
            ]
           },
           {
            "iteration": 594,
            "learn": [
             0.5446897317
            ],
            "passed_time": 358.06362,
            "remaining_time": 424.2602556,
            "test": [
             0.8778716023,
             0.9644497695,
             0.5446897317
            ]
           },
           {
            "iteration": 595,
            "learn": [
             0.5447276285
            ],
            "passed_time": 358.6988483,
            "remaining_time": 423.6979685,
            "test": [
             0.8778760239,
             0.9644572136,
             0.5447276285
            ]
           },
           {
            "iteration": 596,
            "learn": [
             0.5449550088
            ],
            "passed_time": 359.304743,
            "remaining_time": 423.100895,
            "test": [
             0.8779028151,
             0.964486148,
             0.5449550088
            ]
           },
           {
            "iteration": 597,
            "learn": [
             0.5449739572
            ],
            "passed_time": 359.8607316,
            "remaining_time": 422.4452066,
            "test": [
             0.8779398906,
             0.964499294,
             0.5449739572
            ]
           },
           {
            "iteration": 598,
            "learn": [
             0.5448981638
            ],
            "passed_time": 360.5072032,
            "remaining_time": 421.895742,
            "test": [
             0.8778610735,
             0.964482276,
             0.5448981638
            ]
           },
           {
            "iteration": 599,
            "learn": [
             0.5449360605
            ],
            "passed_time": 361.0755739,
            "remaining_time": 421.2548362,
            "test": [
             0.8778725721,
             0.9644826023,
             0.5449360605
            ]
           },
           {
            "iteration": 600,
            "learn": [
             0.5449171121
            ],
            "passed_time": 361.7100206,
            "remaining_time": 420.6910223,
            "test": [
             0.8777893391,
             0.9644632893,
             0.5449171121
            ]
           },
           {
            "iteration": 601,
            "learn": [
             0.5448981638
            ],
            "passed_time": 362.2717669,
            "remaining_time": 420.0426799,
            "test": [
             0.8779047928,
             0.9645083432,
             0.5448981638
            ]
           },
           {
            "iteration": 602,
            "learn": [
             0.545011854
            ],
            "passed_time": 362.9127098,
            "remaining_time": 419.486167,
            "test": [
             0.8778613141,
             0.9645100257,
             0.545011854
            ]
           },
           {
            "iteration": 603,
            "learn": [
             0.5450497507
            ],
            "passed_time": 363.4938858,
            "remaining_time": 418.8605042,
            "test": [
             0.8778620655,
             0.9645141135,
             0.5450497507
            ]
           },
           {
            "iteration": 604,
            "learn": [
             0.5451255441
            ],
            "passed_time": 364.1369955,
            "remaining_time": 418.3061354,
            "test": [
             0.8778884483,
             0.9645385207,
             0.5451255441
            ]
           },
           {
            "iteration": 605,
            "learn": [
             0.5451065958
            ],
            "passed_time": 364.7808271,
            "remaining_time": 417.7523003,
            "test": [
             0.8779225969,
             0.9645499543,
             0.5451065958
            ]
           },
           {
            "iteration": 606,
            "learn": [
             0.5452392343
            ],
            "passed_time": 365.3587596,
            "remaining_time": 417.1229331,
            "test": [
             0.8779444998,
             0.9645745326,
             0.5452392343
            ]
           },
           {
            "iteration": 607,
            "learn": [
             0.5453150278
            ],
            "passed_time": 365.9894378,
            "remaining_time": 416.553768,
            "test": [
             0.8780227897,
             0.9646206985,
             0.5453150278
            ]
           },
           {
            "iteration": 608,
            "learn": [
             0.5453718729
            ],
            "passed_time": 366.5887114,
            "remaining_time": 415.9487677,
            "test": [
             0.8780864816,
             0.9646473084,
             0.5453718729
            ]
           },
           {
            "iteration": 609,
            "learn": [
             0.545220286
            ],
            "passed_time": 367.2249023,
            "remaining_time": 415.3855452,
            "test": [
             0.8781286982,
             0.9646634775,
             0.545220286
            ]
           },
           {
            "iteration": 610,
            "learn": [
             0.5452581827
            ],
            "passed_time": 367.8178349,
            "remaining_time": 414.7733032,
            "test": [
             0.8781036234,
             0.9646626882,
             0.5452581827
            ]
           },
           {
            "iteration": 611,
            "learn": [
             0.5453339762
            ],
            "passed_time": 368.4652696,
            "remaining_time": 414.2223946,
            "test": [
             0.8780786681,
             0.964657215,
             0.5453339762
            ]
           },
           {
            "iteration": 612,
            "learn": [
             0.545428718
            ],
            "passed_time": 369.0557345,
            "remaining_time": 413.607324,
            "test": [
             0.8780794901,
             0.9646485088,
             0.545428718
            ]
           },
           {
            "iteration": 613,
            "learn": [
             0.5454476664
            ],
            "passed_time": 369.6688033,
            "remaining_time": 413.0175881,
            "test": [
             0.878082269,
             0.964661861,
             0.5454476664
            ]
           },
           {
            "iteration": 614,
            "learn": [
             0.545428718
            ],
            "passed_time": 370.3685979,
            "remaining_time": 412.5243732,
            "test": [
             0.8781212749,
             0.9646875326,
             0.545428718
            ]
           },
           {
            "iteration": 615,
            "learn": [
             0.545428718
            ],
            "passed_time": 370.9824954,
            "remaining_time": 411.9351085,
            "test": [
             0.8782093786,
             0.9647312549,
             0.545428718
            ]
           },
           {
            "iteration": 616,
            "learn": [
             0.545428718
            ],
            "passed_time": 371.6177779,
            "remaining_time": 411.3694364,
            "test": [
             0.8782130636,
             0.9647508111,
             0.545428718
            ]
           },
           {
            "iteration": 617,
            "learn": [
             0.5453529245
            ],
            "passed_time": 372.1919399,
            "remaining_time": 410.7360891,
            "test": [
             0.8782322715,
             0.9647589525,
             0.5453529245
            ]
           },
           {
            "iteration": 618,
            "learn": [
             0.5455045115
            ],
            "passed_time": 372.845834,
            "remaining_time": 410.1906509,
            "test": [
             0.8782154106,
             0.964750738,
             0.5455045115
            ]
           },
           {
            "iteration": 619,
            "learn": [
             0.5455613566
            ],
            "passed_time": 373.4166503,
            "remaining_time": 409.5537455,
            "test": [
             0.8783003158,
             0.9647926266,
             0.5455613566
            ]
           },
           {
            "iteration": 620,
            "learn": [
             0.5455803049
            ],
            "passed_time": 374.1339296,
            "remaining_time": 409.0771951,
            "test": [
             0.8783090625,
             0.9648035445,
             0.5455803049
            ]
           },
           {
            "iteration": 621,
            "learn": [
             0.5455234598
            ],
            "passed_time": 374.7932486,
            "remaining_time": 408.5366922,
            "test": [
             0.878362263,
             0.9648516187,
             0.5455234598
            ]
           },
           {
            "iteration": 622,
            "learn": [
             0.545428718
            ],
            "passed_time": 375.3552324,
            "remaining_time": 407.8900358,
            "test": [
             0.8783370363,
             0.9648405302,
             0.545428718
            ]
           },
           {
            "iteration": 623,
            "learn": [
             0.5455045115
            ],
            "passed_time": 376.0023986,
            "remaining_time": 407.3359318,
            "test": [
             0.8784238572,
             0.964873376,
             0.5455045115
            ]
           },
           {
            "iteration": 624,
            "learn": [
             0.5455992533
            ],
            "passed_time": 376.581148,
            "remaining_time": 406.7076398,
            "test": [
             0.8783903517,
             0.9648555961,
             0.5455992533
            ]
           },
           {
            "iteration": 625,
            "learn": [
             0.5456560984
            ],
            "passed_time": 377.2463636,
            "remaining_time": 406.1726024,
            "test": [
             0.8784311604,
             0.9648863364,
             0.5456560984
            ]
           },
           {
            "iteration": 626,
            "learn": [
             0.5456182017
            ],
            "passed_time": 377.8350656,
            "remaining_time": 405.5550225,
            "test": [
             0.878456463,
             0.9649138852,
             0.5456182017
            ]
           },
           {
            "iteration": 627,
            "learn": [
             0.5457697886
            ],
            "passed_time": 378.4585443,
            "remaining_time": 404.9747481,
            "test": [
             0.8784932311,
             0.9649368742,
             0.5457697886
            ]
           },
           {
            "iteration": 628,
            "learn": [
             0.5455613566
            ],
            "passed_time": 379.0464696,
            "remaining_time": 404.3564088,
            "test": [
             0.87852915,
             0.964963065,
             0.5455613566
            ]
           },
           {
            "iteration": 629,
            "learn": [
             0.54563715
            ],
            "passed_time": 379.6741971,
            "remaining_time": 403.7804953,
            "test": [
             0.8785921717,
             0.964990231,
             0.54563715
            ]
           },
           {
            "iteration": 630,
            "learn": [
             0.5456750468
            ],
            "passed_time": 380.3299696,
            "remaining_time": 403.2341517,
            "test": [
             0.8786528607,
             0.9650217176,
             0.5456750468
            ]
           },
           {
            "iteration": 631,
            "learn": [
             0.54563715
            ],
            "passed_time": 380.9160734,
            "remaining_time": 402.6138244,
            "test": [
             0.87859501,
             0.9649985921,
             0.54563715
            ]
           },
           {
            "iteration": 632,
            "learn": [
             0.5456182017
            ],
            "passed_time": 381.5479117,
            "remaining_time": 402.0417964,
            "test": [
             0.8786020918,
             0.9650027927,
             0.5456182017
            ]
           },
           {
            "iteration": 633,
            "learn": [
             0.5457697886
            ],
            "passed_time": 382.1245306,
            "remaining_time": 401.4115731,
            "test": [
             0.8786140731,
             0.965026092,
             0.5457697886
            ]
           },
           {
            "iteration": 634,
            "learn": [
             0.5458266337
            ],
            "passed_time": 382.7722427,
            "remaining_time": 400.8559707,
            "test": [
             0.8786191158,
             0.9650138802,
             0.5458266337
            ]
           },
           {
            "iteration": 635,
            "learn": [
             0.5459213755
            ],
            "passed_time": 383.3342673,
            "remaining_time": 400.2106187,
            "test": [
             0.8786029967,
             0.9650112562,
             0.5459213755
            ]
           },
           {
            "iteration": 636,
            "learn": [
             0.5459024272
            ],
            "passed_time": 383.9871978,
            "remaining_time": 399.6601447,
            "test": [
             0.8785834748,
             0.9650319314,
             0.5459024272
            ]
           },
           {
            "iteration": 637,
            "learn": [
             0.5459592723
            ],
            "passed_time": 384.6200781,
            "remaining_time": 399.088545,
            "test": [
             0.8786109339,
             0.9650439291,
             0.5459592723
            ]
           },
           {
            "iteration": 638,
            "learn": [
             0.5461108592
            ],
            "passed_time": 385.2004786,
            "remaining_time": 398.4624669,
            "test": [
             0.8785050326,
             0.9649993695,
             0.5461108592
            ]
           },
           {
            "iteration": 639,
            "learn": [
             0.5461298075
            ],
            "passed_time": 385.871075,
            "remaining_time": 397.9295461,
            "test": [
             0.8785653288,
             0.9650363975,
             0.5461298075
            ]
           },
           {
            "iteration": 640,
            "learn": [
             0.5460540141
            ],
            "passed_time": 386.4346624,
            "remaining_time": 397.2861818,
            "test": [
             0.8786488948,
             0.9650732055,
             0.5460540141
            ]
           },
           {
            "iteration": 641,
            "learn": [
             0.5460540141
            ],
            "passed_time": 387.094765,
            "remaining_time": 396.7419865,
            "test": [
             0.878751632,
             0.9651335611,
             0.5460540141
            ]
           },
           {
            "iteration": 642,
            "learn": [
             0.5459782206
            ],
            "passed_time": 387.6694464,
            "remaining_time": 396.1101498,
            "test": [
             0.8788087625,
             0.9651552723,
             0.5459782206
            ]
           },
           {
            "iteration": 643,
            "learn": [
             0.5459592723
            ],
            "passed_time": 388.3234179,
            "remaining_time": 395.559258,
            "test": [
             0.8788330268,
             0.9651789006,
             0.5459592723
            ]
           },
           {
            "iteration": 644,
            "learn": [
             0.5460729624
            ],
            "passed_time": 388.9941281,
            "remaining_time": 395.0250448,
            "test": [
             0.8788281983,
             0.9651797152,
             0.5460729624
            ]
           },
           {
            "iteration": 645,
            "learn": [
             0.5460919108
            ],
            "passed_time": 389.5906568,
            "remaining_time": 394.4153089,
            "test": [
             0.8788386029,
             0.9651936964,
             0.5460919108
            ]
           },
           {
            "iteration": 646,
            "learn": [
             0.5461487559
            ],
            "passed_time": 390.226753,
            "remaining_time": 393.8455483,
            "test": [
             0.8788646282,
             0.9652065259,
             0.5461487559
            ]
           },
           {
            "iteration": 647,
            "learn": [
             0.5461866526
            ],
            "passed_time": 390.789782,
            "remaining_time": 393.2020646,
            "test": [
             0.8788113744,
             0.9651915002,
             0.5461866526
            ]
           },
           {
            "iteration": 648,
            "learn": [
             0.546205601
            ],
            "passed_time": 391.4341029,
            "remaining_time": 392.6403713,
            "test": [
             0.8787793403,
             0.9652056161,
             0.546205601
            ]
           },
           {
            "iteration": 649,
            "learn": [
             0.546205601
            ],
            "passed_time": 392.0035619,
            "remaining_time": 392.0035619,
            "test": [
             0.8787786932,
             0.9652095277,
             0.546205601
            ]
           },
           {
            "iteration": 650,
            "learn": [
             0.5463003428
            ],
            "passed_time": 392.6702567,
            "remaining_time": 391.4638965,
            "test": [
             0.8787899669,
             0.9652238499,
             0.5463003428
            ]
           },
           {
            "iteration": 651,
            "learn": [
             0.5463761363
            ],
            "passed_time": 393.2931279,
            "remaining_time": 390.8802866,
            "test": [
             0.8787959891,
             0.9652385856,
             0.5463761363
            ]
           },
           {
            "iteration": 652,
            "learn": [
             0.5464708781
            ],
            "passed_time": 393.8667692,
            "remaining_time": 390.247779,
            "test": [
             0.8788642645,
             0.965278043,
             0.5464708781
            ]
           },
           {
            "iteration": 653,
            "learn": [
             0.546414033
            ],
            "passed_time": 394.4871153,
            "remaining_time": 389.6615848,
            "test": [
             0.8788329985,
             0.9652618692,
             0.546414033
            ]
           },
           {
            "iteration": 654,
            "learn": [
             0.5463571879
            ],
            "passed_time": 395.066471,
            "remaining_time": 389.0349218,
            "test": [
             0.8787826308,
             0.9652395702,
             0.5463571879
            ]
           },
           {
            "iteration": 655,
            "learn": [
             0.5463761363
            ],
            "passed_time": 395.6915905,
            "remaining_time": 388.4533297,
            "test": [
             0.8788335779,
             0.9652703252,
             0.5463761363
            ]
           },
           {
            "iteration": 656,
            "learn": [
             0.5464708781
            ],
            "passed_time": 396.26227,
            "remaining_time": 387.8183251,
            "test": [
             0.8787791443,
             0.9652534224,
             0.5464708781
            ]
           },
           {
            "iteration": 657,
            "learn": [
             0.5466224651
            ],
            "passed_time": 396.9056509,
            "remaining_time": 387.2544496,
            "test": [
             0.8787806534,
             0.9652813602,
             0.5466224651
            ]
           },
           {
            "iteration": 658,
            "learn": [
             0.5466035167
            ],
            "passed_time": 397.473458,
            "remaining_time": 386.6168234,
            "test": [
             0.8788741074,
             0.9653178785,
             0.5466035167
            ]
           },
           {
            "iteration": 659,
            "learn": [
             0.5466224651
            ],
            "passed_time": 398.1633157,
            "remaining_time": 386.0977607,
            "test": [
             0.8788788293,
             0.9653283015,
             0.5466224651
            ]
           },
           {
            "iteration": 660,
            "learn": [
             0.5467172069
            ],
            "passed_time": 398.802922,
            "remaining_time": 385.5296024,
            "test": [
             0.878871371,
             0.9653460408,
             0.5467172069
            ]
           },
           {
            "iteration": 661,
            "learn": [
             0.5467361553
            ],
            "passed_time": 399.3761018,
            "remaining_time": 384.8972099,
            "test": [
             0.8789065985,
             0.9653611027,
             0.5467361553
            ]
           },
           {
            "iteration": 662,
            "learn": [
             0.5467172069
            ],
            "passed_time": 400.0239077,
            "remaining_time": 384.3366956,
            "test": [
             0.8789088135,
             0.9653678286,
             0.5467172069
            ]
           },
           {
            "iteration": 663,
            "learn": [
             0.5467930004
            ],
            "passed_time": 400.5987052,
            "remaining_time": 383.7059887,
            "test": [
             0.8789152492,
             0.9653740504,
             0.5467930004
            ]
           },
           {
            "iteration": 664,
            "learn": [
             0.5468308971
            ],
            "passed_time": 401.250364,
            "remaining_time": 383.1488438,
            "test": [
             0.8789232038,
             0.9653919204,
             0.5468308971
            ]
           },
           {
            "iteration": 665,
            "learn": [
             0.546774052
            ],
            "passed_time": 401.8311866,
            "remaining_time": 382.5239824,
            "test": [
             0.878995375,
             0.9654217028,
             0.546774052
            ]
           },
           {
            "iteration": 666,
            "learn": [
             0.5467551036
            ],
            "passed_time": 402.5139791,
            "remaining_time": 381.9960251,
            "test": [
             0.878994465,
             0.9654230707,
             0.5467551036
            ]
           },
           {
            "iteration": 667,
            "learn": [
             0.5466035167
            ],
            "passed_time": 403.1324565,
            "remaining_time": 381.4067552,
            "test": [
             0.878896559,
             0.9654000081,
             0.5466035167
            ]
           },
           {
            "iteration": 668,
            "learn": [
             0.5466035167
            ],
            "passed_time": 403.7234322,
            "remaining_time": 380.7914584,
            "test": [
             0.8789139851,
             0.9654047831,
             0.5466035167
            ]
           },
           {
            "iteration": 669,
            "learn": [
             0.5466224651
            ],
            "passed_time": 404.3750389,
            "remaining_time": 380.2332455,
            "test": [
             0.8789058372,
             0.9654077463,
             0.5466224651
            ]
           },
           {
            "iteration": 670,
            "learn": [
             0.5466603618
            ],
            "passed_time": 404.9428688,
            "remaining_time": 379.5962213,
            "test": [
             0.878898184,
             0.9654152874,
             0.5466603618
            ]
           },
           {
            "iteration": 671,
            "learn": [
             0.5468308971
            ],
            "passed_time": 405.6083687,
            "remaining_time": 379.0506779,
            "test": [
             0.8789746315,
             0.9654592763,
             0.5468308971
            ]
           },
           {
            "iteration": 672,
            "learn": [
             0.5468687938
            ],
            "passed_time": 406.1790425,
            "remaining_time": 378.4164334,
            "test": [
             0.8790095934,
             0.9654867876,
             0.5468687938
            ]
           },
           {
            "iteration": 673,
            "learn": [
             0.5466982585
            ],
            "passed_time": 406.849163,
            "remaining_time": 377.8747419,
            "test": [
             0.8790106329,
             0.9654933464,
             0.5466982585
            ]
           },
           {
            "iteration": 674,
            "learn": [
             0.5467361553
            ],
            "passed_time": 407.4366082,
            "remaining_time": 377.2561187,
            "test": [
             0.8789779794,
             0.9654889006,
             0.5467361553
            ]
           },
           {
            "iteration": 675,
            "learn": [
             0.5466414134
            ],
            "passed_time": 408.1056396,
            "remaining_time": 376.7128981,
            "test": [
             0.8789573645,
             0.9654734823,
             0.5466414134
            ]
           },
           {
            "iteration": 676,
            "learn": [
             0.5466035167
            ],
            "passed_time": 408.7642062,
            "remaining_time": 376.1596757,
            "test": [
             0.8790086971,
             0.9654959806,
             0.5466035167
            ]
           },
           {
            "iteration": 677,
            "learn": [
             0.5466224651
            ],
            "passed_time": 409.3411585,
            "remaining_time": 375.5312693,
            "test": [
             0.8790288306,
             0.9655118292,
             0.5466224651
            ]
           },
           {
            "iteration": 678,
            "learn": [
             0.5467172069
            ],
            "passed_time": 409.9669821,
            "remaining_time": 374.9477112,
            "test": [
             0.8790532958,
             0.9655216182,
             0.5467172069
            ]
           },
           {
            "iteration": 679,
            "learn": [
             0.546774052
            ],
            "passed_time": 410.5318656,
            "remaining_time": 374.3084657,
            "test": [
             0.8791318447,
             0.9655569565,
             0.546774052
            ]
           },
           {
            "iteration": 680,
            "learn": [
             0.5466982585
            ],
            "passed_time": 411.1781594,
            "remaining_time": 373.7434371,
            "test": [
             0.8791588231,
             0.9655659572,
             0.5466982585
            ]
           },
           {
            "iteration": 681,
            "learn": [
             0.5466603618
            ],
            "passed_time": 411.7507079,
            "remaining_time": 373.1113453,
            "test": [
             0.879178949,
             0.9655820556,
             0.5466603618
            ]
           },
           {
            "iteration": 682,
            "learn": [
             0.54656562
            ],
            "passed_time": 412.4200753,
            "remaining_time": 372.5668909,
            "test": [
             0.8792282637,
             0.9655995616,
             0.54656562
            ]
           },
           {
            "iteration": 683,
            "learn": [
             0.5465845683
            ],
            "passed_time": 413.021144,
            "remaining_time": 371.9605624,
            "test": [
             0.879239148,
             0.9656138048,
             0.5465845683
            ]
           },
           {
            "iteration": 684,
            "learn": [
             0.5466793102
            ],
            "passed_time": 413.6308786,
            "remaining_time": 371.3620297,
            "test": [
             0.8792925169,
             0.9656372331,
             0.5466793102
            ]
           },
           {
            "iteration": 685,
            "learn": [
             0.5466793102
            ],
            "passed_time": 414.2683447,
            "remaining_time": 370.7882852,
            "test": [
             0.8792796632,
             0.9656358834,
             0.5466793102
            ]
           },
           {
            "iteration": 686,
            "learn": [
             0.5468119487
            ],
            "passed_time": 414.8335333,
            "remaining_time": 370.149863,
            "test": [
             0.8793530701,
             0.9656747664,
             0.5468119487
            ]
           },
           {
            "iteration": 687,
            "learn": [
             0.5467930004
            ],
            "passed_time": 415.4895808,
            "remaining_time": 369.5924759,
            "test": [
             0.8794339518,
             0.9657097411,
             0.5467930004
            ]
           },
           {
            "iteration": 688,
            "learn": [
             0.5468498455
            ],
            "passed_time": 416.0709837,
            "remaining_time": 368.9686082,
            "test": [
             0.8793835199,
             0.9657037279,
             0.5468498455
            ]
           },
           {
            "iteration": 689,
            "learn": [
             0.5467361553
            ],
            "passed_time": 416.7361124,
            "remaining_time": 368.418882,
            "test": [
             0.8793821106,
             0.9657035773,
             0.5467361553
            ]
           },
           {
            "iteration": 690,
            "learn": [
             0.5469635357
            ],
            "passed_time": 417.3374567,
            "remaining_time": 367.8126065,
            "test": [
             0.8794133372,
             0.9657292934,
             0.5469635357
            ]
           },
           {
            "iteration": 691,
            "learn": [
             0.546982484
            ],
            "passed_time": 417.9372793,
            "remaining_time": 367.2050084,
            "test": [
             0.8793750724,
             0.9657193023,
             0.546982484
            ]
           },
           {
            "iteration": 692,
            "learn": [
             0.5470014324
            ],
            "passed_time": 418.5964516,
            "remaining_time": 366.6494172,
            "test": [
             0.8793911956,
             0.9657330683,
             0.5470014324
            ]
           },
           {
            "iteration": 693,
            "learn": [
             0.546982484
            ],
            "passed_time": 419.1615621,
            "remaining_time": 366.0113928,
            "test": [
             0.8794158526,
             0.9657481392,
             0.546982484
            ]
           },
           {
            "iteration": 694,
            "learn": [
             0.5469256389
            ],
            "passed_time": 419.8410063,
            "remaining_time": 365.4731062,
            "test": [
             0.879499266,
             0.9657925818,
             0.5469256389
            ]
           },
           {
            "iteration": 695,
            "learn": [
             0.5470014324
            ],
            "passed_time": 420.4168828,
            "remaining_time": 364.8445362,
            "test": [
             0.8794552347,
             0.965789543,
             0.5470014324
            ]
           },
           {
            "iteration": 696,
            "learn": [
             0.5469635357
            ],
            "passed_time": 421.081078,
            "remaining_time": 364.2925252,
            "test": [
             0.8794590873,
             0.9657896815,
             0.5469635357
            ]
           },
           {
            "iteration": 697,
            "learn": [
             0.5470582775
            ],
            "passed_time": 421.6604302,
            "remaining_time": 363.6670186,
            "test": [
             0.8794811152,
             0.9658065583,
             0.5470582775
            ]
           },
           {
            "iteration": 698,
            "learn": [
             0.5470393291
            ],
            "passed_time": 422.2699328,
            "remaining_time": 363.0675674,
            "test": [
             0.8794609207,
             0.9658078784,
             0.5470393291
            ]
           },
           {
            "iteration": 699,
            "learn": [
             0.5470203808
            ],
            "passed_time": 422.9335808,
            "remaining_time": 362.5144978,
            "test": [
             0.8794414102,
             0.9658089153,
             0.5470203808
            ]
           },
           {
            "iteration": 700,
            "learn": [
             0.5469445873
            ],
            "passed_time": 423.5165021,
            "remaining_time": 361.8921323,
            "test": [
             0.8794345633,
             0.9658069836,
             0.5469445873
            ]
           },
           {
            "iteration": 701,
            "learn": [
             0.5469066906
            ],
            "passed_time": 424.1719959,
            "remaining_time": 361.3317002,
            "test": [
             0.8794561439,
             0.9658167772,
             0.5469066906
            ]
           },
           {
            "iteration": 702,
            "learn": [
             0.5469066906
            ],
            "passed_time": 424.7399864,
            "remaining_time": 360.6966883,
            "test": [
             0.8794181155,
             0.9658064659,
             0.5469066906
            ]
           },
           {
            "iteration": 703,
            "learn": [
             0.5469066906
            ],
            "passed_time": 425.392494,
            "remaining_time": 360.1334182,
            "test": [
             0.8794974578,
             0.9658535891,
             0.5469066906
            ]
           },
           {
            "iteration": 704,
            "learn": [
             0.5470014324
            ],
            "passed_time": 425.9520521,
            "remaining_time": 359.4914482,
            "test": [
             0.8795522323,
             0.9658823273,
             0.5470014324
            ]
           },
           {
            "iteration": 705,
            "learn": [
             0.5469445873
            ],
            "passed_time": 426.6560512,
            "remaining_time": 358.9712386,
            "test": [
             0.879553795,
             0.9658911237,
             0.5469445873
            ]
           },
           {
            "iteration": 706,
            "learn": [
             0.5470772258
            ],
            "passed_time": 427.2156854,
            "remaining_time": 358.3294221,
            "test": [
             0.8795452743,
             0.9659016028,
             0.5470772258
            ]
           },
           {
            "iteration": 707,
            "learn": [
             0.5470772259
            ],
            "passed_time": 427.8677188,
            "remaining_time": 357.7650982,
            "test": [
             0.8795351654,
             0.9658993555,
             0.5470772259
            ]
           },
           {
            "iteration": 708,
            "learn": [
             0.5471530193
            ],
            "passed_time": 428.5443458,
            "remaining_time": 357.2210273,
            "test": [
             0.8795353636,
             0.9659065635,
             0.5471530193
            ]
           },
           {
            "iteration": 709,
            "learn": [
             0.5471151226
            ],
            "passed_time": 429.1048839,
            "remaining_time": 356.5801148,
            "test": [
             0.8794919384,
             0.9658934774,
             0.5471151226
            ]
           },
           {
            "iteration": 710,
            "learn": [
             0.5472667095
            ],
            "passed_time": 429.7575387,
            "remaining_time": 356.0157388,
            "test": [
             0.8794341555,
             0.9658736026,
             0.5472667095
            ]
           },
           {
            "iteration": 711,
            "learn": [
             0.5473235546
            ],
            "passed_time": 430.3247352,
            "remaining_time": 355.3805397,
            "test": [
             0.8794352198,
             0.96587881,
             0.5473235546
            ]
           },
           {
            "iteration": 712,
            "learn": [
             0.5473803997
            ],
            "passed_time": 430.9634237,
            "remaining_time": 354.8043895,
            "test": [
             0.8795035095,
             0.9659102111,
             0.5473803997
            ]
           },
           {
            "iteration": 713,
            "learn": [
             0.5474182964
            ],
            "passed_time": 431.5349388,
            "remaining_time": 354.172933,
            "test": [
             0.8795220664,
             0.9659234716,
             0.5474182964
            ]
           },
           {
            "iteration": 714,
            "learn": [
             0.5475888317
            ],
            "passed_time": 432.2436471,
            "remaining_time": 353.6538931,
            "test": [
             0.8795212173,
             0.965927122,
             0.5475888317
            ]
           },
           {
            "iteration": 715,
            "learn": [
             0.5476646252
            ],
            "passed_time": 432.922645,
            "remaining_time": 353.1100903,
            "test": [
             0.8795050139,
             0.9659329572,
             0.5476646252
            ]
           },
           {
            "iteration": 716,
            "learn": [
             0.5474561932
            ],
            "passed_time": 433.5078082,
            "remaining_time": 352.4896125,
            "test": [
             0.8794858491,
             0.9659231605,
             0.5474561932
            ]
           },
           {
            "iteration": 717,
            "learn": [
             0.5475888317
            ],
            "passed_time": 434.1737177,
            "remaining_time": 351.9346848,
            "test": [
             0.8795986977,
             0.9659809585,
             0.5475888317
            ]
           },
           {
            "iteration": 718,
            "learn": [
             0.5476077801
            ],
            "passed_time": 434.7440566,
            "remaining_time": 351.302221,
            "test": [
             0.8795943396,
             0.9659879253,
             0.5476077801
            ]
           },
           {
            "iteration": 719,
            "learn": [
             0.5477404187
            ],
            "passed_time": 435.4062994,
            "remaining_time": 350.7439634,
            "test": [
             0.8796144683,
             0.9659968196,
             0.5477404187
            ]
           },
           {
            "iteration": 720,
            "learn": [
             0.5476456768
            ],
            "passed_time": 435.9715332,
            "remaining_time": 350.1075142,
            "test": [
             0.8795701004,
             0.965968658,
             0.5476456768
            ]
           },
           {
            "iteration": 721,
            "learn": [
             0.5476835736
            ],
            "passed_time": 436.6250392,
            "remaining_time": 349.5419289,
            "test": [
             0.8796032115,
             0.9659900368,
             0.5476835736
            ]
           },
           {
            "iteration": 722,
            "learn": [
             0.5477783154
            ],
            "passed_time": 437.229242,
            "remaining_time": 348.9367533,
            "test": [
             0.879662146,
             0.9660174367,
             0.5477783154
            ]
           },
           {
            "iteration": 723,
            "learn": [
             0.5477783154
            ],
            "passed_time": 437.8163591,
            "remaining_time": 348.3179874,
            "test": [
             0.8796637276,
             0.9660321883,
             0.5477783154
            ]
           },
           {
            "iteration": 724,
            "learn": [
             0.5477972638
            ],
            "passed_time": 438.4889678,
            "remaining_time": 347.7671124,
            "test": [
             0.8797004462,
             0.9660372207,
             0.5477972638
            ]
           },
           {
            "iteration": 725,
            "learn": [
             0.5478162121
            ],
            "passed_time": 439.0695511,
            "remaining_time": 347.1431437,
            "test": [
             0.8797384198,
             0.9660672273,
             0.5478162121
            ]
           },
           {
            "iteration": 726,
            "learn": [
             0.547759367
            ],
            "passed_time": 439.7152661,
            "remaining_time": 346.5706292,
            "test": [
             0.879766541,
             0.9660809612,
             0.547759367
            ]
           },
           {
            "iteration": 727,
            "learn": [
             0.5477972638
            ],
            "passed_time": 440.2726686,
            "remaining_time": 345.9285253,
            "test": [
             0.8797811661,
             0.9661056052,
             0.5477972638
            ]
           },
           {
            "iteration": 728,
            "learn": [
             0.547759367
            ],
            "passed_time": 440.9236988,
            "remaining_time": 345.359989,
            "test": [
             0.879803325,
             0.9661235606,
             0.547759367
            ]
           },
           {
            "iteration": 729,
            "learn": [
             0.5478162121
            ],
            "passed_time": 441.4850376,
            "remaining_time": 344.7211937,
            "test": [
             0.8797683081,
             0.9661043502,
             0.5478162121
            ]
           },
           {
            "iteration": 730,
            "learn": [
             0.5478541089
            ],
            "passed_time": 442.225838,
            "remaining_time": 344.2223007,
            "test": [
             0.8797736782,
             0.9661086433,
             0.5478541089
            ]
           },
           {
            "iteration": 731,
            "learn": [
             0.5478730572
            ],
            "passed_time": 442.8151228,
            "remaining_time": 343.6051773,
            "test": [
             0.8797326256,
             0.9660968851,
             0.5478730572
            ]
           },
           {
            "iteration": 732,
            "learn": [
             0.547910954
            ],
            "passed_time": 443.4440387,
            "remaining_time": 343.0187857,
            "test": [
             0.879813986,
             0.9661373038,
             0.547910954
            ]
           },
           {
            "iteration": 733,
            "learn": [
             0.5480056958
            ],
            "passed_time": 444.1276938,
            "remaining_time": 342.4744887,
            "test": [
             0.8797714161,
             0.9661323691,
             0.5480056958
            ]
           },
           {
            "iteration": 734,
            "learn": [
             0.5480056958
            ],
            "passed_time": 444.704186,
            "remaining_time": 341.8474355,
            "test": [
             0.8797709444,
             0.9661304876,
             0.5480056958
            ]
           },
           {
            "iteration": 735,
            "learn": [
             0.5479488507
            ],
            "passed_time": 445.3286812,
            "remaining_time": 341.2573046,
            "test": [
             0.8798108683,
             0.9661488831,
             0.5479488507
            ]
           },
           {
            "iteration": 736,
            "learn": [
             0.5480435925
            ],
            "passed_time": 445.9122715,
            "remaining_time": 340.6358329,
            "test": [
             0.8797812073,
             0.9661482724,
             0.5480435925
            ]
           },
           {
            "iteration": 737,
            "learn": [
             0.5480056958
            ],
            "passed_time": 446.5792032,
            "remaining_time": 340.0779298,
            "test": [
             0.8797770753,
             0.9661471601,
             0.5480056958
            ]
           },
           {
            "iteration": 738,
            "learn": [
             0.5480056958
            ],
            "passed_time": 447.1647441,
            "remaining_time": 339.4579451,
            "test": [
             0.8798477449,
             0.9661776297,
             0.5480056958
            ]
           },
           {
            "iteration": 739,
            "learn": [
             0.5480814892
            ],
            "passed_time": 447.8269552,
            "remaining_time": 338.8960742,
            "test": [
             0.8798500885,
             0.9661948139,
             0.5480814892
            ]
           },
           {
            "iteration": 740,
            "learn": [
             0.548119386
            ],
            "passed_time": 448.4544619,
            "remaining_time": 338.3077519,
            "test": [
             0.8798351538,
             0.9661876837,
             0.548119386
            ]
           },
           {
            "iteration": 741,
            "learn": [
             0.548119386
            ],
            "passed_time": 449.0435334,
            "remaining_time": 337.69042,
            "test": [
             0.8798576631,
             0.9662067708,
             0.548119386
            ]
           },
           {
            "iteration": 742,
            "learn": [
             0.5480814892
            ],
            "passed_time": 449.6842126,
            "remaining_time": 337.1118525,
            "test": [
             0.8798601055,
             0.9662227125,
             0.5480814892
            ]
           },
           {
            "iteration": 743,
            "learn": [
             0.5480625409
            ],
            "passed_time": 450.2653295,
            "remaining_time": 336.4886065,
            "test": [
             0.8799721366,
             0.9662853883,
             0.5480625409
            ]
           },
           {
            "iteration": 744,
            "learn": [
             0.5480056958
            ],
            "passed_time": 450.916911,
            "remaining_time": 335.9179673,
            "test": [
             0.8799983205,
             0.9662864902,
             0.5480056958
            ]
           },
           {
            "iteration": 745,
            "learn": [
             0.5481004376
            ],
            "passed_time": 451.4826012,
            "remaining_time": 335.2833258,
            "test": [
             0.8799713905,
             0.9662865523,
             0.5481004376
            ]
           },
           {
            "iteration": 746,
            "learn": [
             0.5481004376
            ],
            "passed_time": 452.1417863,
            "remaining_time": 334.7180828,
            "test": [
             0.880001711,
             0.9663011893,
             0.5481004376
            ]
           },
           {
            "iteration": 747,
            "learn": [
             0.5480246441
            ],
            "passed_time": 452.7535752,
            "remaining_time": 334.1176117,
            "test": [
             0.8799928327,
             0.96630703,
             0.5480246441
            ]
           },
           {
            "iteration": 748,
            "learn": [
             0.5480435925
            ],
            "passed_time": 453.3635258,
            "remaining_time": 333.515758,
            "test": [
             0.8800075377,
             0.9663112369,
             0.5480435925
            ]
           },
           {
            "iteration": 749,
            "learn": [
             0.548119386
            ],
            "passed_time": 454.0172871,
            "remaining_time": 332.9460106,
            "test": [
             0.8799705246,
             0.9663024803,
             0.548119386
            ]
           },
           {
            "iteration": 750,
            "learn": [
             0.5483088696
            ],
            "passed_time": 454.587731,
            "remaining_time": 332.3151323,
            "test": [
             0.8800061972,
             0.9663334127,
             0.5483088696
            ]
           },
           {
            "iteration": 751,
            "learn": [
             0.548327818
            ],
            "passed_time": 455.2513664,
            "remaining_time": 331.7523255,
            "test": [
             0.8800853405,
             0.9663629465,
             0.548327818
            ]
           },
           {
            "iteration": 752,
            "learn": [
             0.5483467664
            ],
            "passed_time": 455.8707035,
            "remaining_time": 331.1570715,
            "test": [
             0.8800839665,
             0.9663751551,
             0.5483467664
            ]
           },
           {
            "iteration": 753,
            "learn": [
             0.5484036115
            ],
            "passed_time": 456.5483539,
            "remaining_time": 330.6039804,
            "test": [
             0.8801230578,
             0.9664001136,
             0.5484036115
            ]
           },
           {
            "iteration": 754,
            "learn": [
             0.5484036115
            ],
            "passed_time": 457.1856217,
            "remaining_time": 330.0214091,
            "test": [
             0.880147543,
             0.9664083206,
             0.5484036115
            ]
           },
           {
            "iteration": 755,
            "learn": [
             0.5485173016
            ],
            "passed_time": 457.7899402,
            "remaining_time": 329.4149834,
            "test": [
             0.8801604198,
             0.9664157682,
             0.5485173016
            ]
           },
           {
            "iteration": 756,
            "learn": [
             0.5484604565
            ],
            "passed_time": 458.5365989,
            "remaining_time": 328.9106647,
            "test": [
             0.8801575707,
             0.9664094478,
             0.5484604565
            ]
           },
           {
            "iteration": 757,
            "learn": [
             0.5485930951
            ],
            "passed_time": 459.1261469,
            "remaining_time": 328.2933663,
            "test": [
             0.8801822681,
             0.9664236413,
             0.5485930951
            ]
           },
           {
            "iteration": 758,
            "learn": [
             0.5485741467
            ],
            "passed_time": 459.7989873,
            "remaining_time": 327.7355101,
            "test": [
             0.880168583,
             0.9664321618,
             0.5485741467
            ]
           },
           {
            "iteration": 759,
            "learn": [
             0.5485741467
            ],
            "passed_time": 460.4006282,
            "remaining_time": 327.1267621,
            "test": [
             0.8801997339,
             0.9664471949,
             0.5485741467
            ]
           },
           {
            "iteration": 760,
            "learn": [
             0.5486688886
            ],
            "passed_time": 461.0599271,
            "remaining_time": 326.5588708,
            "test": [
             0.880207521,
             0.9664613687,
             0.5486688886
            ]
           },
           {
            "iteration": 761,
            "learn": [
             0.5487257337
            ],
            "passed_time": 461.7225192,
            "remaining_time": 325.9930647,
            "test": [
             0.8802089933,
             0.9664760936,
             0.5487257337
            ]
           },
           {
            "iteration": 762,
            "learn": [
             0.548744682
            ],
            "passed_time": 462.3053003,
            "remaining_time": 325.3708339,
            "test": [
             0.8801778395,
             0.966471551,
             0.548744682
            ]
           },
           {
            "iteration": 763,
            "learn": [
             0.5487067853
            ],
            "passed_time": 462.9375061,
            "remaining_time": 324.7833813,
            "test": [
             0.8801562126,
             0.9664688435,
             0.5487067853
            ]
           },
           {
            "iteration": 764,
            "learn": [
             0.5487067853
            ],
            "passed_time": 463.5099417,
            "remaining_time": 324.1540115,
            "test": [
             0.8801684575,
             0.9664699905,
             0.5487067853
            ]
           },
           {
            "iteration": 765,
            "learn": [
             0.548744682
            ],
            "passed_time": 464.1630533,
            "remaining_time": 323.5810319,
            "test": [
             0.880185766,
             0.9664749807,
             0.548744682
            ]
           },
           {
            "iteration": 766,
            "learn": [
             0.5488015271
            ],
            "passed_time": 464.7259675,
            "remaining_time": 322.9451639,
            "test": [
             0.8801956412,
             0.9664852866,
             0.5488015271
            ]
           },
           {
            "iteration": 767,
            "learn": [
             0.548896269
            ],
            "passed_time": 465.3850999,
            "remaining_time": 322.3761369,
            "test": [
             0.8802141521,
             0.9665008244,
             0.548896269
            ]
           },
           {
            "iteration": 768,
            "learn": [
             0.5490668043
            ],
            "passed_time": 466.0224251,
            "remaining_time": 321.7918176,
            "test": [
             0.8802071156,
             0.9665136429,
             0.5490668043
            ]
           },
           {
            "iteration": 769,
            "learn": [
             0.5490857526
            ],
            "passed_time": 466.5975194,
            "remaining_time": 321.1645263,
            "test": [
             0.8802840874,
             0.9665457166,
             0.5490857526
            ]
           },
           {
            "iteration": 770,
            "learn": [
             0.5491804945
            ],
            "passed_time": 467.2576339,
            "remaining_time": 320.5957047,
            "test": [
             0.8803168982,
             0.9665776167,
             0.5491804945
            ]
           },
           {
            "iteration": 771,
            "learn": [
             0.5492183912
            ],
            "passed_time": 467.8311144,
            "remaining_time": 319.9673943,
            "test": [
             0.8803206545,
             0.9665887469,
             0.5492183912
            ]
           },
           {
            "iteration": 772,
            "learn": [
             0.5492183912
            ],
            "passed_time": 468.5400844,
            "remaining_time": 319.431597,
            "test": [
             0.8802826625,
             0.9665734636,
             0.5492183912
            ]
           },
           {
            "iteration": 773,
            "learn": [
             0.5493510298
            ],
            "passed_time": 469.1001588,
            "remaining_time": 318.7941648,
            "test": [
             0.8803250857,
             0.9665956839,
             0.5493510298
            ]
           },
           {
            "iteration": 774,
            "learn": [
             0.5493699781
            ],
            "passed_time": 469.754969,
            "remaining_time": 318.221108,
            "test": [
             0.8803330167,
             0.9666067038,
             0.5493699781
            ]
           },
           {
            "iteration": 775,
            "learn": [
             0.54946472
            ],
            "passed_time": 470.3308603,
            "remaining_time": 317.59455,
            "test": [
             0.8803123433,
             0.9666016149,
             0.54946472
            ]
           },
           {
            "iteration": 776,
            "learn": [
             0.5495026167
            ],
            "passed_time": 471.008921,
            "remaining_time": 317.0368928,
            "test": [
             0.8802710564,
             0.966593588,
             0.5495026167
            ]
           },
           {
            "iteration": 777,
            "learn": [
             0.5495215651
            ],
            "passed_time": 471.6446611,
            "remaining_time": 316.450531,
            "test": [
             0.8803241847,
             0.9666330321,
             0.5495215651
            ]
           },
           {
            "iteration": 778,
            "learn": [
             0.5495594618
            ],
            "passed_time": 472.2134877,
            "remaining_time": 315.8192902,
            "test": [
             0.8803276442,
             0.9666400558,
             0.5495594618
            ]
           },
           {
            "iteration": 779,
            "learn": [
             0.5495784101
            ],
            "passed_time": 472.8776601,
            "remaining_time": 315.2517734,
            "test": [
             0.8803200918,
             0.9666428769,
             0.5495784101
            ]
           },
           {
            "iteration": 780,
            "learn": [
             0.5495784101
            ],
            "passed_time": 473.4538647,
            "remaining_time": 314.6255516,
            "test": [
             0.8803329166,
             0.9666455238,
             0.5495784101
            ]
           },
           {
            "iteration": 781,
            "learn": [
             0.549521565
            ],
            "passed_time": 474.1256536,
            "remaining_time": 314.0627731,
            "test": [
             0.8803234249,
             0.9666411578,
             0.549521565
            ]
           },
           {
            "iteration": 782,
            "learn": [
             0.5495784101
            ],
            "passed_time": 474.7004004,
            "remaining_time": 313.4356412,
            "test": [
             0.8803095367,
             0.9666368378,
             0.5495784101
            ]
           },
           {
            "iteration": 783,
            "learn": [
             0.5495784101
            ],
            "passed_time": 475.393455,
            "remaining_time": 312.8865086,
            "test": [
             0.8803081856,
             0.9666376934,
             0.5495784101
            ]
           },
           {
            "iteration": 784,
            "learn": [
             0.549673152
            ],
            "passed_time": 475.9716162,
            "remaining_time": 312.2616335,
            "test": [
             0.8803402407,
             0.9666673114,
             0.549673152
            ]
           },
           {
            "iteration": 785,
            "learn": [
             0.5495784102
            ],
            "passed_time": 476.6234881,
            "remaining_time": 311.68508,
            "test": [
             0.8803551225,
             0.9666878147,
             0.5495784102
            ]
           },
           {
            "iteration": 786,
            "learn": [
             0.5496352553
            ],
            "passed_time": 477.3053239,
            "remaining_time": 311.1278668,
            "test": [
             0.880327734,
             0.9666779471,
             0.5496352553
            ]
           },
           {
            "iteration": 787,
            "learn": [
             0.5497299971
            ],
            "passed_time": 477.8727805,
            "remaining_time": 310.4960198,
            "test": [
             0.880340165,
             0.9667083249,
             0.5497299971
            ]
           },
           {
            "iteration": 788,
            "learn": [
             0.549673152
            ],
            "passed_time": 478.5474642,
            "remaining_time": 309.9337822,
            "test": [
             0.8803176569,
             0.9666909009,
             0.549673152
            ]
           },
           {
            "iteration": 789,
            "learn": [
             0.5495594618
            ],
            "passed_time": 479.1155971,
            "remaining_time": 309.3024741,
            "test": [
             0.8803006581,
             0.9666842665,
             0.5495594618
            ]
           },
           {
            "iteration": 790,
            "learn": [
             0.5495594618
            ],
            "passed_time": 479.7769028,
            "remaining_time": 308.7312813,
            "test": [
             0.8802953248,
             0.9666849227,
             0.5495594618
            ]
           },
           {
            "iteration": 791,
            "learn": [
             0.5493889265
            ],
            "passed_time": 480.3413979,
            "remaining_time": 308.0977653,
            "test": [
             0.8803078728,
             0.9666954264,
             0.5493889265
            ]
           },
           {
            "iteration": 792,
            "learn": [
             0.5495594618
            ],
            "passed_time": 480.9925677,
            "remaining_time": 307.5198384,
            "test": [
             0.8803452888,
             0.9667303063,
             0.5495594618
            ]
           },
           {
            "iteration": 793,
            "learn": [
             0.5496542036
            ],
            "passed_time": 481.6356017,
            "remaining_time": 306.9365422,
            "test": [
             0.8804064421,
             0.9667638594,
             0.5496542036
            ]
           },
           {
            "iteration": 794,
            "learn": [
             0.5496921004
            ],
            "passed_time": 482.2010534,
            "remaining_time": 306.3038138,
            "test": [
             0.8803460549,
             0.9667467228,
             0.5496921004
            ]
           },
           {
            "iteration": 795,
            "learn": [
             0.5496352553
            ],
            "passed_time": 482.8670154,
            "remaining_time": 305.7348942,
            "test": [
             0.8803067227,
             0.9667401769,
             0.5496352553
            ]
           },
           {
            "iteration": 796,
            "learn": [
             0.54946472
            ],
            "passed_time": 483.4556031,
            "remaining_time": 305.1168988,
            "test": [
             0.8803514746,
             0.9667628705,
             0.54946472
            ]
           },
           {
            "iteration": 797,
            "learn": [
             0.5495405134
            ],
            "passed_time": 484.1173056,
            "remaining_time": 304.5449717,
            "test": [
             0.8803741046,
             0.9667770462,
             0.5495405134
            ]
           },
           {
            "iteration": 798,
            "learn": [
             0.5495405134
            ],
            "passed_time": 484.7010127,
            "remaining_time": 303.9239141,
            "test": [
             0.8803706153,
             0.9667808812,
             0.5495405134
            ]
           },
           {
            "iteration": 799,
            "learn": [
             0.5496163069
            ],
            "passed_time": 485.3741579,
            "remaining_time": 303.3588487,
            "test": [
             0.8804082016,
             0.9668029223,
             0.5496163069
            ]
           },
           {
            "iteration": 800,
            "learn": [
             0.5496542036
            ],
            "passed_time": 485.9683668,
            "remaining_time": 302.7443384,
            "test": [
             0.8804014721,
             0.9667987999,
             0.5496542036
            ]
           },
           {
            "iteration": 801,
            "learn": [
             0.5495594618
            ],
            "passed_time": 486.5791982,
            "remaining_time": 302.1402004,
            "test": [
             0.8804243731,
             0.9668089445,
             0.5495594618
            ]
           },
           {
            "iteration": 802,
            "learn": [
             0.5496163069
            ],
            "passed_time": 487.2636922,
            "remaining_time": 301.5816377,
            "test": [
             0.8803624254,
             0.9667895351,
             0.5496163069
            ]
           },
           {
            "iteration": 803,
            "learn": [
             0.5497110487
            ],
            "passed_time": 487.8304132,
            "remaining_time": 300.9501056,
            "test": [
             0.8804343546,
             0.9668327099,
             0.5497110487
            ]
           },
           {
            "iteration": 804,
            "learn": [
             0.5496352553
            ],
            "passed_time": 488.5077473,
            "remaining_time": 300.3867515,
            "test": [
             0.8805067045,
             0.96687119,
             0.5496352553
            ]
           },
           {
            "iteration": 805,
            "learn": [
             0.5495784102
            ],
            "passed_time": 489.0741033,
            "remaining_time": 299.7550956,
            "test": [
             0.8805050941,
             0.9668776455,
             0.5495784102
            ]
           },
           {
            "iteration": 806,
            "learn": [
             0.549673152
            ],
            "passed_time": 489.8064512,
            "remaining_time": 299.2250067,
            "test": [
             0.8805178717,
             0.9669031387,
             0.549673152
            ]
           },
           {
            "iteration": 807,
            "learn": [
             0.5495784101
            ],
            "passed_time": 490.3812151,
            "remaining_time": 298.5984627,
            "test": [
             0.8805836178,
             0.9669321281,
             0.5495784101
            ]
           },
           {
            "iteration": 808,
            "learn": [
             0.5495973585
            ],
            "passed_time": 491.0790552,
            "remaining_time": 298.0467443,
            "test": [
             0.8806261919,
             0.9669455394,
             0.5495973585
            ]
           },
           {
            "iteration": 809,
            "learn": [
             0.5496542036
            ],
            "passed_time": 491.7472968,
            "remaining_time": 297.4767598,
            "test": [
             0.8805882279,
             0.9669401707,
             0.5496542036
            ]
           },
           {
            "iteration": 810,
            "learn": [
             0.5497299971
            ],
            "passed_time": 492.3122818,
            "remaining_time": 296.8442735,
            "test": [
             0.880548927,
             0.9669262539,
             0.5497299971
            ]
           },
           {
            "iteration": 811,
            "learn": [
             0.5497678938
            ],
            "passed_time": 492.9778925,
            "remaining_time": 296.272428,
            "test": [
             0.880535481,
             0.9669306068,
             0.5497678938
            ]
           },
           {
            "iteration": 812,
            "learn": [
             0.5498057905
            ],
            "passed_time": 493.5399604,
            "remaining_time": 295.638328,
            "test": [
             0.8805430882,
             0.9669391136,
             0.5498057905
            ]
           },
           {
            "iteration": 813,
            "learn": [
             0.5497868422
            ],
            "passed_time": 494.2084943,
            "remaining_time": 295.0679708,
            "test": [
             0.8805673519,
             0.9669599348,
             0.5497868422
            ]
           },
           {
            "iteration": 814,
            "learn": [
             0.5498247389
            ],
            "passed_time": 494.7987656,
            "remaining_time": 294.4507992,
            "test": [
             0.8805729141,
             0.966965998,
             0.5498247389
            ]
           },
           {
            "iteration": 815,
            "learn": [
             0.5498247389
            ],
            "passed_time": 495.5189147,
            "remaining_time": 293.9107288,
            "test": [
             0.880557876,
             0.9669658524,
             0.5498247389
            ]
           },
           {
            "iteration": 816,
            "learn": [
             0.5497868422
            ],
            "passed_time": 496.1639764,
            "remaining_time": 293.3258269,
            "test": [
             0.8805650428,
             0.9669810056,
             0.5497868422
            ]
           },
           {
            "iteration": 817,
            "learn": [
             0.5499005324
            ],
            "passed_time": 496.7442112,
            "remaining_time": 292.7025792,
            "test": [
             0.8806186989,
             0.9670045981,
             0.5499005324
            ]
           },
           {
            "iteration": 818,
            "learn": [
             0.5499005324
            ],
            "passed_time": 497.3786459,
            "remaining_time": 292.1112682,
            "test": [
             0.8806687964,
             0.9670279133,
             0.5499005324
            ]
           },
           {
            "iteration": 819,
            "learn": [
             0.549881584
            ],
            "passed_time": 497.9575397,
            "remaining_time": 291.4873403,
            "test": [
             0.8805731263,
             0.9669903533,
             0.549881584
            ]
           },
           {
            "iteration": 820,
            "learn": [
             0.5499194807
            ],
            "passed_time": 498.6478426,
            "remaining_time": 290.928522,
            "test": [
             0.8805821521,
             0.9669962969,
             0.5499194807
            ]
           },
           {
            "iteration": 821,
            "learn": [
             0.5499005324
            ],
            "passed_time": 499.2132456,
            "remaining_time": 290.2967535,
            "test": [
             0.8806115502,
             0.9670066289,
             0.5499005324
            ]
           },
           {
            "iteration": 822,
            "learn": [
             0.5498436873
            ],
            "passed_time": 499.8724123,
            "remaining_time": 289.7194905,
            "test": [
             0.8806053537,
             0.9670120844,
             0.5498436873
            ]
           },
           {
            "iteration": 823,
            "learn": [
             0.549881584
            ],
            "passed_time": 500.538812,
            "remaining_time": 289.1462069,
            "test": [
             0.8806463681,
             0.9670315226,
             0.549881584
            ]
           },
           {
            "iteration": 824,
            "learn": [
             0.5499194807
            ],
            "passed_time": 501.1128203,
            "remaining_time": 288.5195026,
            "test": [
             0.8806858363,
             0.967045369,
             0.5499194807
            ]
           },
           {
            "iteration": 825,
            "learn": [
             0.5499194807
            ],
            "passed_time": 501.7785017,
            "remaining_time": 287.9455324,
            "test": [
             0.8807124683,
             0.967065787,
             0.5499194807
            ]
           },
           {
            "iteration": 826,
            "learn": [
             0.549881584
            ],
            "passed_time": 502.3521891,
            "remaining_time": 287.3187248,
            "test": [
             0.8806924874,
             0.9670626687,
             0.549881584
            ]
           },
           {
            "iteration": 827,
            "learn": [
             0.5499384291
            ],
            "passed_time": 503.0200159,
            "remaining_time": 286.7457096,
            "test": [
             0.8807353478,
             0.9670752212,
             0.5499384291
            ]
           },
           {
            "iteration": 828,
            "learn": [
             0.5498626356
            ],
            "passed_time": 503.5889828,
            "remaining_time": 286.1162978,
            "test": [
             0.8807272617,
             0.9670781325,
             0.5498626356
            ]
           },
           {
            "iteration": 829,
            "learn": [
             0.5499384291
            ],
            "passed_time": 504.2442252,
            "remaining_time": 285.5358866,
            "test": [
             0.8807927036,
             0.9671091499,
             0.5499384291
            ]
           },
           {
            "iteration": 830,
            "learn": [
             0.5499952742
            ],
            "passed_time": 504.8121687,
            "remaining_time": 284.9060254,
            "test": [
             0.8808694957,
             0.967143502,
             0.5499952742
            ]
           },
           {
            "iteration": 831,
            "learn": [
             0.5501089644
            ],
            "passed_time": 505.5358711,
            "remaining_time": 284.3639275,
            "test": [
             0.8808633663,
             0.9671486914,
             0.5501089644
            ]
           },
           {
            "iteration": 832,
            "learn": [
             0.5501089644
            ],
            "passed_time": 506.1116532,
            "remaining_time": 283.7384658,
            "test": [
             0.8807882257,
             0.967125283,
             0.5501089644
            ]
           },
           {
            "iteration": 833,
            "learn": [
             0.5501089644
            ],
            "passed_time": 506.8189576,
            "remaining_time": 283.1866118,
            "test": [
             0.8807887334,
             0.9671301034,
             0.5501089644
            ]
           },
           {
            "iteration": 834,
            "learn": [
             0.5502226546
            ],
            "passed_time": 507.4610903,
            "remaining_time": 282.5980922,
            "test": [
             0.8807976423,
             0.9671404017,
             0.5502226546
            ]
           },
           {
            "iteration": 835,
            "learn": [
             0.5501468611
            ],
            "passed_time": 508.0431354,
            "remaining_time": 281.9760943,
            "test": [
             0.8807724035,
             0.9671329629,
             0.5501468611
            ]
           },
           {
            "iteration": 836,
            "learn": [
             0.5501089644
            ],
            "passed_time": 508.7086222,
            "remaining_time": 281.4003489,
            "test": [
             0.8807560754,
             0.9671267727,
             0.5501089644
            ]
           },
           {
            "iteration": 837,
            "learn": [
             0.550241603
            ],
            "passed_time": 509.2956253,
            "remaining_time": 280.7811204,
            "test": [
             0.8808077322,
             0.9671622491,
             0.550241603
            ]
           },
           {
            "iteration": 838,
            "learn": [
             0.5502794997
            ],
            "passed_time": 509.9392461,
            "remaining_time": 280.193078,
            "test": [
             0.8808042166,
             0.9671611265,
             0.5502794997
            ]
           },
           {
            "iteration": 839,
            "learn": [
             0.5503363448
            ],
            "passed_time": 510.5331565,
            "remaining_time": 279.5776809,
            "test": [
             0.8808477928,
             0.9671834066,
             0.5503363448
            ]
           },
           {
            "iteration": 840,
            "learn": [
             0.5503552932
            ],
            "passed_time": 511.2436928,
            "remaining_time": 279.0259869,
            "test": [
             0.8808479756,
             0.9671851239,
             0.5503552932
            ]
           },
           {
            "iteration": 841,
            "learn": [
             0.5502984481
            ],
            "passed_time": 511.8245657,
            "remaining_time": 278.4033861,
            "test": [
             0.8808639506,
             0.9671925293,
             0.5502984481
            ]
           },
           {
            "iteration": 842,
            "learn": [
             0.5503363448
            ],
            "passed_time": 512.447929,
            "remaining_time": 277.8039188,
            "test": [
             0.880896561,
             0.9672123833,
             0.5503363448
            ]
           },
           {
            "iteration": 843,
            "learn": [
             0.5504121383
            ],
            "passed_time": 513.0902138,
            "remaining_time": 277.2146179,
            "test": [
             0.8809350349,
             0.9672368619,
             0.5504121383
            ]
           },
           {
            "iteration": 844,
            "learn": [
             0.5504310866
            ],
            "passed_time": 513.6565708,
            "remaining_time": 276.5843073,
            "test": [
             0.8809022313,
             0.9672497798,
             0.5504310866
            ]
           },
           {
            "iteration": 845,
            "learn": [
             0.5504310866
            ],
            "passed_time": 514.4159257,
            "remaining_time": 276.057719,
            "test": [
             0.8808862303,
             0.9672483895,
             0.5504310866
            ]
           },
           {
            "iteration": 846,
            "learn": [
             0.5506395186
            ],
            "passed_time": 514.982703,
            "remaining_time": 275.4275849,
            "test": [
             0.8808881988,
             0.9672409017,
             0.5506395186
            ]
           },
           {
            "iteration": 847,
            "learn": [
             0.5506395186
            ],
            "passed_time": 515.6671599,
            "remaining_time": 274.8603258,
            "test": [
             0.8808812242,
             0.9672495045,
             0.5506395186
            ]
           },
           {
            "iteration": 848,
            "learn": [
             0.5506016219
            ],
            "passed_time": 516.2371456,
            "remaining_time": 274.231982,
            "test": [
             0.8809424634,
             0.9672763695,
             0.5506016219
            ]
           },
           {
            "iteration": 849,
            "learn": [
             0.5506205703
            ],
            "passed_time": 516.8985379,
            "remaining_time": 273.6521671,
            "test": [
             0.8809856849,
             0.9672956408,
             0.5506205703
            ]
           },
           {
            "iteration": 850,
            "learn": [
             0.5506395186
            ],
            "passed_time": 517.5145077,
            "remaining_time": 273.048195,
            "test": [
             0.8808662005,
             0.9672538147,
             0.5506395186
            ]
           },
           {
            "iteration": 851,
            "learn": [
             0.5507153121
            ],
            "passed_time": 518.1319387,
            "remaining_time": 272.4449631,
            "test": [
             0.8808419294,
             0.9672517773,
             0.5507153121
            ]
           },
           {
            "iteration": 852,
            "learn": [
             0.5508100539
            ],
            "passed_time": 518.8192187,
            "remaining_time": 271.878301,
            "test": [
             0.8808865046,
             0.9672742364,
             0.5508100539
            ]
           },
           {
            "iteration": 853,
            "learn": [
             0.5506963637
            ],
            "passed_time": 519.4018405,
            "remaining_time": 271.2566989,
            "test": [
             0.8808372955,
             0.9672604172,
             0.5506963637
            ]
           },
           {
            "iteration": 854,
            "learn": [
             0.5506774154
            ],
            "passed_time": 520.161466,
            "remaining_time": 270.7273127,
            "test": [
             0.8808598822,
             0.9672815877,
             0.5506774154
            ]
           },
           {
            "iteration": 855,
            "learn": [
             0.5507153121
            ],
            "passed_time": 520.7246465,
            "remaining_time": 270.0954942,
            "test": [
             0.8808551554,
             0.9672841836,
             0.5507153121
            ]
           },
           {
            "iteration": 856,
            "learn": [
             0.5506016219
            ],
            "passed_time": 521.3754378,
            "remaining_time": 269.5091236,
            "test": [
             0.8809113047,
             0.9673179404,
             0.5506016219
            ]
           },
           {
            "iteration": 857,
            "learn": [
             0.5506205703
            ],
            "passed_time": 521.9326165,
            "remaining_time": 268.8743782,
            "test": [
             0.880911962,
             0.9673278767,
             0.5506205703
            ]
           },
           {
            "iteration": 858,
            "learn": [
             0.5505826735
            ],
            "passed_time": 522.5782718,
            "remaining_time": 268.2852362,
            "test": [
             0.8809230189,
             0.9673270981,
             0.5505826735
            ]
           },
           {
            "iteration": 859,
            "learn": [
             0.5506395186
            ],
            "passed_time": 523.1657751,
            "remaining_time": 267.6662105,
            "test": [
             0.880893383,
             0.9673270822,
             0.5506395186
            ]
           },
           {
            "iteration": 860,
            "learn": [
             0.5506395186
            ],
            "passed_time": 523.8129184,
            "remaining_time": 267.0776669,
            "test": [
             0.8809004486,
             0.9673362665,
             0.5506395186
            ]
           },
           {
            "iteration": 861,
            "learn": [
             0.5506395186
            ],
            "passed_time": 524.4948126,
            "remaining_time": 266.5066449,
            "test": [
             0.8809079908,
             0.9673471217,
             0.5506395186
            ]
           },
           {
            "iteration": 862,
            "learn": [
             0.550658467
            ],
            "passed_time": 525.0576528,
            "remaining_time": 265.8750803,
            "test": [
             0.8809093933,
             0.9673422611,
             0.550658467
            ]
           },
           {
            "iteration": 863,
            "learn": [
             0.5506963637
            ],
            "passed_time": 525.7419327,
            "remaining_time": 265.3049568,
            "test": [
             0.8809097792,
             0.9673449908,
             0.5506963637
            ]
           },
           {
            "iteration": 864,
            "learn": [
             0.5507153121
            ],
            "passed_time": 526.3377873,
            "remaining_time": 264.6901012,
            "test": [
             0.880913242,
             0.9673496874,
             0.5507153121
            ]
           },
           {
            "iteration": 865,
            "learn": [
             0.5507911056
            ],
            "passed_time": 526.9888701,
            "remaining_time": 264.1029673,
            "test": [
             0.8809369968,
             0.9673660185,
             0.5507911056
            ]
           },
           {
            "iteration": 866,
            "learn": [
             0.5507911056
            ],
            "passed_time": 527.5639329,
            "remaining_time": 263.4777197,
            "test": [
             0.8809455415,
             0.9673829564,
             0.5507911056
            ]
           },
           {
            "iteration": 867,
            "learn": [
             0.5507532088
            ],
            "passed_time": 528.2519808,
            "remaining_time": 262.90882,
            "test": [
             0.8809722953,
             0.967396479,
             0.5507532088
            ]
           },
           {
            "iteration": 868,
            "learn": [
             0.5507911056
            ],
            "passed_time": 528.8864796,
            "remaining_time": 262.3130871,
            "test": [
             0.8809676462,
             0.9673969489,
             0.5507911056
            ]
           },
           {
            "iteration": 869,
            "learn": [
             0.5507911056
            ],
            "passed_time": 529.4659125,
            "remaining_time": 261.6900487,
            "test": [
             0.8810376032,
             0.9674367193,
             0.5507911056
            ]
           },
           {
            "iteration": 870,
            "learn": [
             0.5508858474
            ],
            "passed_time": 530.123631,
            "remaining_time": 261.105669,
            "test": [
             0.8810499721,
             0.9674512289,
             0.5508858474
            ]
           },
           {
            "iteration": 871,
            "learn": [
             0.550866899
            ],
            "passed_time": 530.7124161,
            "remaining_time": 260.4872868,
            "test": [
             0.8810175695,
             0.9674354751,
             0.550866899
            ]
           },
           {
            "iteration": 872,
            "learn": [
             0.5508479507
            ],
            "passed_time": 531.3743827,
            "remaining_time": 259.9047668,
            "test": [
             0.881079922,
             0.9674564484,
             0.5508479507
            ]
           },
           {
            "iteration": 873,
            "learn": [
             0.5508479507
            ],
            "passed_time": 531.9406311,
            "remaining_time": 259.2754106,
            "test": [
             0.8810930021,
             0.9674655228,
             0.5508479507
            ]
           },
           {
            "iteration": 874,
            "learn": [
             0.5508858474
            ],
            "passed_time": 532.606457,
            "remaining_time": 258.6945648,
            "test": [
             0.8810594038,
             0.9674719603,
             0.5508858474
            ]
           },
           {
            "iteration": 875,
            "learn": [
             0.5508479507
            ],
            "passed_time": 533.2833326,
            "remaining_time": 258.1188733,
            "test": [
             0.8810994151,
             0.9674966417,
             0.5508479507
            ]
           },
           {
            "iteration": 876,
            "learn": [
             0.5508479507
            ],
            "passed_time": 533.8442974,
            "remaining_time": 257.4870442,
            "test": [
             0.8811035367,
             0.9675085489,
             0.5508479507
            ]
           },
           {
            "iteration": 877,
            "learn": [
             0.5508479507
            ],
            "passed_time": 534.5047664,
            "remaining_time": 256.9032021,
            "test": [
             0.8811233761,
             0.9675252956,
             0.5508479507
            ]
           },
           {
            "iteration": 878,
            "learn": [
             0.5509426925
            ],
            "passed_time": 535.0726022,
            "remaining_time": 256.2748186,
            "test": [
             0.8810892524,
             0.967511488,
             0.5509426925
            ]
           },
           {
            "iteration": 879,
            "learn": [
             0.5509995376
            ],
            "passed_time": 535.7376181,
            "remaining_time": 255.6929541,
            "test": [
             0.8810901363,
             0.9675158937,
             0.5509995376
            ]
           },
           {
            "iteration": 880,
            "learn": [
             0.5510753311
            ],
            "passed_time": 536.3109312,
            "remaining_time": 255.0672874,
            "test": [
             0.8810907645,
             0.9675070365,
             0.5510753311
            ]
           },
           {
            "iteration": 881,
            "learn": [
             0.5510942794
            ],
            "passed_time": 537.017612,
            "remaining_time": 254.5049454,
            "test": [
             0.8811264524,
             0.9675279543,
             0.5510942794
            ]
           },
           {
            "iteration": 882,
            "learn": [
             0.5510563827
            ],
            "passed_time": 537.6004175,
            "remaining_time": 253.8837759,
            "test": [
             0.8811769589,
             0.9675555659,
             0.5510563827
            ]
           },
           {
            "iteration": 883,
            "learn": [
             0.551018486
            ],
            "passed_time": 538.2645585,
            "remaining_time": 253.3009687,
            "test": [
             0.8812027832,
             0.9675865447,
             0.551018486
            ]
           },
           {
            "iteration": 884,
            "learn": [
             0.5511132278
            ],
            "passed_time": 538.925279,
            "remaining_time": 252.7163738,
            "test": [
             0.8812164347,
             0.9675965953,
             0.5511132278
            ]
           },
           {
            "iteration": 885,
            "learn": [
             0.5511511245
            ],
            "passed_time": 539.5028706,
            "remaining_time": 252.0927634,
            "test": [
             0.8812312249,
             0.9676048954,
             0.5511511245
            ]
           },
           {
            "iteration": 886,
            "learn": [
             0.5510563827
            ],
            "passed_time": 540.1722848,
            "remaining_time": 251.5120108,
            "test": [
             0.88119538,
             0.967590968,
             0.5510563827
            ]
           },
           {
            "iteration": 887,
            "learn": [
             0.5510942794
            ],
            "passed_time": 540.7665946,
            "remaining_time": 250.8962128,
            "test": [
             0.8811807368,
             0.9676048892,
             0.5510942794
            ]
           },
           {
            "iteration": 888,
            "learn": [
             0.5510942794
            ],
            "passed_time": 541.442756,
            "remaining_time": 250.3183045,
            "test": [
             0.881213611,
             0.9676232004,
             0.5510942794
            ]
           },
           {
            "iteration": 889,
            "learn": [
             0.5510563827
            ],
            "passed_time": 542.0121692,
            "remaining_time": 249.6909993,
            "test": [
             0.8812182868,
             0.9676298893,
             0.5510563827
            ]
           },
           {
            "iteration": 890,
            "learn": [
             0.5510374343
            ],
            "passed_time": 542.6778221,
            "remaining_time": 249.1080014,
            "test": [
             0.8812040936,
             0.9676289986,
             0.5510374343
            ]
           },
           {
            "iteration": 891,
            "learn": [
             0.551018486
            ],
            "passed_time": 543.2463405,
            "remaining_time": 248.4803889,
            "test": [
             0.8811832216,
             0.9676208087,
             0.551018486
            ]
           },
           {
            "iteration": 892,
            "learn": [
             0.551018486
            ],
            "passed_time": 543.9234787,
            "remaining_time": 247.9024141,
            "test": [
             0.8812038614,
             0.9676362041,
             0.551018486
            ]
           },
           {
            "iteration": 893,
            "learn": [
             0.5509616409
            ],
            "passed_time": 544.6012911,
            "remaining_time": 247.3245237,
            "test": [
             0.8811997266,
             0.96763604,
             0.5509616409
            ]
           },
           {
            "iteration": 894,
            "learn": [
             0.5509426925
            ],
            "passed_time": 545.1911323,
            "remaining_time": 246.7066018,
            "test": [
             0.8812306483,
             0.9676600359,
             0.5509426925
            ]
           },
           {
            "iteration": 895,
            "learn": [
             0.5509616409
            ],
            "passed_time": 545.9161173,
            "remaining_time": 246.1496779,
            "test": [
             0.881263778,
             0.9676873567,
             0.5509616409
            ]
           },
           {
            "iteration": 896,
            "learn": [
             0.5510563827
            ],
            "passed_time": 546.4858675,
            "remaining_time": 245.5226361,
            "test": [
             0.8812411994,
             0.9676787973,
             0.5510563827
            ]
           },
           {
            "iteration": 897,
            "learn": [
             0.5511511245
            ],
            "passed_time": 547.2106064,
            "remaining_time": 244.9651044,
            "test": [
             0.8813095511,
             0.9677035704,
             0.5511511245
            ]
           },
           {
            "iteration": 898,
            "learn": [
             0.5511321762
            ],
            "passed_time": 547.8031302,
            "remaining_time": 244.348226,
            "test": [
             0.8813207083,
             0.9677112673,
             0.5511321762
            ]
           },
           {
            "iteration": 899,
            "learn": [
             0.5511511245
            ],
            "passed_time": 548.4536341,
            "remaining_time": 243.7571707,
            "test": [
             0.8813904314,
             0.96775574,
             0.5511511245
            ]
           },
           {
            "iteration": 900,
            "learn": [
             0.5511321762
            ],
            "passed_time": 549.1748238,
            "remaining_time": 243.197286,
            "test": [
             0.8813982915,
             0.9677556173,
             0.5511321762
            ]
           },
           {
            "iteration": 901,
            "learn": [
             0.5510942794
            ],
            "passed_time": 549.7501926,
            "remaining_time": 242.5727014,
            "test": [
             0.8813628867,
             0.9677445026,
             0.5510942794
            ]
           },
           {
            "iteration": 902,
            "learn": [
             0.5510942794
            ],
            "passed_time": 550.4235607,
            "remaining_time": 241.9913107,
            "test": [
             0.88137336,
             0.9677446831,
             0.5510942794
            ]
           },
           {
            "iteration": 903,
            "learn": [
             0.5509616409
            ],
            "passed_time": 550.995723,
            "remaining_time": 241.3653831,
            "test": [
             0.8813707464,
             0.9677419642,
             0.5509616409
            ]
           },
           {
            "iteration": 904,
            "learn": [
             0.5509995376
            ],
            "passed_time": 551.6644091,
            "remaining_time": 240.7817034,
            "test": [
             0.8813817873,
             0.96776177,
             0.5509995376
            ]
           },
           {
            "iteration": 905,
            "learn": [
             0.5511132278
            ],
            "passed_time": 552.2494524,
            "remaining_time": 240.1614616,
            "test": [
             0.8813744474,
             0.967761496,
             0.5511132278
            ]
           },
           {
            "iteration": 906,
            "learn": [
             0.5510753311
            ],
            "passed_time": 552.9197732,
            "remaining_time": 239.5782479,
            "test": [
             0.881376917,
             0.9677661176,
             0.5510753311
            ]
           },
           {
            "iteration": 907,
            "learn": [
             0.5510563827
            ],
            "passed_time": 553.6242023,
            "remaining_time": 239.0095675,
            "test": [
             0.8813453026,
             0.9677460703,
             0.5510563827
            ]
           },
           {
            "iteration": 908,
            "learn": [
             0.5511511245
            ],
            "passed_time": 554.2171516,
            "remaining_time": 238.3926362,
            "test": [
             0.8814465299,
             0.9677984702,
             0.5511511245
            ]
           },
           {
            "iteration": 909,
            "learn": [
             0.5511700729
            ],
            "passed_time": 554.9094186,
            "remaining_time": 237.8183222,
            "test": [
             0.8814923347,
             0.9678217951,
             0.5511700729
            ]
           },
           {
            "iteration": 910,
            "learn": [
             0.5511321762
            ],
            "passed_time": 555.5027066,
            "remaining_time": 237.201485,
            "test": [
             0.8814970807,
             0.9678320981,
             0.5511321762
            ]
           },
           {
            "iteration": 911,
            "learn": [
             0.5512648147
            ],
            "passed_time": 556.1684965,
            "remaining_time": 236.6155446,
            "test": [
             0.8814874325,
             0.9678311973,
             0.5512648147
            ]
           },
           {
            "iteration": 912,
            "learn": [
             0.5512648147
            ],
            "passed_time": 556.8423136,
            "remaining_time": 236.0328317,
            "test": [
             0.881502431,
             0.9678402108,
             0.5512648147
            ]
           },
           {
            "iteration": 913,
            "learn": [
             0.5512458664
            ],
            "passed_time": 557.4330504,
            "remaining_time": 235.4148331,
            "test": [
             0.8815161795,
             0.9678466468,
             0.5512458664
            ]
           },
           {
            "iteration": 914,
            "learn": [
             0.5511511245
            ],
            "passed_time": 558.1721608,
            "remaining_time": 234.8593245,
            "test": [
             0.881510064,
             0.9678455158,
             0.5511511245
            ]
           },
           {
            "iteration": 915,
            "learn": [
             0.5511511245
            ],
            "passed_time": 558.7764959,
            "remaining_time": 234.2469153,
            "test": [
             0.8815279699,
             0.9678585743,
             0.5511511245
            ]
           },
           {
            "iteration": 916,
            "learn": [
             0.5511700729
            ],
            "passed_time": 559.440609,
            "remaining_time": 233.659491,
            "test": [
             0.8816171248,
             0.9679093892,
             0.5511700729
            ]
           },
           {
            "iteration": 917,
            "learn": [
             0.5511511245
            ],
            "passed_time": 560.0736725,
            "remaining_time": 233.0589792,
            "test": [
             0.8816153839,
             0.9679095013,
             0.5511511245
            ]
           },
           {
            "iteration": 918,
            "learn": [
             0.5511890213
            ],
            "passed_time": 560.6951942,
            "remaining_time": 232.4536115,
            "test": [
             0.88163736,
             0.9679205254,
             0.5511890213
            ]
           },
           {
            "iteration": 919,
            "learn": [
             0.5512079696
            ],
            "passed_time": 561.4580731,
            "remaining_time": 231.9065954,
            "test": [
             0.8815974505,
             0.9679076599,
             0.5512079696
            ]
           },
           {
            "iteration": 920,
            "learn": [
             0.5512837631
            ],
            "passed_time": 562.0568364,
            "remaining_time": 231.2915755,
            "test": [
             0.8815794534,
             0.9679118592,
             0.5512837631
            ]
           },
           {
            "iteration": 921,
            "learn": [
             0.5513027115
            ],
            "passed_time": 562.7325302,
            "remaining_time": 230.7081306,
            "test": [
             0.8816867371,
             0.9679645183,
             0.5513027115
            ]
           },
           {
            "iteration": 922,
            "learn": [
             0.5513027115
            ],
            "passed_time": 563.3329861,
            "remaining_time": 230.0937549,
            "test": [
             0.8816867431,
             0.9679672034,
             0.5513027115
            ]
           },
           {
            "iteration": 923,
            "learn": [
             0.5513027115
            ],
            "passed_time": 564.0026285,
            "remaining_time": 229.5075631,
            "test": [
             0.8816596153,
             0.9679604942,
             0.5513027115
            ]
           },
           {
            "iteration": 924,
            "learn": [
             0.5513595566
            ],
            "passed_time": 564.5905552,
            "remaining_time": 228.8880629,
            "test": [
             0.8816503806,
             0.9679596465,
             0.5513595566
            ]
           },
           {
            "iteration": 925,
            "learn": [
             0.5513974533
            ],
            "passed_time": 565.265369,
            "remaining_time": 228.3037236,
            "test": [
             0.8815661112,
             0.9679366035,
             0.5513974533
            ]
           },
           {
            "iteration": 926,
            "learn": [
             0.5515679886
            ],
            "passed_time": 565.9314094,
            "remaining_time": 227.7156588,
            "test": [
             0.8815774285,
             0.9679433142,
             0.5515679886
            ]
           },
           {
            "iteration": 927,
            "learn": [
             0.5515490402
            ],
            "passed_time": 566.5006873,
            "remaining_time": 227.0886376,
            "test": [
             0.8816795225,
             0.967994662,
             0.5515490402
            ]
           },
           {
            "iteration": 928,
            "learn": [
             0.5515679886
            ],
            "passed_time": 567.1593679,
            "remaining_time": 226.497444,
            "test": [
             0.8817173337,
             0.9680142815,
             0.5515679886
            ]
           },
           {
            "iteration": 929,
            "learn": [
             0.5515679886
            ],
            "passed_time": 567.7157309,
            "remaining_time": 225.8653983,
            "test": [
             0.88168026,
             0.9680079683,
             0.5515679886
            ]
           },
           {
            "iteration": 930,
            "learn": [
             0.5514921951
            ],
            "passed_time": 568.3969722,
            "remaining_time": 225.2830105,
            "test": [
             0.8816279425,
             0.9679831575,
             0.5514921951
            ]
           },
           {
            "iteration": 931,
            "learn": [
             0.5515111435
            ],
            "passed_time": 568.9766181,
            "remaining_time": 224.6602956,
            "test": [
             0.8816442034,
             0.9679918717,
             0.5515111435
            ]
           },
           {
            "iteration": 932,
            "learn": [
             0.5514921951
            ],
            "passed_time": 569.616589,
            "remaining_time": 224.0614021,
            "test": [
             0.8816986039,
             0.968007479,
             0.5514921951
            ]
           },
           {
            "iteration": 933,
            "learn": [
             0.5515869369
            ],
            "passed_time": 570.2792586,
            "remaining_time": 223.4713155,
            "test": [
             0.8816999791,
             0.9680155656,
             0.5515869369
            ]
           },
           {
            "iteration": 934,
            "learn": [
             0.5516816788
            ],
            "passed_time": 570.8584037,
            "remaining_time": 222.8484677,
            "test": [
             0.8818010336,
             0.9680835582,
             0.5516816788
            ]
           },
           {
            "iteration": 935,
            "learn": [
             0.5517574722
            ],
            "passed_time": 571.5521679,
            "remaining_time": 222.2702875,
            "test": [
             0.8817414065,
             0.968069679,
             0.5517574722
            ]
           },
           {
            "iteration": 936,
            "learn": [
             0.551643782
            ],
            "passed_time": 572.1252636,
            "remaining_time": 221.6451128,
            "test": [
             0.8818089495,
             0.9680965463,
             0.551643782
            ]
           },
           {
            "iteration": 937,
            "learn": [
             0.5516058853
            ],
            "passed_time": 572.7947826,
            "remaining_time": 221.0572615,
            "test": [
             0.8817986846,
             0.968098135,
             0.5516058853
            ]
           },
           {
            "iteration": 938,
            "learn": [
             0.5515300918
            ],
            "passed_time": 573.3909583,
            "remaining_time": 220.4410394,
            "test": [
             0.8817812759,
             0.9681030522,
             0.5515300918
            ]
           },
           {
            "iteration": 939,
            "learn": [
             0.5516248337
            ],
            "passed_time": 574.1228003,
            "remaining_time": 219.8768171,
            "test": [
             0.8817515525,
             0.9680984779,
             0.5516248337
            ]
           },
           {
            "iteration": 940,
            "learn": [
             0.5516058853
            ],
            "passed_time": 574.7595224,
            "remaining_time": 219.2759496,
            "test": [
             0.8817154743,
             0.9680785246,
             0.5516058853
            ]
           },
           {
            "iteration": 941,
            "learn": [
             0.5516058853
            ],
            "passed_time": 575.4369424,
            "remaining_time": 218.6904728,
            "test": [
             0.881894934,
             0.9681777089,
             0.5516058853
            ]
           },
           {
            "iteration": 942,
            "learn": [
             0.5515679886
            ],
            "passed_time": 576.1063935,
            "remaining_time": 218.1017842,
            "test": [
             0.881922286,
             0.9681885436,
             0.5515679886
            ]
           },
           {
            "iteration": 943,
            "learn": [
             0.5515679886
            ],
            "passed_time": 576.6776541,
            "remaining_time": 217.475895,
            "test": [
             0.8819229127,
             0.9681954178,
             0.5515679886
            ]
           },
           {
            "iteration": 944,
            "learn": [
             0.5515679886
            ],
            "passed_time": 577.3817335,
            "remaining_time": 216.9000163,
            "test": [
             0.881925294,
             0.968195299,
             0.5515679886
            ]
           },
           {
            "iteration": 945,
            "learn": [
             0.5516248337
            ],
            "passed_time": 577.9474574,
            "remaining_time": 216.272093,
            "test": [
             0.8819441097,
             0.9682060789,
             0.5516248337
            ]
           },
           {
            "iteration": 946,
            "learn": [
             0.5516058853
            ],
            "passed_time": 578.6277718,
            "remaining_time": 215.6870153,
            "test": [
             0.8819007178,
             0.9681910501,
             0.5516058853
            ]
           },
           {
            "iteration": 947,
            "learn": [
             0.5515679886
            ],
            "passed_time": 579.2150593,
            "remaining_time": 215.067195,
            "test": [
             0.88194571,
             0.9682047647,
             0.5515679886
            ]
           },
           {
            "iteration": 948,
            "learn": [
             0.5515679886
            ],
            "passed_time": 579.8723723,
            "remaining_time": 214.4733432,
            "test": [
             0.8819135789,
             0.9682007745,
             0.5515679886
            ]
           },
           {
            "iteration": 949,
            "learn": [
             0.5515490402
            ],
            "passed_time": 580.5258327,
            "remaining_time": 213.8779384,
            "test": [
             0.8819455036,
             0.9682244035,
             0.5515490402
            ]
           },
           {
            "iteration": 950,
            "learn": [
             0.5515679886
            ],
            "passed_time": 581.099225,
            "remaining_time": 213.2530279,
            "test": [
             0.8819740145,
             0.9682305263,
             0.5515679886
            ]
           },
           {
            "iteration": 951,
            "learn": [
             0.5515111435
            ],
            "passed_time": 581.8023219,
            "remaining_time": 212.6756387,
            "test": [
             0.8819857666,
             0.9682475782,
             0.5515111435
            ]
           },
           {
            "iteration": 952,
            "learn": [
             0.5514542984
            ],
            "passed_time": 582.3791824,
            "remaining_time": 212.0520213,
            "test": [
             0.8820001238,
             0.9682700371,
             0.5514542984
            ]
           },
           {
            "iteration": 953,
            "learn": [
             0.5515300918
            ],
            "passed_time": 583.033209,
            "remaining_time": 211.4564888,
            "test": [
             0.8819913132,
             0.9682786093,
             0.5515300918
            ]
           },
           {
            "iteration": 954,
            "learn": [
             0.5516248337
            ],
            "passed_time": 583.6093239,
            "remaining_time": 210.8326877,
            "test": [
             0.8820118069,
             0.9683022748,
             0.5516248337
            ]
           },
           {
            "iteration": 955,
            "learn": [
             0.5515679886
            ],
            "passed_time": 584.31744,
            "remaining_time": 210.2564847,
            "test": [
             0.8820130817,
             0.9683015615,
             0.5515679886
            ]
           },
           {
            "iteration": 956,
            "learn": [
             0.5515869369
            ],
            "passed_time": 584.8949014,
            "remaining_time": 209.6331778,
            "test": [
             0.8819871455,
             0.9682936673,
             0.5515869369
            ]
           },
           {
            "iteration": 957,
            "learn": [
             0.5517006271
            ],
            "passed_time": 585.5379771,
            "remaining_time": 209.0333906,
            "test": [
             0.8819986156,
             0.9682993569,
             0.5517006271
            ]
           },
           {
            "iteration": 958,
            "learn": [
             0.5517764206
            ],
            "passed_time": 586.1735815,
            "remaining_time": 208.4308564,
            "test": [
             0.882077092,
             0.9683437461,
             0.5517764206
            ]
           },
           {
            "iteration": 959,
            "learn": [
             0.5516248337
            ],
            "passed_time": 586.7567704,
            "remaining_time": 207.8096895,
            "test": [
             0.8820482868,
             0.9683392056,
             0.5516248337
            ]
           },
           {
            "iteration": 960,
            "learn": [
             0.5517006271
            ],
            "passed_time": 587.4539349,
            "remaining_time": 207.2288074,
            "test": [
             0.8820888805,
             0.9683507798,
             0.5517006271
            ]
           },
           {
            "iteration": 961,
            "learn": [
             0.5518522141
            ],
            "passed_time": 588.0273391,
            "remaining_time": 206.6042002,
            "test": [
             0.882089651,
             0.9683720168,
             0.5518522141
            ]
           },
           {
            "iteration": 962,
            "learn": [
             0.5519469559
            ],
            "passed_time": 588.7802609,
            "remaining_time": 206.0425212,
            "test": [
             0.8820997555,
             0.9684025005,
             0.5519469559
            ]
           },
           {
            "iteration": 963,
            "learn": [
             0.5520416977
            ],
            "passed_time": 589.4262939,
            "remaining_time": 205.4431896,
            "test": [
             0.8820947181,
             0.9684023137,
             0.5520416977
            ]
           },
           {
            "iteration": 964,
            "learn": [
             0.5519280075
            ],
            "passed_time": 590.0469013,
            "remaining_time": 204.8349347,
            "test": [
             0.8821056249,
             0.9684163341,
             0.5519280075
            ]
           },
           {
            "iteration": 965,
            "learn": [
             0.5519090592
            ],
            "passed_time": 590.7188949,
            "remaining_time": 204.2444212,
            "test": [
             0.8821290033,
             0.9684194175,
             0.5519090592
            ]
           },
           {
            "iteration": 966,
            "learn": [
             0.5519090592
            ],
            "passed_time": 591.2898155,
            "remaining_time": 203.6189334,
            "test": [
             0.8821399781,
             0.9684182462,
             0.5519090592
            ]
           },
           {
            "iteration": 967,
            "learn": [
             0.5519280075
            ],
            "passed_time": 591.9424489,
            "remaining_time": 203.0215837,
            "test": [
             0.8821880536,
             0.9684453716,
             0.5519280075
            ]
           },
           {
            "iteration": 968,
            "learn": [
             0.5518332657
            ],
            "passed_time": 592.5380417,
            "remaining_time": 202.4046355,
            "test": [
             0.882175865,
             0.9684359643,
             0.5518332657
            ]
           },
           {
            "iteration": 969,
            "learn": [
             0.5517764206
            ],
            "passed_time": 593.2221977,
            "remaining_time": 201.8178611,
            "test": [
             0.8821583337,
             0.9684351772,
             0.5517764206
            ]
           },
           {
            "iteration": 970,
            "learn": [
             0.5517574722
            ],
            "passed_time": 593.812702,
            "remaining_time": 201.1991544,
            "test": [
             0.8821779676,
             0.9684340194,
             0.5517574722
            ]
           },
           {
            "iteration": 971,
            "learn": [
             0.5518522141
            ],
            "passed_time": 594.4599352,
            "remaining_time": 200.5996489,
            "test": [
             0.8821488518,
             0.968426682,
             0.5518522141
            ]
           },
           {
            "iteration": 972,
            "learn": [
             0.5519090592
            ],
            "passed_time": 595.1019445,
            "remaining_time": 199.9982897,
            "test": [
             0.8821715557,
             0.9684416761,
             0.5519090592
            ]
           },
           {
            "iteration": 973,
            "learn": [
             0.5518522141
            ],
            "passed_time": 595.6803502,
            "remaining_time": 199.3755587,
            "test": [
             0.8821783239,
             0.968455564,
             0.5518522141
            ]
           },
           {
            "iteration": 974,
            "learn": [
             0.5519090592
            ],
            "passed_time": 596.3396012,
            "remaining_time": 198.7798671,
            "test": [
             0.8822541212,
             0.9684820468,
             0.5519090592
            ]
           },
           {
            "iteration": 975,
            "learn": [
             0.552003801
            ],
            "passed_time": 596.9318214,
            "remaining_time": 198.1617932,
            "test": [
             0.8822625979,
             0.9685128921,
             0.552003801
            ]
           },
           {
            "iteration": 976,
            "learn": [
             0.5520227494
            ],
            "passed_time": 597.6134208,
            "remaining_time": 197.5733213,
            "test": [
             0.8823433456,
             0.9685587497,
             0.5520227494
            ]
           },
           {
            "iteration": 977,
            "learn": [
             0.5521364396
            ],
            "passed_time": 598.1851203,
            "remaining_time": 196.9484752,
            "test": [
             0.8823449122,
             0.968566864,
             0.5521364396
            ]
           },
           {
            "iteration": 978,
            "learn": [
             0.5521743363
            ],
            "passed_time": 598.8540647,
            "remaining_time": 196.3556228,
            "test": [
             0.8823119,
             0.9685695152,
             0.5521743363
            ]
           },
           {
            "iteration": 979,
            "learn": [
             0.5522311814
            ],
            "passed_time": 599.522712,
            "remaining_time": 195.7625182,
            "test": [
             0.8823718583,
             0.968601945,
             0.5522311814
            ]
           },
           {
            "iteration": 980,
            "learn": [
             0.5522501297
            ],
            "passed_time": 600.085975,
            "remaining_time": 195.1349909,
            "test": [
             0.8824532355,
             0.968632002,
             0.5522501297
            ]
           },
           {
            "iteration": 981,
            "learn": [
             0.552212233
            ],
            "passed_time": 600.8100033,
            "remaining_time": 194.5596548,
            "test": [
             0.882405587,
             0.9686136576,
             0.552212233
            ]
           },
           {
            "iteration": 982,
            "learn": [
             0.5520985428
            ],
            "passed_time": 601.3747986,
            "remaining_time": 193.9326665,
            "test": [
             0.8823854185,
             0.9686078072,
             0.5520985428
            ]
           },
           {
            "iteration": 983,
            "learn": [
             0.5520606461
            ],
            "passed_time": 602.0671183,
            "remaining_time": 193.3467575,
            "test": [
             0.8823551935,
             0.9686164274,
             0.5520606461
            ]
           },
           {
            "iteration": 984,
            "learn": [
             0.5521743363
            ],
            "passed_time": 602.6447463,
            "remaining_time": 192.7239544,
            "test": [
             0.8823765984,
             0.9686301239,
             0.5521743363
            ]
           },
           {
            "iteration": 985,
            "learn": [
             0.552212233
            ],
            "passed_time": 603.3524161,
            "remaining_time": 192.1426558,
            "test": [
             0.8823910196,
             0.9686431432,
             0.552212233
            ]
           },
           {
            "iteration": 986,
            "learn": [
             0.5522311814
            ],
            "passed_time": 603.9755232,
            "remaining_time": 191.5342845,
            "test": [
             0.8823393208,
             0.9686282086,
             0.5522311814
            ]
           },
           {
            "iteration": 987,
            "learn": [
             0.5520985428
            ],
            "passed_time": 604.5914493,
            "remaining_time": 190.9236156,
            "test": [
             0.8823323573,
             0.9686242606,
             0.5520985428
            ]
           },
           {
            "iteration": 988,
            "learn": [
             0.5521174912
            ],
            "passed_time": 605.286799,
            "remaining_time": 190.3379115,
            "test": [
             0.882327925,
             0.9686244563,
             0.5521174912
            ]
           },
           {
            "iteration": 989,
            "learn": [
             0.5522311814
            ],
            "passed_time": 605.8924286,
            "remaining_time": 189.7238918,
            "test": [
             0.8824132902,
             0.9686764746,
             0.5522311814
            ]
           },
           {
            "iteration": 990,
            "learn": [
             0.5522690781
            ],
            "passed_time": 606.5833403,
            "remaining_time": 189.1364805,
            "test": [
             0.882394089,
             0.9686603984,
             0.5522690781
            ]
           },
           {
            "iteration": 991,
            "learn": [
             0.5522880265
            ],
            "passed_time": 607.157109,
            "remaining_time": 188.5124895,
            "test": [
             0.8823990963,
             0.9686654591,
             0.5522880265
            ]
           },
           {
            "iteration": 992,
            "learn": [
             0.5522690781
            ],
            "passed_time": 607.866999,
            "remaining_time": 187.9306835,
            "test": [
             0.8823701811,
             0.9686555999,
             0.5522690781
            ]
           },
           {
            "iteration": 993,
            "learn": [
             0.5522501297
            ],
            "passed_time": 608.5724157,
            "remaining_time": 187.3472427,
            "test": [
             0.8823732921,
             0.9686617499,
             0.5522501297
            ]
           },
           {
            "iteration": 994,
            "learn": [
             0.552212233
            ],
            "passed_time": 609.1712237,
            "remaining_time": 186.7308776,
            "test": [
             0.8823512605,
             0.9686558529,
             0.552212233
            ]
           },
           {
            "iteration": 995,
            "learn": [
             0.5522501297
            ],
            "passed_time": 609.8581409,
            "remaining_time": 186.1414406,
            "test": [
             0.8823422753,
             0.9686550355,
             0.5522501297
            ]
           },
           {
            "iteration": 996,
            "learn": [
             0.5522880265
            ],
            "passed_time": 610.4189451,
            "remaining_time": 185.5134808,
            "test": [
             0.8823677384,
             0.9686727209,
             0.5522880265
            ]
           },
           {
            "iteration": 997,
            "learn": [
             0.5522501297
            ],
            "passed_time": 611.1488173,
            "remaining_time": 184.9368164,
            "test": [
             0.8823941908,
             0.9686896685,
             0.5522501297
            ]
           },
           {
            "iteration": 998,
            "learn": [
             0.5522501298
            ],
            "passed_time": 611.7701078,
            "remaining_time": 184.3271296,
            "test": [
             0.8823672515,
             0.9686873974,
             0.5522501298
            ]
           },
           {
            "iteration": 999,
            "learn": [
             0.5522690781
            ],
            "passed_time": 612.4782044,
            "remaining_time": 183.7434613,
            "test": [
             0.8823727629,
             0.9686953631,
             0.5522690781
            ]
           },
           {
            "iteration": 1000,
            "learn": [
             0.5523638199
            ],
            "passed_time": 613.1390925,
            "remaining_time": 183.1454432,
            "test": [
             0.8823698881,
             0.9686910021,
             0.5523638199
            ]
           },
           {
            "iteration": 1001,
            "learn": [
             0.5523638199
            ],
            "passed_time": 613.8014627,
            "remaining_time": 182.5477404,
            "test": [
             0.8823740343,
             0.9686954387,
             0.5523638199
            ]
           },
           {
            "iteration": 1002,
            "learn": [
             0.5523069748
            ],
            "passed_time": 614.468639,
            "remaining_time": 181.9513318,
            "test": [
             0.8823691966,
             0.9686987487,
             0.5523069748
            ]
           },
           {
            "iteration": 1003,
            "learn": [
             0.5523259232
            ],
            "passed_time": 615.0532117,
            "remaining_time": 181.330429,
            "test": [
             0.8823888801,
             0.9687095537,
             0.5523259232
            ]
           },
           {
            "iteration": 1004,
            "learn": [
             0.5523259232
            ],
            "passed_time": 615.7061266,
            "remaining_time": 180.729659,
            "test": [
             0.8824042397,
             0.9687146993,
             0.5523259232
            ]
           },
           {
            "iteration": 1005,
            "learn": [
             0.5523069748
            ],
            "passed_time": 616.2831704,
            "remaining_time": 180.1066124,
            "test": [
             0.8824325499,
             0.9687315696,
             0.5523069748
            ]
           },
           {
            "iteration": 1006,
            "learn": [
             0.5523638199
            ],
            "passed_time": 616.9617508,
            "remaining_time": 179.5132006,
            "test": [
             0.8824612916,
             0.9687548183,
             0.5523638199
            ]
           },
           {
            "iteration": 1007,
            "learn": [
             0.5524775101
            ],
            "passed_time": 617.5490456,
            "remaining_time": 178.8931759,
            "test": [
             0.8824694886,
             0.9687641607,
             0.5524775101
            ]
           },
           {
            "iteration": 1008,
            "learn": [
             0.5524964585
            ],
            "passed_time": 618.2029865,
            "remaining_time": 178.2924371,
            "test": [
             0.8825059135,
             0.9687841019,
             0.5524964585
            ]
           },
           {
            "iteration": 1009,
            "learn": [
             0.5525343552
            ],
            "passed_time": 618.9051148,
            "remaining_time": 177.705429,
            "test": [
             0.8825347251,
             0.968795385,
             0.5525343552
            ]
           },
           {
            "iteration": 1010,
            "learn": [
             0.5525533036
            ],
            "passed_time": 619.4775776,
            "remaining_time": 177.0811275,
            "test": [
             0.8825998562,
             0.9688287688,
             0.5525533036
            ]
           },
           {
            "iteration": 1011,
            "learn": [
             0.5525343552
            ],
            "passed_time": 620.1494697,
            "remaining_time": 176.4852246,
            "test": [
             0.8825358782,
             0.9688033358,
             0.5525343552
            ]
           },
           {
            "iteration": 1012,
            "learn": [
             0.5525154069
            ],
            "passed_time": 620.7358898,
            "remaining_time": 175.864956,
            "test": [
             0.8825761622,
             0.9688232678,
             0.5525154069
            ]
           },
           {
            "iteration": 1013,
            "learn": [
             0.5526290971
            ],
            "passed_time": 621.4278929,
            "remaining_time": 175.2745339,
            "test": [
             0.8825542318,
             0.9688256044,
             0.5526290971
            ]
           },
           {
            "iteration": 1014,
            "learn": [
             0.5526290971
            ],
            "passed_time": 622.0264103,
            "remaining_time": 174.657662,
            "test": [
             0.882554878,
             0.9688403322,
             0.5526290971
            ]
           },
           {
            "iteration": 1015,
            "learn": [
             0.5526290971
            ],
            "passed_time": 622.7017068,
            "remaining_time": 174.0622881,
            "test": [
             0.8825882229,
             0.9688518381,
             0.5526290971
            ]
           },
           {
            "iteration": 1016,
            "learn": [
             0.5526669938
            ],
            "passed_time": 623.4045969,
            "remaining_time": 173.4744355,
            "test": [
             0.8825891536,
             0.9688573246,
             0.5526669938
            ]
           },
           {
            "iteration": 1017,
            "learn": [
             0.5526859422
            ],
            "passed_time": 624.000787,
            "remaining_time": 172.8567995,
            "test": [
             0.882590115,
             0.968862205,
             0.5526859422
            ]
           },
           {
            "iteration": 1018,
            "learn": [
             0.5527238389
            ],
            "passed_time": 624.7070585,
            "remaining_time": 172.2695618,
            "test": [
             0.8825968819,
             0.9688700531,
             0.5527238389
            ]
           },
           {
            "iteration": 1019,
            "learn": [
             0.5526859422
            ],
            "passed_time": 625.2868547,
            "remaining_time": 171.6473719,
            "test": [
             0.8826457046,
             0.9688888241,
             0.5526859422
            ]
           },
           {
            "iteration": 1020,
            "learn": [
             0.5527048905
            ],
            "passed_time": 625.9942151,
            "remaining_time": 171.0601234,
            "test": [
             0.8826560696,
             0.9688952153,
             0.5527048905
            ]
           },
           {
            "iteration": 1021,
            "learn": [
             0.552780684
            ],
            "passed_time": 626.5707243,
            "remaining_time": 170.4370463,
            "test": [
             0.8827166793,
             0.968920906,
             0.552780684
            ]
           },
           {
            "iteration": 1022,
            "learn": [
             0.5527238389
            ],
            "passed_time": 627.2953621,
            "remaining_time": 169.8541694,
            "test": [
             0.8826997299,
             0.9689175244,
             0.5527238389
            ]
           },
           {
            "iteration": 1023,
            "learn": [
             0.5527238389
            ],
            "passed_time": 627.9524171,
            "remaining_time": 169.2527999,
            "test": [
             0.8827106999,
             0.968934616,
             0.5527238389
            ]
           },
           {
            "iteration": 1024,
            "learn": [
             0.5527617356
            ],
            "passed_time": 628.522362,
            "remaining_time": 168.6279508,
            "test": [
             0.8827490103,
             0.9689620452,
             0.5527617356
            ]
           },
           {
            "iteration": 1025,
            "learn": [
             0.5527617356
            ],
            "passed_time": 629.2251383,
            "remaining_time": 168.0386822,
            "test": [
             0.8827541988,
             0.9689672459,
             0.5527617356
            ]
           },
           {
            "iteration": 1026,
            "learn": [
             0.5527238389
            ],
            "passed_time": 629.7860433,
            "remaining_time": 167.4114799,
            "test": [
             0.882717751,
             0.9689530624,
             0.5527238389
            ]
           },
           {
            "iteration": 1027,
            "learn": [
             0.5527238389
            ],
            "passed_time": 630.5136187,
            "remaining_time": 166.8285061,
            "test": [
             0.8826832334,
             0.9689400263,
             0.5527238389
            ]
           },
           {
            "iteration": 1028,
            "learn": [
             0.5528564775
            ],
            "passed_time": 631.1089883,
            "remaining_time": 166.2104333,
            "test": [
             0.8827662791,
             0.9689848679,
             0.5528564775
            ]
           },
           {
            "iteration": 1029,
            "learn": [
             0.5528564775
            ],
            "passed_time": 631.7783165,
            "remaining_time": 165.6117917,
            "test": [
             0.882772709,
             0.9689887235,
             0.5528564775
            ]
           },
           {
            "iteration": 1030,
            "learn": [
             0.552780684
            ],
            "passed_time": 632.4488806,
            "remaining_time": 165.0133355,
            "test": [
             0.8827702432,
             0.9689879402,
             0.552780684
            ]
           },
           {
            "iteration": 1031,
            "learn": [
             0.552780684
            ],
            "passed_time": 633.0341483,
            "remaining_time": 164.3925889,
            "test": [
             0.8826914009,
             0.9689481483,
             0.552780684
            ]
           },
           {
            "iteration": 1032,
            "learn": [
             0.5528375291
            ],
            "passed_time": 633.7313866,
            "remaining_time": 163.8008521,
            "test": [
             0.8827713474,
             0.9689907663,
             0.5528375291
            ]
           },
           {
            "iteration": 1033,
            "learn": [
             0.5528375291
            ],
            "passed_time": 634.3091995,
            "remaining_time": 163.1781886,
            "test": [
             0.8828263356,
             0.9690204963,
             0.5528375291
            ]
           },
           {
            "iteration": 1034,
            "learn": [
             0.5530080644
            ],
            "passed_time": 635.0033963,
            "remaining_time": 162.5854106,
            "test": [
             0.8828490409,
             0.9690319725,
             0.5530080644
            ]
           },
           {
            "iteration": 1035,
            "learn": [
             0.5529512193
            ],
            "passed_time": 635.6087632,
            "remaining_time": 161.9698007,
            "test": [
             0.8828745177,
             0.9690493651,
             0.5529512193
            ]
           },
           {
            "iteration": 1036,
            "learn": [
             0.5529512193
            ],
            "passed_time": 636.2865598,
            "remaining_time": 161.3725798,
            "test": [
             0.8828832518,
             0.9690480763,
             0.5529512193
            ]
           },
           {
            "iteration": 1037,
            "learn": [
             0.5530459611
            ],
            "passed_time": 636.9481432,
            "remaining_time": 160.7711113,
            "test": [
             0.8829557426,
             0.9690862121,
             0.5530459611
            ]
           },
           {
            "iteration": 1038,
            "learn": [
             0.5531407029
            ],
            "passed_time": 637.5513983,
            "remaining_time": 160.1548748,
            "test": [
             0.8829335412,
             0.969077075,
             0.5531407029
            ]
           },
           {
            "iteration": 1039,
            "learn": [
             0.5531028062
            ],
            "passed_time": 638.2887121,
            "remaining_time": 159.572178,
            "test": [
             0.882994652,
             0.9691275959,
             0.5531028062
            ]
           },
           {
            "iteration": 1040,
            "learn": [
             0.5531407029
            ],
            "passed_time": 638.8489775,
            "remaining_time": 158.9451347,
            "test": [
             0.883008745,
             0.9691367934,
             0.5531407029
            ]
           },
           {
            "iteration": 1041,
            "learn": [
             0.5530838578
            ],
            "passed_time": 639.6003435,
            "remaining_time": 158.3655361,
            "test": [
             0.8830050131,
             0.9691379247,
             0.5530838578
            ]
           },
           {
            "iteration": 1042,
            "learn": [
             0.5530838578
            ],
            "passed_time": 640.3011932,
            "remaining_time": 157.7731607,
            "test": [
             0.8830425882,
             0.969151334,
             0.5530838578
            ]
           },
           {
            "iteration": 1043,
            "learn": [
             0.5531028062
            ],
            "passed_time": 640.8768738,
            "remaining_time": 157.1498848,
            "test": [
             0.8829841875,
             0.9691297508,
             0.5531028062
            ]
           },
           {
            "iteration": 1044,
            "learn": [
             0.5530838578
            ],
            "passed_time": 641.5432734,
            "remaining_time": 156.548837,
            "test": [
             0.883044673,
             0.9691629075,
             0.5530838578
            ]
           },
           {
            "iteration": 1045,
            "learn": [
             0.5530080644
            ],
            "passed_time": 642.1116246,
            "remaining_time": 155.9238553,
            "test": [
             0.8830121429,
             0.969151471,
             0.5530080644
            ]
           },
           {
            "iteration": 1046,
            "learn": [
             0.5531028062
            ],
            "passed_time": 642.7835014,
            "remaining_time": 155.323998,
            "test": [
             0.8829854375,
             0.9691542281,
             0.5531028062
            ]
           },
           {
            "iteration": 1047,
            "learn": [
             0.5532733415
            ],
            "passed_time": 643.3563739,
            "remaining_time": 154.7001968,
            "test": [
             0.8829654216,
             0.9691499726,
             0.5532733415
            ]
           },
           {
            "iteration": 1048,
            "learn": [
             0.5533301866
            ],
            "passed_time": 644.0178673,
            "remaining_time": 154.0976975,
            "test": [
             0.8829740001,
             0.9691604135,
             0.5533301866
            ]
           },
           {
            "iteration": 1049,
            "learn": [
             0.5531217546
            ],
            "passed_time": 644.6491096,
            "remaining_time": 153.4878832,
            "test": [
             0.8829292841,
             0.9691382086,
             0.5531217546
            ]
           },
           {
            "iteration": 1050,
            "learn": [
             0.5531217546
            ],
            "passed_time": 645.2850251,
            "remaining_time": 152.8791354,
            "test": [
             0.8829605351,
             0.9691548058,
             0.5531217546
            ]
           },
           {
            "iteration": 1051,
            "learn": [
             0.553197548
            ],
            "passed_time": 645.9737924,
            "remaining_time": 152.2827952,
            "test": [
             0.883041181,
             0.9691899001,
             0.553197548
            ]
           },
           {
            "iteration": 1052,
            "learn": [
             0.553197548
            ],
            "passed_time": 646.5497297,
            "remaining_time": 151.6598131,
            "test": [
             0.8830333905,
             0.969195828,
             0.553197548
            ]
           },
           {
            "iteration": 1053,
            "learn": [
             0.5532922899
            ],
            "passed_time": 647.2421238,
            "remaining_time": 151.064101,
            "test": [
             0.8830375136,
             0.9692051748,
             0.5532922899
            ]
           },
           {
            "iteration": 1054,
            "learn": [
             0.5532733415
            ],
            "passed_time": 647.815587,
            "remaining_time": 150.4405866,
            "test": [
             0.8830586494,
             0.9692214743,
             0.5532733415
            ]
           },
           {
            "iteration": 1055,
            "learn": [
             0.5532733415
            ],
            "passed_time": 648.5560557,
            "remaining_time": 149.8557553,
            "test": [
             0.8830084923,
             0.9692126967,
             0.5532733415
            ]
           },
           {
            "iteration": 1056,
            "learn": [
             0.5533870317
            ],
            "passed_time": 649.2015502,
            "remaining_time": 149.2487954,
            "test": [
             0.8830505841,
             0.9692289708,
             0.5533870317
            ]
           },
           {
            "iteration": 1057,
            "learn": [
             0.553349135
            ],
            "passed_time": 649.8250212,
            "remaining_time": 148.6367251,
            "test": [
             0.8830472566,
             0.9692260353,
             0.553349135
            ]
           },
           {
            "iteration": 1058,
            "learn": [
             0.5534628252
            ],
            "passed_time": 650.5019101,
            "remaining_time": 148.0367897,
            "test": [
             0.8831186375,
             0.96925595,
             0.5534628252
            ]
           },
           {
            "iteration": 1059,
            "learn": [
             0.5534438768
            ],
            "passed_time": 651.0631824,
            "remaining_time": 147.4105319,
            "test": [
             0.8831602631,
             0.969279969,
             0.5534438768
            ]
           },
           {
            "iteration": 1060,
            "learn": [
             0.5535386186
            ],
            "passed_time": 651.7654722,
            "remaining_time": 146.816162,
            "test": [
             0.8832294385,
             0.9693172837,
             0.5535386186
            ]
           },
           {
            "iteration": 1061,
            "learn": [
             0.5535386186
            ],
            "passed_time": 652.349482,
            "remaining_time": 146.1950817,
            "test": [
             0.8832057835,
             0.969311072,
             0.5535386186
            ]
           },
           {
            "iteration": 1062,
            "learn": [
             0.5536333605
            ],
            "passed_time": 653.0315005,
            "remaining_time": 145.5959225,
            "test": [
             0.8832128584,
             0.969317424,
             0.5536333605
            ]
           },
           {
            "iteration": 1063,
            "learn": [
             0.553557567
            ],
            "passed_time": 653.616194,
            "remaining_time": 144.9750205,
            "test": [
             0.8832444467,
             0.969339287,
             0.553557567
            ]
           },
           {
            "iteration": 1064,
            "learn": [
             0.5537281023
            ],
            "passed_time": 654.3040216,
            "remaining_time": 144.3769437,
            "test": [
             0.8832507986,
             0.9693482833,
             0.5537281023
            ]
           },
           {
            "iteration": 1065,
            "learn": [
             0.5537470506
            ],
            "passed_time": 654.9617507,
            "remaining_time": 143.7720916,
            "test": [
             0.8833351917,
             0.9694008814,
             0.5537470506
            ]
           },
           {
            "iteration": 1066,
            "learn": [
             0.5538038957
            ],
            "passed_time": 655.5666267,
            "remaining_time": 143.1555989,
            "test": [
             0.8833314858,
             0.9694067968,
             0.5538038957
            ]
           },
           {
            "iteration": 1067,
            "learn": [
             0.5536902055
            ],
            "passed_time": 656.2410235,
            "remaining_time": 142.5542298,
            "test": [
             0.8833038373,
             0.9694059093,
             0.5536902055
            ]
           },
           {
            "iteration": 1068,
            "learn": [
             0.5537849474
            ],
            "passed_time": 656.8534809,
            "remaining_time": 141.9393396,
            "test": [
             0.8833263803,
             0.9694169519,
             0.5537849474
            ]
           },
           {
            "iteration": 1069,
            "learn": [
             0.5539933794
            ],
            "passed_time": 657.552364,
            "remaining_time": 141.3430315,
            "test": [
             0.8833248767,
             0.9694228293,
             0.5539933794
            ]
           },
           {
            "iteration": 1070,
            "learn": [
             0.5538796892
            ],
            "passed_time": 658.1323552,
            "remaining_time": 140.7211105,
            "test": [
             0.8833465731,
             0.9694294518,
             0.5538796892
            ]
           },
           {
            "iteration": 1071,
            "learn": [
             0.5538417925
            ],
            "passed_time": 658.7864921,
            "remaining_time": 140.1150375,
            "test": [
             0.8833308019,
             0.9694267983,
             0.5538417925
            ]
           },
           {
            "iteration": 1072,
            "learn": [
             0.5538417925
            ],
            "passed_time": 659.3959344,
            "remaining_time": 139.4994195,
            "test": [
             0.8833350357,
             0.9694312804,
             0.5538417925
            ]
           },
           {
            "iteration": 1073,
            "learn": [
             0.5539554827
            ],
            "passed_time": 660.0171208,
            "remaining_time": 138.8862843,
            "test": [
             0.8833700325,
             0.9694557057,
             0.5539554827
            ]
           },
           {
            "iteration": 1074,
            "learn": [
             0.5540123278
            ],
            "passed_time": 660.7220327,
            "remaining_time": 138.290658,
            "test": [
             0.8833906798,
             0.9694618905,
             0.5540123278
            ]
           },
           {
            "iteration": 1075,
            "learn": [
             0.5539554827
            ],
            "passed_time": 661.3193538,
            "remaining_time": 137.6724305,
            "test": [
             0.883421234,
             0.969470814,
             0.5539554827
            ]
           },
           {
            "iteration": 1076,
            "learn": [
             0.5540123278
            ],
            "passed_time": 662.0181915,
            "remaining_time": 137.0752616,
            "test": [
             0.8833653216,
             0.9694419677,
             0.5540123278
            ]
           },
           {
            "iteration": 1077,
            "learn": [
             0.5539933794
            ],
            "passed_time": 662.5890367,
            "remaining_time": 136.4515456,
            "test": [
             0.88334894,
             0.9694474277,
             0.5539933794
            ]
           },
           {
            "iteration": 1078,
            "learn": [
             0.5539933794
            ],
            "passed_time": 663.2699933,
            "remaining_time": 135.8504806,
            "test": [
             0.88333686,
             0.9694451501,
             0.5539933794
            ]
           },
           {
            "iteration": 1079,
            "learn": [
             0.5540123278
            ],
            "passed_time": 663.8371265,
            "remaining_time": 135.2260813,
            "test": [
             0.8833564808,
             0.9694560371,
             0.5540123278
            ]
           },
           {
            "iteration": 1080,
            "learn": [
             0.5539744311
            ],
            "passed_time": 664.5409934,
            "remaining_time": 134.6294889,
            "test": [
             0.8833730842,
             0.9694617625,
             0.5539744311
            ]
           },
           {
            "iteration": 1081,
            "learn": [
             0.5539744311
            ],
            "passed_time": 665.1319205,
            "remaining_time": 134.0099433,
            "test": [
             0.8834006444,
             0.9694850254,
             0.5539744311
            ]
           },
           {
            "iteration": 1082,
            "learn": [
             0.5539554827
            ],
            "passed_time": 665.7830987,
            "remaining_time": 133.402523,
            "test": [
             0.8834273294,
             0.9695099514,
             0.5539554827
            ]
           },
           {
            "iteration": 1083,
            "learn": [
             0.5541070696
            ],
            "passed_time": 666.5112806,
            "remaining_time": 132.8103659,
            "test": [
             0.8834140346,
             0.969512865,
             0.5541070696
            ]
           },
           {
            "iteration": 1084,
            "learn": [
             0.5542397082
            ],
            "passed_time": 667.092233,
            "remaining_time": 132.1887835,
            "test": [
             0.8833786078,
             0.9695097381,
             0.5542397082
            ]
           },
           {
            "iteration": 1085,
            "learn": [
             0.5542397082
            ],
            "passed_time": 667.828552,
            "remaining_time": 131.5978915,
            "test": [
             0.8833900635,
             0.9695178734,
             0.5542397082
            ]
           },
           {
            "iteration": 1086,
            "learn": [
             0.5542397082
            ],
            "passed_time": 668.3975458,
            "remaining_time": 130.9739441,
            "test": [
             0.8834103006,
             0.9695309229,
             0.5542397082
            ]
           },
           {
            "iteration": 1087,
            "learn": [
             0.5542397082
            ],
            "passed_time": 669.0809791,
            "remaining_time": 130.3723967,
            "test": [
             0.8834118133,
             0.969532584,
             0.5542397082
            ]
           },
           {
            "iteration": 1088,
            "learn": [
             0.5541070696
            ],
            "passed_time": 669.6460123,
            "remaining_time": 129.7477581,
            "test": [
             0.8834171099,
             0.9695382308,
             0.5541070696
            ]
           },
           {
            "iteration": 1089,
            "learn": [
             0.5541070696
            ],
            "passed_time": 670.3122666,
            "remaining_time": 129.1427303,
            "test": [
             0.8834081953,
             0.96954008,
             0.5541070696
            ]
           },
           {
            "iteration": 1090,
            "learn": [
             0.5540691729
            ],
            "passed_time": 670.9634896,
            "remaining_time": 128.5347107,
            "test": [
             0.883488414,
             0.9695773578,
             0.5540691729
            ]
           },
           {
            "iteration": 1091,
            "learn": [
             0.5540881212
            ],
            "passed_time": 671.540249,
            "remaining_time": 127.9124284,
            "test": [
             0.8835657195,
             0.9696178025,
             0.5540881212
            ]
           },
           {
            "iteration": 1092,
            "learn": [
             0.5540881212
            ],
            "passed_time": 672.2743524,
            "remaining_time": 127.3200283,
            "test": [
             0.883549315,
             0.9696120449,
             0.5540881212
            ]
           },
           {
            "iteration": 1093,
            "learn": [
             0.5541449663
            ],
            "passed_time": 672.860074,
            "remaining_time": 126.6994289,
            "test": [
             0.8834610852,
             0.9695959387,
             0.5541449663
            ]
           },
           {
            "iteration": 1094,
            "learn": [
             0.5542397082
            ],
            "passed_time": 673.581275,
            "remaining_time": 126.104257,
            "test": [
             0.8834867454,
             0.9696062976,
             0.5542397082
            ]
           },
           {
            "iteration": 1095,
            "learn": [
             0.5542207598
            ],
            "passed_time": 674.1430714,
            "remaining_time": 125.4791848,
            "test": [
             0.8835144076,
             0.9696198188,
             0.5542207598
            ]
           },
           {
            "iteration": 1096,
            "learn": [
             0.5544291918
            ],
            "passed_time": 674.8663334,
            "remaining_time": 124.8841073,
            "test": [
             0.8835439193,
             0.9696504424,
             0.5544291918
            ]
           },
           {
            "iteration": 1097,
            "learn": [
             0.5543533984
            ],
            "passed_time": 675.4649359,
            "remaining_time": 124.2658625,
            "test": [
             0.8835460727,
             0.9696405803,
             0.5543533984
            ]
           },
           {
            "iteration": 1098,
            "learn": [
             0.5543723467
            ],
            "passed_time": 676.084452,
            "remaining_time": 123.6514785,
            "test": [
             0.8835438378,
             0.9696341128,
             0.5543723467
            ]
           },
           {
            "iteration": 1099,
            "learn": [
             0.5545049853
            ],
            "passed_time": 676.7914108,
            "remaining_time": 123.0529838,
            "test": [
             0.8835360336,
             0.9696470751,
             0.5545049853
            ]
           },
           {
            "iteration": 1100,
            "learn": [
             0.5545997271
            ],
            "passed_time": 677.3578894,
            "remaining_time": 122.428901,
            "test": [
             0.8834780237,
             0.9696476216,
             0.5545997271
            ]
           },
           {
            "iteration": 1101,
            "learn": [
             0.5545618304
            ],
            "passed_time": 678.0497969,
            "remaining_time": 121.827459,
            "test": [
             0.8835303454,
             0.9696672234,
             0.5545618304
            ]
           },
           {
            "iteration": 1102,
            "learn": [
             0.5546186755
            ],
            "passed_time": 678.6320105,
            "remaining_time": 121.2062612,
            "test": [
             0.8835610524,
             0.969688594,
             0.5546186755
            ]
           },
           {
            "iteration": 1103,
            "learn": [
             0.5548081591
            ],
            "passed_time": 679.3058458,
            "remaining_time": 120.6014002,
            "test": [
             0.8835424993,
             0.9696867867,
             0.5548081591
            ]
           },
           {
            "iteration": 1104,
            "learn": [
             0.5548081591
            ],
            "passed_time": 679.8757495,
            "remaining_time": 119.9780734,
            "test": [
             0.8835326316,
             0.9696913419,
             0.5548081591
            ]
           },
           {
            "iteration": 1105,
            "learn": [
             0.5548460559
            ],
            "passed_time": 680.5633037,
            "remaining_time": 119.37548,
            "test": [
             0.8835297428,
             0.9696859852,
             0.5548460559
            ]
           },
           {
            "iteration": 1106,
            "learn": [
             0.5548839526
            ],
            "passed_time": 681.1557218,
            "remaining_time": 118.7561466,
            "test": [
             0.8835719991,
             0.969707562,
             0.5548839526
            ]
           },
           {
            "iteration": 1107,
            "learn": [
             0.5550165912
            ],
            "passed_time": 681.820653,
            "remaining_time": 118.1494272,
            "test": [
             0.883590806,
             0.9697303575,
             0.5550165912
            ]
           },
           {
            "iteration": 1108,
            "learn": [
             0.5549218493
            ],
            "passed_time": 682.4645758,
            "remaining_time": 117.5389847,
            "test": [
             0.8835849469,
             0.969734085,
             0.5549218493
            ]
           },
           {
            "iteration": 1109,
            "learn": [
             0.5547892108
            ],
            "passed_time": 683.0707567,
            "remaining_time": 116.9220214,
            "test": [
             0.8835914133,
             0.9697344284,
             0.5547892108
            ]
           },
           {
            "iteration": 1110,
            "learn": [
             0.5549407977
            ],
            "passed_time": 683.833355,
            "remaining_time": 116.3316869,
            "test": [
             0.8835893903,
             0.9697384588,
             0.5549407977
            ]
           },
           {
            "iteration": 1111,
            "learn": [
             0.5549218493
            ],
            "passed_time": 684.4114616,
            "remaining_time": 115.7098514,
            "test": [
             0.8835801773,
             0.9697499257,
             0.5549218493
            ]
           },
           {
            "iteration": 1112,
            "learn": [
             0.5549218493
            ],
            "passed_time": 685.1244499,
            "remaining_time": 115.1107566,
            "test": [
             0.8835971201,
             0.9697527644,
             0.5549218493
            ]
           },
           {
            "iteration": 1113,
            "learn": [
             0.5549597461
            ],
            "passed_time": 685.7200805,
            "remaining_time": 114.4918626,
            "test": [
             0.8836170106,
             0.9697640721,
             0.5549597461
            ]
           },
           {
            "iteration": 1114,
            "learn": [
             0.5549407977
            ],
            "passed_time": 686.4184827,
            "remaining_time": 113.8900622,
            "test": [
             0.8836354537,
             0.9697751817,
             0.5549407977
            ]
           },
           {
            "iteration": 1115,
            "learn": [
             0.5549786944
            ],
            "passed_time": 687.1491423,
            "remaining_time": 113.293407,
            "test": [
             0.883677933,
             0.9697937363,
             0.5549786944
            ]
           },
           {
            "iteration": 1116,
            "learn": [
             0.5549786944
            ],
            "passed_time": 687.7328286,
            "remaining_time": 112.672433,
            "test": [
             0.8836877569,
             0.9697953263,
             0.5549786944
            ]
           },
           {
            "iteration": 1117,
            "learn": [
             0.555111333
            ],
            "passed_time": 688.4440274,
            "remaining_time": 112.0722835,
            "test": [
             0.8836411963,
             0.9697870569,
             0.555111333
            ]
           },
           {
            "iteration": 1118,
            "learn": [
             0.5550734363
            ],
            "passed_time": 689.0027784,
            "remaining_time": 111.4472769,
            "test": [
             0.8836484253,
             0.9697941563,
             0.5550734363
            ]
           },
           {
            "iteration": 1119,
            "learn": [
             0.5550923846
            ],
            "passed_time": 689.6915376,
            "remaining_time": 110.8432828,
            "test": [
             0.8836003099,
             0.9697856606,
             0.5550923846
            ]
           },
           {
            "iteration": 1120,
            "learn": [
             0.5551871265
            ],
            "passed_time": 690.2874795,
            "remaining_time": 110.2243165,
            "test": [
             0.883582784,
             0.9697840473,
             0.5551871265
            ]
           },
           {
            "iteration": 1121,
            "learn": [
             0.5551681781
            ],
            "passed_time": 690.9466728,
            "remaining_time": 109.6154258,
            "test": [
             0.8835777307,
             0.9697855486,
             0.5551681781
            ]
           },
           {
            "iteration": 1122,
            "learn": [
             0.5551302814
            ],
            "passed_time": 691.599771,
            "remaining_time": 109.0054848,
            "test": [
             0.8836046578,
             0.9697978922,
             0.5551302814
            ]
           },
           {
            "iteration": 1123,
            "learn": [
             0.5552439716
            ],
            "passed_time": 692.184585,
            "remaining_time": 108.3847749,
            "test": [
             0.8836035057,
             0.9698148736,
             0.5552439716
            ]
           },
           {
            "iteration": 1124,
            "learn": [
             0.5552818683
            ],
            "passed_time": 692.8711727,
            "remaining_time": 107.7799602,
            "test": [
             0.883605348,
             0.9698168681,
             0.5552818683
            ]
           },
           {
            "iteration": 1125,
            "learn": [
             0.5553576618
            ],
            "passed_time": 693.4484289,
            "remaining_time": 107.1581053,
            "test": [
             0.8836129299,
             0.9698225669,
             0.5553576618
            ]
           },
           {
            "iteration": 1126,
            "learn": [
             0.5553387134
            ],
            "passed_time": 694.115231,
            "remaining_time": 106.5500754,
            "test": [
             0.8836066853,
             0.9698228635,
             0.5553387134
            ]
           },
           {
            "iteration": 1127,
            "learn": [
             0.5553008167
            ],
            "passed_time": 694.6912975,
            "remaining_time": 105.9281057,
            "test": [
             0.8836024249,
             0.9698249293,
             0.5553008167
            ]
           },
           {
            "iteration": 1128,
            "learn": [
             0.5553008167
            ],
            "passed_time": 695.4504199,
            "remaining_time": 105.3339431,
            "test": [
             0.8835546051,
             0.9698193161,
             0.5553008167
            ]
           },
           {
            "iteration": 1129,
            "learn": [
             0.5553008167
            ],
            "passed_time": 696.0293196,
            "remaining_time": 104.7123755,
            "test": [
             0.8836149194,
             0.9698447572,
             0.5553008167
            ]
           },
           {
            "iteration": 1130,
            "learn": [
             0.5552818683
            ],
            "passed_time": 696.6838772,
            "remaining_time": 104.1021885,
            "test": [
             0.8836698224,
             0.9698828026,
             0.5552818683
            ]
           },
           {
            "iteration": 1131,
            "learn": [
             0.5552439716
            ],
            "passed_time": 697.3203463,
            "remaining_time": 103.4892387,
            "test": [
             0.8836641138,
             0.9698742164,
             0.5552439716
            ]
           },
           {
            "iteration": 1132,
            "learn": [
             0.5553387134
            ],
            "passed_time": 697.9352348,
            "remaining_time": 102.8730664,
            "test": [
             0.8836630186,
             0.9698856477,
             0.5553387134
            ]
           },
           {
            "iteration": 1133,
            "learn": [
             0.5553008167
            ],
            "passed_time": 698.6147573,
            "remaining_time": 102.2663578,
            "test": [
             0.8836582312,
             0.9698837425,
             0.5553008167
            ]
           },
           {
            "iteration": 1134,
            "learn": [
             0.5553008167
            ],
            "passed_time": 699.1805899,
            "remaining_time": 101.6429932,
            "test": [
             0.8836700235,
             0.9698946612,
             0.5553008167
            ]
           },
           {
            "iteration": 1135,
            "learn": [
             0.5554145069
            ],
            "passed_time": 699.8720928,
            "remaining_time": 101.0378726,
            "test": [
             0.8837138811,
             0.9699249641,
             0.5554145069
            ]
           },
           {
            "iteration": 1136,
            "learn": [
             0.555471352
            ],
            "passed_time": 700.4627885,
            "remaining_time": 100.4181482,
            "test": [
             0.883814187,
             0.9699611001,
             0.555471352
            ]
           },
           {
            "iteration": 1137,
            "learn": [
             0.5555471454
            ],
            "passed_time": 701.1590091,
            "remaining_time": 99.8134969,
            "test": [
             0.8838163804,
             0.9699761527,
             0.5555471454
            ]
           },
           {
            "iteration": 1138,
            "learn": [
             0.555471352
            ],
            "passed_time": 701.7695023,
            "remaining_time": 99.19656704,
            "test": [
             0.8838316234,
             0.969994818,
             0.555471352
            ]
           },
           {
            "iteration": 1139,
            "learn": [
             0.5555660938
            ],
            "passed_time": 702.4315078,
            "remaining_time": 98.58687829,
            "test": [
             0.8838443192,
             0.969992379,
             0.5555660938
            ]
           },
           {
            "iteration": 1140,
            "learn": [
             0.5556039905
            ],
            "passed_time": 703.0731565,
            "remaining_time": 97.97426108,
            "test": [
             0.8838759013,
             0.9700121695,
             0.5556039905
            ]
           },
           {
            "iteration": 1141,
            "learn": [
             0.5555850422
            ],
            "passed_time": 703.6600857,
            "remaining_time": 97.35402237,
            "test": [
             0.8839387317,
             0.9700417869,
             0.5555850422
            ]
           },
           {
            "iteration": 1142,
            "learn": [
             0.5555092487
            ],
            "passed_time": 704.3349316,
            "remaining_time": 96.745918,
            "test": [
             0.883968058,
             0.9700480425,
             0.5555092487
            ]
           },
           {
            "iteration": 1143,
            "learn": [
             0.5555092487
            ],
            "passed_time": 704.9258173,
            "remaining_time": 96.12624782,
            "test": [
             0.8839576951,
             0.9700467624,
             0.5555092487
            ]
           },
           {
            "iteration": 1144,
            "learn": [
             0.5555092487
            ],
            "passed_time": 705.6621108,
            "remaining_time": 95.52631195,
            "test": [
             0.8839257557,
             0.9700403479,
             0.5555092487
            ]
           },
           {
            "iteration": 1145,
            "learn": [
             0.5555471454
            ],
            "passed_time": 706.2327068,
            "remaining_time": 94.9038716,
            "test": [
             0.8839500769,
             0.9700549327,
             0.5555471454
            ]
           },
           {
            "iteration": 1146,
            "learn": [
             0.555471352
            ],
            "passed_time": 706.9266688,
            "remaining_time": 94.29797762,
            "test": [
             0.8839219078,
             0.9700437003,
             0.555471352
            ]
           },
           {
            "iteration": 1147,
            "learn": [
             0.5553955585
            ],
            "passed_time": 707.5095328,
            "remaining_time": 93.67722037,
            "test": [
             0.8839635301,
             0.9700805038,
             0.5553955585
            ]
           },
           {
            "iteration": 1148,
            "learn": [
             0.5553955585
            ],
            "passed_time": 708.1803783,
            "remaining_time": 93.06809149,
            "test": [
             0.8839685104,
             0.9700841643,
             0.5553955585
            ]
           },
           {
            "iteration": 1149,
            "learn": [
             0.5553766101
            ],
            "passed_time": 708.8055029,
            "remaining_time": 92.45289168,
            "test": [
             0.88391729,
             0.9700681457,
             0.5553766101
            ]
           },
           {
            "iteration": 1150,
            "learn": [
             0.5553387134
            ],
            "passed_time": 709.4372134,
            "remaining_time": 91.8385272,
            "test": [
             0.8839562395,
             0.9700841127,
             0.5553387134
            ]
           },
           {
            "iteration": 1151,
            "learn": [
             0.555319765
            ],
            "passed_time": 710.1009784,
            "remaining_time": 91.22825069,
            "test": [
             0.883911491,
             0.9700720496,
             0.555319765
            ]
           },
           {
            "iteration": 1152,
            "learn": [
             0.5554145069
            ],
            "passed_time": 710.6838215,
            "remaining_time": 90.60756441,
            "test": [
             0.8839344834,
             0.9700906369,
             0.5554145069
            ]
           },
           {
            "iteration": 1153,
            "learn": [
             0.5554145069
            ],
            "passed_time": 711.3815565,
            "remaining_time": 90.00147942,
            "test": [
             0.8838805495,
             0.9700690164,
             0.5554145069
            ]
           },
           {
            "iteration": 1154,
            "learn": [
             0.5554334552
            ],
            "passed_time": 711.9648207,
            "remaining_time": 89.38086494,
            "test": [
             0.8838897934,
             0.9700796744,
             0.5554334552
            ]
           },
           {
            "iteration": 1155,
            "learn": [
             0.5554334552
            ],
            "passed_time": 712.6612155,
            "remaining_time": 88.77440747,
            "test": [
             0.8838938192,
             0.9700830275,
             0.5554334552
            ]
           },
           {
            "iteration": 1156,
            "learn": [
             0.5555092487
            ],
            "passed_time": 713.2848137,
            "remaining_time": 88.1587972,
            "test": [
             0.8839016408,
             0.970094484,
             0.5555092487
            ]
           },
           {
            "iteration": 1157,
            "learn": [
             0.5555660938
            ],
            "passed_time": 713.9091135,
            "remaining_time": 87.54325916,
            "test": [
             0.8839058567,
             0.9701045986,
             0.5555660938
            ]
           },
           {
            "iteration": 1158,
            "learn": [
             0.5554903003
            ],
            "passed_time": 714.6159994,
            "remaining_time": 86.93775316,
            "test": [
             0.8839609084,
             0.9701338607,
             0.5554903003
            ]
           },
           {
            "iteration": 1159,
            "learn": [
             0.5554334552
            ],
            "passed_time": 715.1906311,
            "remaining_time": 86.31611065,
            "test": [
             0.8839377819,
             0.9701240109,
             0.5554334552
            ]
           },
           {
            "iteration": 1160,
            "learn": [
             0.5555281971
            ],
            "passed_time": 715.888606,
            "remaining_time": 85.70931631,
            "test": [
             0.8839400051,
             0.9701236347,
             0.5555281971
            ]
           },
           {
            "iteration": 1161,
            "learn": [
             0.5556987324
            ],
            "passed_time": 716.4642149,
            "remaining_time": 85.08783275,
            "test": [
             0.8839775627,
             0.9701420425,
             0.5556987324
            ]
           },
           {
            "iteration": 1162,
            "learn": [
             0.5556987324
            ],
            "passed_time": 717.2042893,
            "remaining_time": 84.48580192,
            "test": [
             0.8839825273,
             0.9701458643,
             0.5556987324
            ]
           },
           {
            "iteration": 1163,
            "learn": [
             0.555679784
            ],
            "passed_time": 717.7963398,
            "remaining_time": 83.86623902,
            "test": [
             0.8839834867,
             0.970151402,
             0.555679784
            ]
           },
           {
            "iteration": 1164,
            "learn": [
             0.5558313709
            ],
            "passed_time": 718.4446325,
            "remaining_time": 83.25324067,
            "test": [
             0.8840410496,
             0.9701802181,
             0.5558313709
            ]
           },
           {
            "iteration": 1165,
            "learn": [
             0.5558313709
            ],
            "passed_time": 719.1344504,
            "remaining_time": 82.64495399,
            "test": [
             0.8840026613,
             0.9701652976,
             0.5558313709
            ]
           },
           {
            "iteration": 1166,
            "learn": [
             0.5557934742
            ],
            "passed_time": 719.7091127,
            "remaining_time": 82.02340359,
            "test": [
             0.8840599083,
             0.970193657,
             0.5557934742
            ]
           },
           {
            "iteration": 1167,
            "learn": [
             0.5559261127
            ],
            "passed_time": 720.3746124,
            "remaining_time": 81.41219935,
            "test": [
             0.8840528331,
             0.9702034408,
             0.5559261127
            ]
           },
           {
            "iteration": 1168,
            "learn": [
             0.5559640095
            ],
            "passed_time": 720.9525484,
            "remaining_time": 80.79108969,
            "test": [
             0.8840565748,
             0.9702047677,
             0.5559640095
            ]
           },
           {
            "iteration": 1169,
            "learn": [
             0.5560776997
            ],
            "passed_time": 721.6393552,
            "remaining_time": 80.18215057,
            "test": [
             0.8840233544,
             0.9701982073,
             0.5560776997
            ]
           },
           {
            "iteration": 1170,
            "learn": [
             0.5561345448
            ],
            "passed_time": 722.2030725,
            "remaining_time": 79.55951866,
            "test": [
             0.8840437549,
             0.9702129143,
             0.5561345448
            ]
           },
           {
            "iteration": 1171,
            "learn": [
             0.5561534931
            ],
            "passed_time": 722.8903516,
            "remaining_time": 78.95048209,
            "test": [
             0.8840506319,
             0.9702172828,
             0.5561534931
            ]
           },
           {
            "iteration": 1172,
            "learn": [
             0.5562103382
            ],
            "passed_time": 723.4798008,
            "remaining_time": 78.33072012,
            "test": [
             0.8840606955,
             0.9702204352,
             0.5562103382
            ]
           },
           {
            "iteration": 1173,
            "learn": [
             0.5562103382
            ],
            "passed_time": 724.1356113,
            "remaining_time": 77.71813205,
            "test": [
             0.8841294919,
             0.9702723141,
             0.5562103382
            ]
           },
           {
            "iteration": 1174,
            "learn": [
             0.5562671833
            ],
            "passed_time": 724.7885969,
            "remaining_time": 77.10516988,
            "test": [
             0.884141281,
             0.9702644409,
             0.5562671833
            ]
           },
           {
            "iteration": 1175,
            "learn": [
             0.5562292866
            ],
            "passed_time": 725.3490048,
            "remaining_time": 76.48237806,
            "test": [
             0.8841560807,
             0.9702706072,
             0.5562292866
            ]
           },
           {
            "iteration": 1176,
            "learn": [
             0.5562103382
            ],
            "passed_time": 726.0524141,
            "remaining_time": 75.87463631,
            "test": [
             0.8841105585,
             0.9702620283,
             0.5562103382
            ]
           },
           {
            "iteration": 1177,
            "learn": [
             0.5562292866
            ],
            "passed_time": 726.6188742,
            "remaining_time": 75.25254894,
            "test": [
             0.8841670363,
             0.9702911494,
             0.5562292866
            ]
           },
           {
            "iteration": 1178,
            "learn": [
             0.556248235
            ],
            "passed_time": 727.4118732,
            "remaining_time": 74.65380548,
            "test": [
             0.8840555982,
             0.9702429925,
             0.556248235
            ]
           },
           {
            "iteration": 1179,
            "learn": [
             0.556248235
            ],
            "passed_time": 727.996043,
            "remaining_time": 74.0334959,
            "test": [
             0.8840576105,
             0.9702468883,
             0.556248235
            ]
           },
           {
            "iteration": 1180,
            "learn": [
             0.5563429768
            ],
            "passed_time": 728.6952105,
            "remaining_time": 73.42483493,
            "test": [
             0.8840457411,
             0.970249766,
             0.5563429768
            ]
           },
           {
            "iteration": 1181,
            "learn": [
             0.5563050801
            ],
            "passed_time": 729.2956562,
            "remaining_time": 72.80616534,
            "test": [
             0.8840874602,
             0.9702692448,
             0.5563050801
            ]
           },
           {
            "iteration": 1182,
            "learn": [
             0.5562861317
            ],
            "passed_time": 729.9691508,
            "remaining_time": 72.19475118,
            "test": [
             0.8840861675,
             0.9702723909,
             0.5562861317
            ]
           },
           {
            "iteration": 1183,
            "learn": [
             0.5563619252
            ],
            "passed_time": 730.6487132,
            "remaining_time": 71.58382664,
            "test": [
             0.884040185,
             0.9702722989,
             0.5563619252
            ]
           },
           {
            "iteration": 1184,
            "learn": [
             0.5563998219
            ],
            "passed_time": 731.2455265,
            "remaining_time": 70.96475573,
            "test": [
             0.8841182992,
             0.9703043725,
             0.5563998219
            ]
           },
           {
            "iteration": 1185,
            "learn": [
             0.5563808735
            ],
            "passed_time": 731.9736935,
            "remaining_time": 70.35834828,
            "test": [
             0.8841094983,
             0.9703066,
             0.5563808735
            ]
           },
           {
            "iteration": 1186,
            "learn": [
             0.5563050801
            ],
            "passed_time": 732.5341013,
            "remaining_time": 69.73576533,
            "test": [
             0.884126689,
             0.9703146951,
             0.5563050801
            ]
           },
           {
            "iteration": 1187,
            "learn": [
             0.5564377186
            ],
            "passed_time": 733.2517838,
            "remaining_time": 69.1281143,
            "test": [
             0.8841722895,
             0.9703436967,
             0.5564377186
            ]
           },
           {
            "iteration": 1188,
            "learn": [
             0.5563808735
            ],
            "passed_time": 733.8073411,
            "remaining_time": 68.50514286,
            "test": [
             0.8841965462,
             0.9703565378,
             0.5563808735
            ]
           },
           {
            "iteration": 1189,
            "learn": [
             0.5563619252
            ],
            "passed_time": 734.5311627,
            "remaining_time": 67.89783857,
            "test": [
             0.884191443,
             0.9703550744,
             0.5563619252
            ]
           },
           {
            "iteration": 1190,
            "learn": [
             0.5564187703
            ],
            "passed_time": 735.1641136,
            "remaining_time": 67.28202215,
            "test": [
             0.8841821044,
             0.9703617979,
             0.5564187703
            ]
           },
           {
            "iteration": 1191,
            "learn": [
             0.5563429768
            ],
            "passed_time": 735.7792814,
            "remaining_time": 66.66456576,
            "test": [
             0.8842166873,
             0.9703827995,
             0.5563429768
            ]
           },
           {
            "iteration": 1192,
            "learn": [
             0.5563619252
            ],
            "passed_time": 736.4515838,
            "remaining_time": 66.05223761,
            "test": [
             0.8842408806,
             0.9703983468,
             0.5563619252
            ]
           },
           {
            "iteration": 1193,
            "learn": [
             0.5563998219
            ],
            "passed_time": 737.0230329,
            "remaining_time": 65.43085552,
            "test": [
             0.884248199,
             0.9703965587,
             0.5563998219
            ]
           },
           {
            "iteration": 1194,
            "learn": [
             0.5563619252
            ],
            "passed_time": 737.7486918,
            "remaining_time": 64.82310681,
            "test": [
             0.8842440021,
             0.9704011934,
             0.5563619252
            ]
           },
           {
            "iteration": 1195,
            "learn": [
             0.5564187703
            ],
            "passed_time": 738.3310897,
            "remaining_time": 64.20270345,
            "test": [
             0.884282438,
             0.9704293093,
             0.5564187703
            ]
           },
           {
            "iteration": 1196,
            "learn": [
             0.5564377186
            ],
            "passed_time": 739.0080495,
            "remaining_time": 63.5905005,
            "test": [
             0.8842585168,
             0.9704233958,
             0.5564377186
            ]
           },
           {
            "iteration": 1197,
            "learn": [
             0.5563998219
            ],
            "passed_time": 739.5726491,
            "remaining_time": 62.96862288,
            "test": [
             0.8842291887,
             0.9704178556,
             0.5563998219
            ]
           },
           {
            "iteration": 1198,
            "learn": [
             0.5563808735
            ],
            "passed_time": 740.3054775,
            "remaining_time": 62.36101186,
            "test": [
             0.8842202559,
             0.9704159298,
             0.5563808735
            ]
           },
           {
            "iteration": 1199,
            "learn": [
             0.5563808735
            ],
            "passed_time": 740.9028193,
            "remaining_time": 61.74190161,
            "test": [
             0.8842610213,
             0.9704325294,
             0.5563808735
            ]
           },
           {
            "iteration": 1200,
            "learn": [
             0.5564187703
            ],
            "passed_time": 741.5555165,
            "remaining_time": 61.12739062,
            "test": [
             0.8842572526,
             0.9704471757,
             0.5564187703
            ]
           },
           {
            "iteration": 1201,
            "learn": [
             0.5564187703
            ],
            "passed_time": 742.2114471,
            "remaining_time": 60.51307971,
            "test": [
             0.8843390782,
             0.9704850326,
             0.5564187703
            ]
           },
           {
            "iteration": 1202,
            "learn": [
             0.5564377186
            ],
            "passed_time": 742.796035,
            "remaining_time": 59.89294713,
            "test": [
             0.8843659117,
             0.9705011464,
             0.5564377186
            ]
           },
           {
            "iteration": 1203,
            "learn": [
             0.5565135121
            ],
            "passed_time": 743.5099968,
            "remaining_time": 59.28318912,
            "test": [
             0.8844075397,
             0.9705263199,
             0.5565135121
            ]
           },
           {
            "iteration": 1204,
            "learn": [
             0.5564756154
            ],
            "passed_time": 744.0884812,
            "remaining_time": 58.66257736,
            "test": [
             0.8844274615,
             0.9705334099,
             0.5564756154
            ]
           },
           {
            "iteration": 1205,
            "learn": [
             0.556456667
            ],
            "passed_time": 744.7789394,
            "remaining_time": 58.05076311,
            "test": [
             0.8844243131,
             0.970542105,
             0.556456667
            ]
           },
           {
            "iteration": 1206,
            "learn": [
             0.556456667
            ],
            "passed_time": 745.3554356,
            "remaining_time": 57.43003771,
            "test": [
             0.8845017177,
             0.9705759904,
             0.556456667
            ]
           },
           {
            "iteration": 1207,
            "learn": [
             0.5564756154
            ],
            "passed_time": 746.1045278,
            "remaining_time": 56.82253026,
            "test": [
             0.8844943147,
             0.9705779396,
             0.5564756154
            ]
           },
           {
            "iteration": 1208,
            "learn": [
             0.5564377186
            ],
            "passed_time": 746.719923,
            "remaining_time": 56.20472539,
            "test": [
             0.8844587462,
             0.9705626671,
             0.5564377186
            ]
           },
           {
            "iteration": 1209,
            "learn": [
             0.5564187703
            ],
            "passed_time": 747.3738741,
            "remaining_time": 55.58979229,
            "test": [
             0.884532485,
             0.970606362,
             0.5564187703
            ]
           },
           {
            "iteration": 1210,
            "learn": [
             0.5564756154
            ],
            "passed_time": 748.1139096,
            "remaining_time": 54.98112135,
            "test": [
             0.8845493505,
             0.9706010302,
             0.5564756154
            ]
           },
           {
            "iteration": 1211,
            "learn": [
             0.5565135121
            ],
            "passed_time": 748.7037611,
            "remaining_time": 54.36132919,
            "test": [
             0.8845744129,
             0.9706195315,
             0.5565135121
            ]
           },
           {
            "iteration": 1212,
            "learn": [
             0.5565135121
            ],
            "passed_time": 749.438776,
            "remaining_time": 53.75199795,
            "test": [
             0.8845977736,
             0.9706341828,
             0.5565135121
            ]
           },
           {
            "iteration": 1213,
            "learn": [
             0.5565324605
            ],
            "passed_time": 749.9934322,
            "remaining_time": 53.129683,
            "test": [
             0.8845895709,
             0.9706366053,
             0.5565324605
            ]
           },
           {
            "iteration": 1214,
            "learn": [
             0.5565703572
            ],
            "passed_time": 750.7039465,
            "remaining_time": 52.51838309,
            "test": [
             0.8845988548,
             0.9706481353,
             0.5565703572
            ]
           },
           {
            "iteration": 1215,
            "learn": [
             0.5565703572
            ],
            "passed_time": 751.2851226,
            "remaining_time": 51.89798544,
            "test": [
             0.8846123128,
             0.9706567188,
             0.5565703572
            ]
           },
           {
            "iteration": 1216,
            "learn": [
             0.5565324605
            ],
            "passed_time": 751.950454,
            "remaining_time": 51.28339169,
            "test": [
             0.8846115611,
             0.9706552643,
             0.5565324605
            ]
           },
           {
            "iteration": 1217,
            "learn": [
             0.5565135121
            ],
            "passed_time": 752.6195315,
            "remaining_time": 50.66896682,
            "test": [
             0.8846324424,
             0.9706724577,
             0.5565135121
            ]
           },
           {
            "iteration": 1218,
            "learn": [
             0.5564756154
            ],
            "passed_time": 753.240186,
            "remaining_time": 50.05123467,
            "test": [
             0.8846165292,
             0.9706647537,
             0.5564756154
            ]
           },
           {
            "iteration": 1219,
            "learn": [
             0.5565324605
            ],
            "passed_time": 753.9424106,
            "remaining_time": 49.4388466,
            "test": [
             0.8846075144,
             0.970662108,
             0.5565324605
            ]
           },
           {
            "iteration": 1220,
            "learn": [
             0.5565703572
            ],
            "passed_time": 754.5217486,
            "remaining_time": 48.81836048,
            "test": [
             0.884605675,
             0.9706704576,
             0.5565703572
            ]
           },
           {
            "iteration": 1221,
            "learn": [
             0.5566840474
            ],
            "passed_time": 755.2013922,
            "remaining_time": 48.20434419,
            "test": [
             0.8846597192,
             0.9706996871,
             0.5566840474
            ]
           },
           {
            "iteration": 1222,
            "learn": [
             0.5567787892
            ],
            "passed_time": 755.7794902,
            "remaining_time": 47.58382726,
            "test": [
             0.8846745912,
             0.9707171895,
             0.5567787892
            ]
           },
           {
            "iteration": 1223,
            "learn": [
             0.5567977376
            ],
            "passed_time": 756.4685732,
            "remaining_time": 46.97027088,
            "test": [
             0.8846633997,
             0.9707144136,
             0.5567977376
            ]
           },
           {
            "iteration": 1224,
            "learn": [
             0.5569303761
            ],
            "passed_time": 757.0168922,
            "remaining_time": 46.34797299,
            "test": [
             0.8846474172,
             0.9707231668,
             0.5569303761
            ]
           },
           {
            "iteration": 1225,
            "learn": [
             0.5569114278
            ],
            "passed_time": 757.740488,
            "remaining_time": 45.73637529,
            "test": [
             0.8846363042,
             0.9707190775,
             0.5569114278
            ]
           },
           {
            "iteration": 1226,
            "learn": [
             0.556873531
            ],
            "passed_time": 758.3243079,
            "remaining_time": 45.11627912,
            "test": [
             0.8846509227,
             0.9707381002,
             0.556873531
            ]
           },
           {
            "iteration": 1227,
            "learn": [
             0.556873531
            ],
            "passed_time": 759.0124408,
            "remaining_time": 44.50235809,
            "test": [
             0.8846641382,
             0.9707416609,
             0.556873531
            ]
           },
           {
            "iteration": 1228,
            "learn": [
             0.5568545827
            ],
            "passed_time": 759.6662656,
            "remaining_time": 43.8863343,
            "test": [
             0.8846657578,
             0.9707464861,
             0.5568545827
            ]
           },
           {
            "iteration": 1229,
            "learn": [
             0.5569114278
            ],
            "passed_time": 760.295712,
            "remaining_time": 43.26886166,
            "test": [
             0.8847056204,
             0.9707771762,
             0.5569114278
            ]
           },
           {
            "iteration": 1230,
            "learn": [
             0.5568924794
            ],
            "passed_time": 761.0110962,
            "remaining_time": 42.65618654,
            "test": [
             0.8847528904,
             0.9707944118,
             0.5568924794
            ]
           },
           {
            "iteration": 1231,
            "learn": [
             0.5569872212
            ],
            "passed_time": 761.5892645,
            "remaining_time": 42.03577109,
            "test": [
             0.8846627599,
             0.9707637235,
             0.5569872212
            ]
           },
           {
            "iteration": 1232,
            "learn": [
             0.5569872212
            ],
            "passed_time": 762.2886061,
            "remaining_time": 41.4220086,
            "test": [
             0.884640855,
             0.9707598661,
             0.5569872212
            ]
           },
           {
            "iteration": 1233,
            "learn": [
             0.5570061696
            ],
            "passed_time": 762.8857168,
            "remaining_time": 40.80263963,
            "test": [
             0.884657332,
             0.9707676124,
             0.5570061696
            ]
           },
           {
            "iteration": 1234,
            "learn": [
             0.5569682729
            ],
            "passed_time": 763.577242,
            "remaining_time": 40.1882759,
            "test": [
             0.8846164124,
             0.9707521224,
             0.5569682729
            ]
           },
           {
            "iteration": 1235,
            "learn": [
             0.5570630147
            ],
            "passed_time": 764.4153595,
            "remaining_time": 39.58137784,
            "test": [
             0.8845744938,
             0.9707426665,
             0.5570630147
            ]
           },
           {
            "iteration": 1236,
            "learn": [
             0.5571388082
            ],
            "passed_time": 765.0494462,
            "remaining_time": 38.96371472,
            "test": [
             0.8846444175,
             0.9707793437,
             0.5571388082
            ]
           },
           {
            "iteration": 1237,
            "learn": [
             0.5571577565
            ],
            "passed_time": 765.7804941,
            "remaining_time": 38.35088097,
            "test": [
             0.8846465964,
             0.9707763441,
             0.5571577565
            ]
           },
           {
            "iteration": 1238,
            "learn": [
             0.5571767049
            ],
            "passed_time": 766.4243153,
            "remaining_time": 37.73356193,
            "test": [
             0.8846469074,
             0.9707777535,
             0.5571767049
            ]
           },
           {
            "iteration": 1239,
            "learn": [
             0.5571767049
            ],
            "passed_time": 767.0922768,
            "remaining_time": 37.11736823,
            "test": [
             0.8847226651,
             0.9708074336,
             0.5571767049
            ]
           },
           {
            "iteration": 1240,
            "learn": [
             0.5570819631
            ],
            "passed_time": 767.8737354,
            "remaining_time": 36.50648702,
            "test": [
             0.8847060761,
             0.9708005269,
             0.5570819631
            ]
           },
           {
            "iteration": 1241,
            "learn": [
             0.5571198598
            ],
            "passed_time": 768.4971701,
            "remaining_time": 35.88795158,
            "test": [
             0.8847257978,
             0.9708081372,
             0.5571198598
            ]
           },
           {
            "iteration": 1242,
            "learn": [
             0.5570630147
            ],
            "passed_time": 769.2314745,
            "remaining_time": 35.27449239,
            "test": [
             0.884709148,
             0.9708112665,
             0.5570630147
            ]
           },
           {
            "iteration": 1243,
            "learn": [
             0.5570630147
            ],
            "passed_time": 769.8085678,
            "remaining_time": 34.65376189,
            "test": [
             0.8847359623,
             0.9708187618,
             0.5570630147
            ]
           },
           {
            "iteration": 1244,
            "learn": [
             0.5570819631
            ],
            "passed_time": 770.4976897,
            "remaining_time": 34.03805055,
            "test": [
             0.8847345929,
             0.9708259722,
             0.5570819631
            ]
           },
           {
            "iteration": 1245,
            "learn": [
             0.5570819631
            ],
            "passed_time": 771.160021,
            "remaining_time": 33.4210603,
            "test": [
             0.8847563597,
             0.9708380047,
             0.5570819631
            ]
           },
           {
            "iteration": 1246,
            "learn": [
             0.5571198598
            ],
            "passed_time": 771.7925476,
            "remaining_time": 32.80273057,
            "test": [
             0.8847605772,
             0.9708494217,
             0.5571198598
            ]
           },
           {
            "iteration": 1247,
            "learn": [
             0.5570819631
            ],
            "passed_time": 772.4838785,
            "remaining_time": 32.18682827,
            "test": [
             0.8847610019,
             0.970851454,
             0.5570819631
            ]
           },
           {
            "iteration": 1248,
            "learn": [
             0.5570819631
            ],
            "passed_time": 773.0613846,
            "remaining_time": 31.56615742,
            "test": [
             0.8847738898,
             0.9708580028,
             0.5570819631
            ]
           },
           {
            "iteration": 1249,
            "learn": [
             0.5571388082
            ],
            "passed_time": 773.7419385,
            "remaining_time": 30.94967754,
            "test": [
             0.8847602813,
             0.9708629133,
             0.5571388082
            ]
           },
           {
            "iteration": 1250,
            "learn": [
             0.5572146016
            ],
            "passed_time": 774.3018493,
            "remaining_time": 30.3283698,
            "test": [
             0.8847605257,
             0.9708650785,
             0.5572146016
            ]
           },
           {
            "iteration": 1251,
            "learn": [
             0.5571767049
            ],
            "passed_time": 774.9960336,
            "remaining_time": 29.712308,
            "test": [
             0.8847960098,
             0.9708723602,
             0.5571767049
            ]
           },
           {
            "iteration": 1252,
            "learn": [
             0.5571767049
            ],
            "passed_time": 775.5560372,
            "remaining_time": 29.09108839,
            "test": [
             0.8848037638,
             0.9708841139,
             0.5571767049
            ]
           },
           {
            "iteration": 1253,
            "learn": [
             0.5571009114
            ],
            "passed_time": 776.3164596,
            "remaining_time": 28.4773183,
            "test": [
             0.8848067567,
             0.9708886553,
             0.5571009114
            ]
           },
           {
            "iteration": 1254,
            "learn": [
             0.5570819631
            ],
            "passed_time": 776.9496137,
            "remaining_time": 27.85875109,
            "test": [
             0.884785826,
             0.9708910874,
             0.5570819631
            ]
           },
           {
            "iteration": 1255,
            "learn": [
             0.5570630147
            ],
            "passed_time": 777.579418,
            "remaining_time": 27.2400433,
            "test": [
             0.8848035237,
             0.9709009681,
             0.5570630147
            ]
           },
           {
            "iteration": 1256,
            "learn": [
             0.5570819631
            ],
            "passed_time": 778.3084792,
            "remaining_time": 26.62471329,
            "test": [
             0.8847976462,
             0.9709004737,
             0.5570819631
            ]
           },
           {
            "iteration": 1257,
            "learn": [
             0.5571009114
            ],
            "passed_time": 778.8827907,
            "remaining_time": 26.00403594,
            "test": [
             0.8848165872,
             0.9709137009,
             0.5571009114
            ]
           },
           {
            "iteration": 1258,
            "learn": [
             0.5571009114
            ],
            "passed_time": 779.5720869,
            "remaining_time": 25.38717678,
            "test": [
             0.8848155157,
             0.9709151714,
             0.5571009114
            ]
           },
           {
            "iteration": 1259,
            "learn": [
             0.5571009114
            ],
            "passed_time": 780.1425388,
            "remaining_time": 24.7664298,
            "test": [
             0.8847996969,
             0.9709122828,
             0.5571009114
            ]
           },
           {
            "iteration": 1260,
            "learn": [
             0.5571009114
            ],
            "passed_time": 780.859104,
            "remaining_time": 24.15028157,
            "test": [
             0.8847738241,
             0.9708988726,
             0.5571009114
            ]
           },
           {
            "iteration": 1261,
            "learn": [
             0.5571009114
            ],
            "passed_time": 781.4479992,
            "remaining_time": 23.53012993,
            "test": [
             0.8847793801,
             0.9709047011,
             0.5571009114
            ]
           },
           {
            "iteration": 1262,
            "learn": [
             0.5570630147
            ],
            "passed_time": 782.1255878,
            "remaining_time": 22.91262609,
            "test": [
             0.8847874259,
             0.9709041216,
             0.5570630147
            ]
           },
           {
            "iteration": 1263,
            "learn": [
             0.5571956533
            ],
            "passed_time": 782.7848614,
            "remaining_time": 22.29450555,
            "test": [
             0.884796597,
             0.9709106696,
             0.5571956533
            ]
           },
           {
            "iteration": 1264,
            "learn": [
             0.5572146016
            ],
            "passed_time": 783.3696149,
            "remaining_time": 21.67425812,
            "test": [
             0.8848438627,
             0.9709449956,
             0.5572146016
            ]
           },
           {
            "iteration": 1265,
            "learn": [
             0.55723355
            ],
            "passed_time": 784.0712655,
            "remaining_time": 21.05720618,
            "test": [
             0.8848534087,
             0.9709484019,
             0.55723355
            ]
           },
           {
            "iteration": 1266,
            "learn": [
             0.5571577565
            ],
            "passed_time": 784.6451273,
            "remaining_time": 20.43669235,
            "test": [
             0.8848474252,
             0.9709673618,
             0.5571577565
            ]
           },
           {
            "iteration": 1267,
            "learn": [
             0.5571388082
            ],
            "passed_time": 785.3534163,
            "remaining_time": 19.81964458,
            "test": [
             0.884870039,
             0.9709858717,
             0.5571388082
            ]
           },
           {
            "iteration": 1268,
            "learn": [
             0.5572524984
            ],
            "passed_time": 785.942442,
            "remaining_time": 19.19953956,
            "test": [
             0.8848973632,
             0.9710050249,
             0.5572524984
            ]
           },
           {
            "iteration": 1269,
            "learn": [
             0.5572714467
            ],
            "passed_time": 786.6300598,
            "remaining_time": 18.58181244,
            "test": [
             0.8849021045,
             0.9710007176,
             0.5572714467
            ]
           },
           {
            "iteration": 1270,
            "learn": [
             0.5573282918
            ],
            "passed_time": 787.2492347,
            "remaining_time": 17.96241369,
            "test": [
             0.8848676047,
             0.9709915366,
             0.5573282918
            ]
           },
           {
            "iteration": 1271,
            "learn": [
             0.5573472402
            ],
            "passed_time": 787.918495,
            "remaining_time": 17.34411782,
            "test": [
             0.8848987421,
             0.9710219916,
             0.5573472402
            ]
           },
           {
            "iteration": 1272,
            "learn": [
             0.5573472402
            ],
            "passed_time": 788.5559389,
            "remaining_time": 16.72506705,
            "test": [
             0.8849171791,
             0.9710287652,
             0.5573472402
            ]
           },
           {
            "iteration": 1273,
            "learn": [
             0.5573472402
            ],
            "passed_time": 789.1920243,
            "remaining_time": 16.10595968,
            "test": [
             0.8849187558,
             0.9710317219,
             0.5573472402
            ]
           },
           {
            "iteration": 1274,
            "learn": [
             0.5575935689
            ],
            "passed_time": 789.8560247,
            "remaining_time": 15.48737303,
            "test": [
             0.88495901,
             0.9710506435,
             0.5575935689
            ]
           },
           {
            "iteration": 1275,
            "learn": [
             0.5575935689
            ],
            "passed_time": 790.427108,
            "remaining_time": 14.86696755,
            "test": [
             0.8849604936,
             0.9710615471,
             0.5575935689
            ]
           },
           {
            "iteration": 1276,
            "learn": [
             0.557650414
            ],
            "passed_time": 791.1087614,
            "remaining_time": 14.24863078,
            "test": [
             0.8849620085,
             0.9710598842,
             0.557650414
            ]
           },
           {
            "iteration": 1277,
            "learn": [
             0.5576883108
            ],
            "passed_time": 791.6731195,
            "remaining_time": 13.62817577,
            "test": [
             0.8850173383,
             0.9710850623,
             0.5576883108
            ]
           },
           {
            "iteration": 1278,
            "learn": [
             0.5576883108
            ],
            "passed_time": 792.3696533,
            "remaining_time": 13.00997867,
            "test": [
             0.8849935419,
             0.971070642,
             0.5576883108
            ]
           },
           {
            "iteration": 1279,
            "learn": [
             0.5577641042
            ],
            "passed_time": 792.9376431,
            "remaining_time": 12.38965067,
            "test": [
             0.8850279652,
             0.9710975505,
             0.5577641042
            ]
           },
           {
            "iteration": 1280,
            "learn": [
             0.5579156912
            ],
            "passed_time": 793.6408635,
            "remaining_time": 11.77141015,
            "test": [
             0.8850731828,
             0.9711130302,
             0.5579156912
            ]
           },
           {
            "iteration": 1281,
            "learn": [
             0.5579156912
            ],
            "passed_time": 794.258692,
            "remaining_time": 11.15183811,
            "test": [
             0.8850717171,
             0.9711168886,
             0.5579156912
            ]
           },
           {
            "iteration": 1282,
            "learn": [
             0.5578967428
            ],
            "passed_time": 794.9142868,
            "remaining_time": 10.53276919,
            "test": [
             0.8851203057,
             0.9711547817,
             0.5578967428
            ]
           },
           {
            "iteration": 1283,
            "learn": [
             0.5578967428
            ],
            "passed_time": 795.6325946,
            "remaining_time": 9.914424855,
            "test": [
             0.8851192939,
             0.9711578786,
             0.5578967428
            ]
           },
           {
            "iteration": 1284,
            "learn": [
             0.5578398977
            ],
            "passed_time": 796.2380377,
            "remaining_time": 9.294607444,
            "test": [
             0.8850686827,
             0.9711341984,
             0.5578398977
            ]
           },
           {
            "iteration": 1285,
            "learn": [
             0.5579346395
            ],
            "passed_time": 796.9563451,
            "remaining_time": 8.676041082,
            "test": [
             0.8850769229,
             0.971138356,
             0.5579346395
            ]
           },
           {
            "iteration": 1286,
            "learn": [
             0.5579725363
            ],
            "passed_time": 797.5337041,
            "remaining_time": 8.055896001,
            "test": [
             0.8850604711,
             0.971144762,
             0.5579725363
            ]
           },
           {
            "iteration": 1287,
            "learn": [
             0.5579535879
            ],
            "passed_time": 798.2897974,
            "remaining_time": 7.437482585,
            "test": [
             0.8850475179,
             0.9711380461,
             0.5579535879
            ]
           },
           {
            "iteration": 1288,
            "learn": [
             0.5579535879
            ],
            "passed_time": 798.8610021,
            "remaining_time": 6.817277752,
            "test": [
             0.8850544183,
             0.9711461817,
             0.5579535879
            ]
           },
           {
            "iteration": 1289,
            "learn": [
             0.5579346395
            ],
            "passed_time": 799.574977,
            "remaining_time": 6.198255635,
            "test": [
             0.8850269889,
             0.9711361358,
             0.5579346395
            ]
           },
           {
            "iteration": 1290,
            "learn": [
             0.5579535879
            ],
            "passed_time": 800.1592339,
            "remaining_time": 5.578182111,
            "test": [
             0.8850251397,
             0.9711410157,
             0.5579535879
            ]
           },
           {
            "iteration": 1291,
            "learn": [
             0.5579725363
            ],
            "passed_time": 800.814732,
            "remaining_time": 4.958605152,
            "test": [
             0.885028599,
             0.9711523515,
             0.5579725363
            ]
           },
           {
            "iteration": 1292,
            "learn": [
             0.5580672781
            ],
            "passed_time": 801.4955721,
            "remaining_time": 4.339109826,
            "test": [
             0.8850297473,
             0.971160705,
             0.5580672781
            ]
           },
           {
            "iteration": 1293,
            "learn": [
             0.5580672781
            ],
            "passed_time": 802.0979061,
            "remaining_time": 3.71915567,
            "test": [
             0.8850370769,
             0.9711695594,
             0.5580672781
            ]
           },
           {
            "iteration": 1294,
            "learn": [
             0.5581620199
            ],
            "passed_time": 802.8137423,
            "remaining_time": 3.099666959,
            "test": [
             0.8851056171,
             0.9712027394,
             0.5581620199
            ]
           },
           {
            "iteration": 1295,
            "learn": [
             0.5581809683
            ],
            "passed_time": 803.3937367,
            "remaining_time": 2.479610299,
            "test": [
             0.885123284,
             0.9712044935,
             0.5581809683
            ]
           },
           {
            "iteration": 1296,
            "learn": [
             0.5581809683
            ],
            "passed_time": 804.0788441,
            "remaining_time": 1.859858545,
            "test": [
             0.8851105399,
             0.9712018342,
             0.5581809683
            ]
           },
           {
            "iteration": 1297,
            "learn": [
             0.5580862265
            ],
            "passed_time": 804.6361457,
            "remaining_time": 1.239809161,
            "test": [
             0.8851054011,
             0.9712006186,
             0.5580862265
            ]
           },
           {
            "iteration": 1298,
            "learn": [
             0.5581241232
            ],
            "passed_time": 805.3529666,
            "remaining_time": 0.6199791891,
            "test": [
             0.8851034921,
             0.971201155,
             0.5581241232
            ]
           },
           {
            "iteration": 1299,
            "learn": [
             0.5581241232
            ],
            "passed_time": 805.9190926,
            "remaining_time": 0,
            "test": [
             0.8851038271,
             0.9712031359,
             0.5581241232
            ]
           }
          ],
          "meta": {
           "iteration_count": 1300,
           "launch_mode": "Train",
           "learn_metrics": [
            {
             "best_value": "Max",
             "name": "AverageGain:top=5"
            }
           ],
           "learn_sets": [
            "learn"
           ],
           "name": "experiment",
           "parameters": "",
           "test_metrics": [
            {
             "best_value": "Max",
             "name": "PFound"
            },
            {
             "best_value": "Max",
             "name": "NDCG:type=Base"
            },
            {
             "best_value": "Max",
             "name": "AverageGain:top=5"
            }
           ],
           "test_sets": [
            "test"
           ]
          }
         },
         "passed_iterations": 1299,
         "total_iterations": 1300
        },
        "name": "catboost_info",
        "path": "catboost_info"
       }
      },
      "layout": "IPY_MODEL_cec65d1347ca42f7b8a535a8a5db2d91"
     }
    },
    "cec65d1347ca42f7b8a535a8a5db2d91": {
     "model_module": "@jupyter-widgets/base",
     "model_name": "LayoutModel",
     "state": {
      "_model_module": "@jupyter-widgets/base",
      "_model_module_version": "1.2.0",
      "_model_name": "LayoutModel",
      "_view_count": null,
      "_view_module": "@jupyter-widgets/base",
      "_view_module_version": "1.2.0",
      "_view_name": "LayoutView",
      "align_content": null,
      "align_items": null,
      "align_self": "stretch",
      "border": null,
      "bottom": null,
      "display": null,
      "flex": null,
      "flex_flow": null,
      "grid_area": null,
      "grid_auto_columns": null,
      "grid_auto_flow": null,
      "grid_auto_rows": null,
      "grid_column": null,
      "grid_gap": null,
      "grid_row": null,
      "grid_template_areas": null,
      "grid_template_columns": null,
      "grid_template_rows": null,
      "height": "500px",
      "justify_content": null,
      "justify_items": null,
      "left": null,
      "margin": null,
      "max_height": null,
      "max_width": null,
      "min_height": null,
      "min_width": null,
      "object_fit": null,
      "object_position": null,
      "order": null,
      "overflow": null,
      "overflow_x": null,
      "overflow_y": null,
      "padding": null,
      "right": null,
      "top": null,
      "visibility": null,
      "width": null
     }
    }
   }
  }
 },
 "nbformat": 4,
 "nbformat_minor": 1
}
