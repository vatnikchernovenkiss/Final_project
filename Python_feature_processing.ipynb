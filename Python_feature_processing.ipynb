{
 "cells": [
  {
   "cell_type": "markdown",
   "metadata": {
    "id": "ODScvIg3iR65"
   },
   "source": [
    "### Лематизация текстов (первые 4000 слов из каждого документа)"
   ]
  },
  {
   "cell_type": "code",
   "execution_count": 4,
   "metadata": {
    "colab": {
     "base_uri": "https://localhost:8080/"
    },
    "executionInfo": {
     "elapsed": 8873,
     "status": "ok",
     "timestamp": 1614089980511,
     "user": {
      "displayName": "D H",
      "photoUrl": "",
      "userId": "13264644035740762546"
     },
     "user_tz": -180
    },
    "id": "hBLSGTKgiTJC",
    "outputId": "a1d7b831-3fa2-4661-ba35-a25c23983893"
   },
   "outputs": [],
   "source": [
    "!pip install pymorphy2\n",
    "!pip install nltk\n",
    "!pip install gensim\n",
    "!pip install tensorflow_text\n",
    "import tensorflow as tf\n",
    "import tensorflow_hub as hub\n",
    "import tensorflow_text"
   ]
  },
  {
   "cell_type": "code",
   "execution_count": 5,
   "metadata": {
    "executionInfo": {
     "elapsed": 9317,
     "status": "ok",
     "timestamp": 1614089982207,
     "user": {
      "displayName": "D H",
      "photoUrl": "",
      "userId": "13264644035740762546"
     },
     "user_tz": -180
    },
    "id": "FXzRZfwqi1C-"
   },
   "outputs": [],
   "source": [
    "import numpy as np\n",
    "import pandas as pd\n",
    "from tqdm import notebook\n",
    "import re\n",
    "from time import sleep\n",
    "import os\n",
    "import pymorphy2\n",
    "import nltk\n",
    "from nltk.corpus import stopwords\n",
    "from nltk.corpus import wordnet as wn\n",
    "from tqdm import tqdm\n",
    "import pickle\n",
    "from scipy.sparse import csr_matrix\n",
    "import gensim\n",
    "from gensim.models import Word2Vec\n",
    "from multiprocessing import Pool, Lock, Value\n",
    "import functools\n",
    "import operator\n",
    "import requests\n",
    "import pymorphy2\n",
    "import nltk\n",
    "from tqdm import tqdm\n",
    "from nltk.corpus import stopwords\n",
    "from nltk.corpus import wordnet as wn\n",
    "morph = pymorphy2.MorphAnalyzer()\n",
    "from bs4.element import Comment\n",
    "import os.path\n",
    "from os import path"
   ]
  },
  {
   "cell_type": "code",
   "execution_count": 6,
   "metadata": {
    "colab": {
     "base_uri": "https://localhost:8080/"
    },
    "executionInfo": {
     "elapsed": 8403,
     "status": "ok",
     "timestamp": 1614089982212,
     "user": {
      "displayName": "D H",
      "photoUrl": "",
      "userId": "13264644035740762546"
     },
     "user_tz": -180
    },
    "id": "IloKOodni2-_",
    "outputId": "22d035c6-eb1f-4553-ca48-a7f006014a8f"
   },
   "outputs": [],
   "source": [
    "nltk.download(\"stopwords\")\n",
    "stop_words = list(set(stopwords.words('russian')))"
   ]
  },
  {
   "cell_type": "code",
   "execution_count": 7,
   "metadata": {
    "executionInfo": {
     "elapsed": 7627,
     "status": "ok",
     "timestamp": 1614089982839,
     "user": {
      "displayName": "D H",
      "photoUrl": "",
      "userId": "13264644035740762546"
     },
     "user_tz": -180
    },
    "id": "D_BuFnMxi5vx"
   },
   "outputs": [],
   "source": [
    "morph = pymorphy2.MorphAnalyzer()\n",
    "PYMORPHY_CACHE = {}\n",
    "def lemmatizer(words):\n",
    "    global PYMORPHY_CACHE\n",
    "    for word in words:\n",
    "        word_hash = hash(word)\n",
    "        if word_hash not in PYMORPHY_CACHE:\n",
    "            PYMORPHY_CACHE[word_hash] = morph.parse(word)[0].normal_form\n",
    "        yield PYMORPHY_CACHE[word_hash]"
   ]
  },
  {
   "cell_type": "code",
   "execution_count": 8,
   "metadata": {
    "id": "AsIuKTc7jMi0"
   },
   "outputs": [],
   "source": [
    "from tqdm import notebook\n",
    "chunksize = 1\n",
    "docs_latest_path = './docs_latest.tsv'\n",
    "test_chunk = 0\n",
    "if not os.path.exists('./docs'):\n",
    "    os.makedirs('./docs')\n",
    "\n",
    "for i, chunk in enumerate(notebook.tqdm(pd.read_csv(docs_latest_path, chunksize=1, header=None, sep='\\t'))):\n",
    "    test_chunk = chunk\n",
    "    docwords = str(test_chunk[2].values[0]).lower().split()[:4000]\n",
    "    docwords = [word for word in docwords if word not in stop_words]\n",
    "    doc_lemmatized = ' '.join(lemmatizer(docwords))\n",
    "\n",
    "    save_path = './docs/' + str(i)\n",
    "    with open(save_path, 'w+') as f:\n",
    "        f.write(doc_lemmatized)"
   ]
  },
  {
   "cell_type": "markdown",
   "metadata": {
    "id": "hezGNI_RjXk5"
   },
   "source": [
    "### Лематизация заголовков"
   ]
  },
  {
   "cell_type": "code",
   "execution_count": 9,
   "metadata": {
    "colab": {
     "base_uri": "https://localhost:8080/",
     "height": 206
    },
    "executionInfo": {
     "elapsed": 1912,
     "status": "ok",
     "timestamp": 1614045160919,
     "user": {
      "displayName": "D H",
      "photoUrl": "",
      "userId": "13264644035740762546"
     },
     "user_tz": -180
    },
    "id": "KGerhvt1jRsY",
    "outputId": "07f40972-394c-4582-d2c1-35a0518c694d"
   },
   "outputs": [],
   "source": [
    "titles_path = './docs_latest_titles.tsv'\n",
    "titles_df = pd.read_csv(titles_path, sep='\\t', header=None)\n",
    "titles_df.head()"
   ]
  },
  {
   "cell_type": "code",
   "execution_count": 10,
   "metadata": {
    "colab": {
     "base_uri": "https://localhost:8080/",
     "height": 417,
     "referenced_widgets": [
      "8197bb7277c74912ab6b7aae69020ab4",
      "1ca895fe0f344b7ca0e1ce5a45725aca",
      "37735863ec364ff0a66820565ee466ab",
      "8cd3555bcc5a409dba5d4a7539814d5c",
      "796f20ffcb46405387ba832cba64e102",
      "ab967258ff6a4127b84403f9ca012f8d",
      "bc0272c950b94b9da2b204546bf2f3a9",
      "423c554bf50648c084e5809c55f84da1"
     ]
    },
    "executionInfo": {
     "elapsed": 147143,
     "status": "error",
     "timestamp": 1614045469816,
     "user": {
      "displayName": "D H",
      "photoUrl": "",
      "userId": "13264644035740762546"
     },
     "user_tz": -180
    },
    "id": "yVlm3zNrkOT4",
    "outputId": "2c94b0d5-49aa-4119-e8ea-dd14507e9488"
   },
   "outputs": [],
   "source": [
    "titles_raw = titles_df.values[:, 1]\n",
    "titles = []\n",
    "for title in notebook.tqdm(titles_raw):\n",
    "    words = str(title).lower().split()\n",
    "    words = [word for word in words if word not in stop_words]\n",
    "    titles.append(' '.join(lemmatizer(words)))"
   ]
  },
  {
   "cell_type": "markdown",
   "metadata": {
    "id": "dHT41Rhwmg92"
   },
   "source": [
    "### Исправление запросов"
   ]
  },
  {
   "cell_type": "code",
   "execution_count": 11,
   "metadata": {
    "id": "E1dz1OS2miTV"
   },
   "outputs": [],
   "source": [
    "import pandas as pd\n",
    "queries_path = './ranking-long-tail-queries-fall-2020/queries.tsv'\n",
    "bad_queries = pd.read_csv(queries_path, sep='\\t', header=None)\n",
    "bad_queries = bad_queries.values[:, 1]"
   ]
  },
  {
   "cell_type": "code",
   "execution_count": 12,
   "metadata": {
    "colab": {
     "base_uri": "https://localhost:8080/",
     "height": 473,
     "referenced_widgets": [
      "8d37f7c485984b3e9ef9718cdbe87e41",
      "4bfdfbd78c4448fb88d936be566ec5a9",
      "760152281451455097c3aca738512b83",
      "f64a04ff33004a3080c40a550e192415",
      "cd507042f0c74951b16ca7173fd62806",
      "9a5e8da8344941e89817ed1ea5d187dc",
      "063f3cb9b2d345a7adca4543d855e4b5",
      "29b4401201bd4870bd2ffb47f522fa0c"
     ]
    },
    "executionInfo": {
     "elapsed": 3458,
     "status": "error",
     "timestamp": 1614045568234,
     "user": {
      "displayName": "D H",
      "photoUrl": "",
      "userId": "13264644035740762546"
     },
     "user_tz": -180
    },
    "id": "rpKLsMW5mku4",
    "outputId": "1e4c5448-4aa9-4bc7-9932-ce3ffb68ec33"
   },
   "outputs": [],
   "source": [
    "import requests\n",
    "queries = []\n",
    "for query in notebook.tqdm(bad_queries):\n",
    "    reply = requests.get('https://speller.yandex.net/services/spellservice.json/checkText?text=' + query)\n",
    "    assert(reply.status_code == 200)\n",
    "    suggest = {change['word']: change['s'][0] for change in reply.json() if len(change['s']) > 0}\n",
    "    for word, correction in suggest.items():\n",
    "        query = query.replace(word, correction)\n",
    "    queries.append(query)"
   ]
  },
  {
   "cell_type": "code",
   "execution_count": 13,
   "metadata": {},
   "outputs": [],
   "source": [
    "bad_queries[1] = queries\n",
    "queries = bad_queries"
   ]
  },
  {
   "cell_type": "markdown",
   "metadata": {
    "id": "3mg6RtNDnQ4Q"
   },
   "source": [
    "### Bm25 по заголовкам и текстам"
   ]
  },
  {
   "cell_type": "code",
   "execution_count": 14,
   "metadata": {},
   "outputs": [],
   "source": [
    "# coding: UTF-8\n",
    "from __future__ import absolute_import, division, print_function, unicode_literals\n",
    "import numpy as np\n",
    "import scipy.sparse as sp\n",
    "from sklearn.base import BaseEstimator, TransformerMixin\n",
    "from sklearn.utils.validation import check_is_fitted\n",
    "from sklearn.feature_extraction.text import _document_frequency\n",
    "#source: https://github.com/arosh/BM25Transformer\n",
    "class BM25Transformer(BaseEstimator, TransformerMixin):\n",
    "    \"\"\"\n",
    "    Parameters\n",
    "    ----------\n",
    "    use_idf : boolean, optional (default=True)\n",
    "    k1 : float, optional (default=2.0)\n",
    "    b : float, optional (default=0.75)\n",
    "    References\n",
    "    ----------\n",
    "    Okapi BM25: a non-binary model - Introduction to Information Retrieval\n",
    "    http://nlp.stanford.edu/IR-book/html/htmledition/okapi-bm25-a-non-binary-model-1.html\n",
    "    \"\"\"\n",
    "    def __init__(self, use_idf=True, k1=2.0, b=0.75):\n",
    "        self.use_idf = use_idf\n",
    "        self.k1 = k1\n",
    "        self.b = b\n",
    "\n",
    "    def fit(self, X):\n",
    "        \"\"\"\n",
    "        Parameters\n",
    "        ----------\n",
    "        X : sparse matrix, [n_samples, n_features]\n",
    "            document-term matrix\n",
    "        \"\"\"\n",
    "        if not sp.issparse(X):\n",
    "            X = sp.csc_matrix(X)\n",
    "        if self.use_idf:\n",
    "            n_samples, n_features = X.shape\n",
    "            df = _document_frequency(X)\n",
    "            idf =   np.log((n_samples - df + 0.5) / (df + 0.5))\n",
    "            self._idf_diag = sp.spdiags(idf, diags=0, m=n_features, n=n_features)\n",
    "        return self\n",
    "\n",
    "    def transform(self, X, copy=True):\n",
    "        \"\"\"\n",
    "        Parameters\n",
    "        ----------\n",
    "        X : sparse matrix, [n_samples, n_features]\n",
    "            document-term matrix\n",
    "        copy : boolean, optional (default=True)\n",
    "        \"\"\"\n",
    "        if hasattr(X, 'dtype') and np.issubdtype(X.dtype, np.float):\n",
    "            # preserve float family dtype\n",
    "            X = sp.csr_matrix(X, copy=copy)\n",
    "        else:\n",
    "            # convert counts or binary occurrences to floats\n",
    "            X = sp.csr_matrix(X, dtype=np.float64, copy=copy)\n",
    "\n",
    "        n_samples, n_features = X.shape\n",
    "\n",
    "        # Document length (number of terms) in each row\n",
    "        # Shape is (n_samples, 1)\n",
    "        dl = X.sum(axis=1)\n",
    "        # Number of non-zero elements in each row\n",
    "        # Shape is (n_samples, )\n",
    "        sz = X.indptr[1:] - X.indptr[0:-1]\n",
    "        # In each row, repeat `dl` for `sz` times\n",
    "        # Shape is (sum(sz), )\n",
    "        # Example\n",
    "        # -------\n",
    "        # dl = [4, 5, 6]\n",
    "        # sz = [1, 2, 3]\n",
    "        # rep = [4, 5, 5, 6, 6, 6]\n",
    "        rep = np.repeat(np.asarray(dl), sz)\n",
    "        # Average document length\n",
    "        # Scalar value\n",
    "        avgdl = np.average(dl)\n",
    "        # Compute BM25 score only for non-zero elements\n",
    "        data = X.data * (self.k1 + 1) / (X.data + self.k1 * (1 - self.b + self.b * rep / avgdl))\n",
    "        data[data < 0] = 0\n",
    "        X = sp.csr_matrix((data, X.indices, X.indptr), shape=X.shape)\n",
    "\n",
    "        if self.use_idf:\n",
    "            check_is_fitted(self, '_idf_diag', 'idf vector is not fitted')\n",
    "\n",
    "            expected_n_features = self._idf_diag.shape[0]\n",
    "            if n_features != expected_n_features:\n",
    "                raise ValueError(\"Input has n_features=%d while the model\"\n",
    "                                 \" has been trained with n_features=%d\" % (\n",
    "                                     n_features, expected_n_features))\n",
    "            # *= doesn't work\n",
    "            X = X * self._idf_diag\n",
    "\n",
    "        return X"
   ]
  },
  {
   "cell_type": "code",
   "execution_count": 15,
   "metadata": {
    "id": "QCgnloYUn9gV"
   },
   "outputs": [],
   "source": [
    "from tqdm.notebook import tqdm\n",
    "from sklearn.feature_extraction.text import CountVectorizer\n",
    "\n",
    "class gen_title():\n",
    "    def __iter__(self):\n",
    "        for title in tqdm(titles):\n",
    "            words = []\n",
    "            for w in str(title).split():\n",
    "                words.append(w.rstrip('\\n'))\n",
    "            yield words\n",
    "\n",
    "vectorizer_h = CountVectorizer(tokenizer=lambda d: d, lowercase=False)\n",
    "\n",
    "# sp_h ~= sparse header\n",
    "sp_h = vectorizer_h.fit_transform(gen_title())\n",
    "\n",
    "trans = BM25Transformer()\n",
    "# sp_h_t ~= sparse header transformed\n",
    "sp_h_t = trans.fit_transform(sp_h)"
   ]
  },
  {
   "cell_type": "code",
   "execution_count": 16,
   "metadata": {
    "id": "0BehFxdlr5q-"
   },
   "outputs": [],
   "source": [
    "##texts\n",
    "from tqdm import notebook\n",
    "\n",
    "file_prefix = './docs/'\n",
    "lemmatized_docs_filenames = sorted(os.listdir(file_prefix))\n",
    "class gen_text():\n",
    "    def __iter__(self):\n",
    "        for docname in notebook.tqdm(lemmatized_docs_filenames):\n",
    "            words = []\n",
    "            with open(file_prefix + docname) as f:\n",
    "                for w in str(f.read()).split():\n",
    "                    words.append(w.rstrip('\\n'))\n",
    "                yield words"
   ]
  },
  {
   "cell_type": "code",
   "execution_count": 17,
   "metadata": {
    "id": "V3YfCYVcsB-z"
   },
   "outputs": [],
   "source": [
    "##texts\n",
    "from sklearn.feature_extraction.text import CountVectorizer\n",
    "\n",
    "vectorizer_b = CountVectorizer(tokenizer=lambda doc: doc, lowercase=False)\n",
    "\n",
    "# sp_b ~= sparse body\n",
    "sp_b = vectorizer_b.fit_transform(gen_text())\n",
    "\n",
    "trans = BM25Transformer()\n",
    "# sp_b_t ~= sparse body transformed\n",
    "sp_b_t = trans.fit_transform(vectorizer_b)"
   ]
  },
  {
   "cell_type": "code",
   "execution_count": 18,
   "metadata": {
    "colab": {
     "base_uri": "https://localhost:8080/"
    },
    "executionInfo": {
     "elapsed": 615,
     "status": "ok",
     "timestamp": 1614045795181,
     "user": {
      "displayName": "D H",
      "photoUrl": "",
      "userId": "13264644035740762546"
     },
     "user_tz": -180
    },
    "id": "4XBZNFhdn_ze",
    "outputId": "a4323897-d923-496e-95b9-e95561c41294"
   },
   "outputs": [],
   "source": [
    "sp_h_t, sp_b_t"
   ]
  },
  {
   "cell_type": "code",
   "execution_count": 19,
   "metadata": {
    "id": "aNObQn_ssvnu"
   },
   "outputs": [],
   "source": [
    "term_to_idx_h = vectorizer_h.vocabulary_"
   ]
  },
  {
   "cell_type": "code",
   "execution_count": 20,
   "metadata": {
    "id": "h3V1x3JJqjdg"
   },
   "outputs": [],
   "source": [
    "marks_path = './ranking-long-tail-queries-fall-2020/train.marks.tsv/train.marks.tsv'\n",
    "marks_df = pd.read_csv(marks_path, '\\t', header=None)\n",
    "\n",
    "tr_gr = dict()\n",
    "for q_id, doc_id, _ in marks_df.values:\n",
    "    if q_id not in tr_gr:\n",
    "        tr_gr[q_id] = [doc_id]\n",
    "    else:\n",
    "        tr_gr[q_id].append(doc_id)\n",
    "tr_q = queries[np.array(list(tr_gr.keys())), :]"
   ]
  },
  {
   "cell_type": "code",
   "execution_count": 21,
   "metadata": {
    "executionInfo": {
     "elapsed": 7583,
     "status": "ok",
     "timestamp": 1614090457224,
     "user": {
      "displayName": "D H",
      "photoUrl": "",
      "userId": "13264644035740762546"
     },
     "user_tz": -180
    },
    "id": "O9ghZPtKoGzh"
   },
   "outputs": [],
   "source": [
    "sample_path = './ranking-long-tail-queries-fall-2020/sample.csv/sample.csv'\n",
    "sample_subm = pd.read_csv(sample_path)\n",
    "\n",
    "tt_gr = dict()\n",
    "for q_id, doc_id in sample_subm.values:\n",
    "    if q_id not in tt_gr:\n",
    "        tt_gr[q_id] = [doc_id]\n",
    "    else:\n",
    "        tt_gr[q_id].append(doc_id)\n",
    "tt_q = queries[np.array(list(tt_gr.keys())), :]"
   ]
  },
  {
   "cell_type": "code",
   "execution_count": 22,
   "metadata": {},
   "outputs": [],
   "source": [
    "DocsId = []\n",
    "QueryId = []\n",
    "\n",
    "bm25title_scores = []\n",
    "bm25text_scores = []\n",
    "\n",
    "for q_id, query in notebook.tqdm(tr_q):\n",
    "    q_split = str(query).split()\n",
    "\n",
    "    idx = []\n",
    "    for q_tok in q_split:\n",
    "        if q_tok in term_to_idx_h:\n",
    "            idx.append(term_to_idx_h[q_tok])\n",
    "    idx = sorted(idx)\n",
    "    scores_h = sp_h_t[:, idx].toarray().sum(axis=1)\n",
    "    \n",
    "    idx = []\n",
    "    for q_tok in q_split:\n",
    "        if q_tok in term_to_idx_b:\n",
    "            idx.append(term_to_idx_b[q_tok])\n",
    "    idx = sorted(idx)\n",
    "    scores_b = sp_b_t[:, idx].toarray().sum(axis=1)\n",
    "    \n",
    "    scores_b = scores_h\n",
    "    for doc_id, title_score, text_score in zip(tr_gr[q_id],\n",
    "                                               scores_h,\n",
    "                                               scores_b):\n",
    "        QueryId.append(q_id)\n",
    "        DocsId.append(doc_id)\n",
    "        bm25title_scores.append(title_score)\n",
    "        bm25text_scores.append(text_score)"
   ]
  },
  {
   "cell_type": "code",
   "execution_count": 23,
   "metadata": {
    "id": "7CaNZbyboRRb"
   },
   "outputs": [],
   "source": [
    "train_df = pd.DataFrame({\n",
    "    'QueryId' : QueryId,\n",
    "    'DocumentId': DocsId,\n",
    "    'bm25titles': bm25title_scores,\n",
    "    'bm25first4000words': bm25text_scores\n",
    "})"
   ]
  },
  {
   "cell_type": "code",
   "execution_count": 24,
   "metadata": {
    "id": "0XPIHDG3q6hz"
   },
   "outputs": [],
   "source": [
    "DocsId = []\n",
    "QueryId = []\n",
    "\n",
    "bm25title_scores = []\n",
    "bm25text_scores = []\n",
    "\n",
    "for q_id, query in notebook.tqdm(tt_q):\n",
    "    q_split = str(query).split()\n",
    "    \n",
    "    idx = []\n",
    "    for q_tok in q_split:\n",
    "        if q_tok in term_to_idx_h:\n",
    "            idx.append(term_to_idx_h[q_tok])\n",
    "    idx = sorted(idx)\n",
    "    scores_h = sp_h_t[:, idx].toarray().sum(axis=1)\n",
    "    \n",
    "    idx = []\n",
    "    for q_tok in q_split:\n",
    "        if q_tok in term_to_idx_b:\n",
    "            idx.append(term_to_idx_b[q_tok])\n",
    "    idx = sorted(idx)\n",
    "    scores_b = sp_b_t[:, idx].toarray().sum(axis=1)\n",
    "    \n",
    "    scores_b = scores_h\n",
    "    for doc_id, title_score, text_score in zip(tt_gr[q_id],\n",
    "                                               scores_h,\n",
    "                                               scores_b):\n",
    "        QueryId.append(q_id)\n",
    "        DocsId.append(doc_id)\n",
    "        bm25title_scores.append(title_score)\n",
    "        bm25text_scores.append(text_score)"
   ]
  },
  {
   "cell_type": "code",
   "execution_count": 25,
   "metadata": {
    "id": "o97Ml1XDq_HX"
   },
   "outputs": [],
   "source": [
    "test_df = pd.DataFrame({\n",
    "    'QueryId' : QueryId,\n",
    "    'DocumentId' : DocsId,\n",
    "    'bm25titles': bm25title_scores,\n",
    "    'bm25first4000words': bm25text_scores\n",
    "})"
   ]
  },
  {
   "cell_type": "markdown",
   "metadata": {
    "id": "iVTi1ptDrMHf"
   },
   "source": [
    "### universal sentence encoder large по заголовкам"
   ]
  },
  {
   "cell_type": "code",
   "execution_count": 26,
   "metadata": {
    "id": "nidQO_1vyQAN"
   },
   "outputs": [],
   "source": [
    "embed = hub.KerasLayer(\"https://tfhub.dev/google/universal-sentence-encoder-multilingual-large/3\")"
   ]
  },
  {
   "cell_type": "code",
   "execution_count": 27,
   "metadata": {
    "colab": {
     "base_uri": "https://localhost:8080/",
     "height": 436,
     "referenced_widgets": [
      "54e45ddb6def4df4a9c2c73b1ac2774f",
      "df0729df3664498ea38b0a65d0d93bae",
      "3b89f241ad464a0aaf73f6ae1fb371f2",
      "c3bd90835a1b4e518a1055b505d396af",
      "38a9a841df314ee190fa3928b353b23f",
      "df86cfd82a174cee946f9e4913568bf7",
      "10659ead1d97488caa2209aa28deafb3",
      "0fd3da43fb854581bf9c0d99b0e0c3e3"
     ]
    },
    "executionInfo": {
     "elapsed": 6499,
     "status": "error",
     "timestamp": 1614048569338,
     "user": {
      "displayName": "D H",
      "photoUrl": "",
      "userId": "13264644035740762546"
     },
     "user_tz": -180
    },
    "id": "sVk_I4uTySMD",
    "outputId": "c17188c2-96f8-42bc-9594-7f609b6fc348"
   },
   "outputs": [],
   "source": [
    "titles_embds = []\n",
    "for i in notebook.tqdm(range(len(titles))):\n",
    "    current_emb = embed(str(titles[i]))\n",
    "    titles_embds.append(current_emb)"
   ]
  },
  {
   "cell_type": "code",
   "execution_count": 28,
   "metadata": {},
   "outputs": [],
   "source": [
    "query_embds = []\n",
    "for i in notebook.tqdm(range(len(queries))):\n",
    "    current_emb = embed(str(queries[i]))\n",
    "    query_embds.append(current_emb)"
   ]
  },
  {
   "cell_type": "code",
   "execution_count": 29,
   "metadata": {},
   "outputs": [],
   "source": [
    "tr_use_large = []\n",
    "for q_id, query in notebook.tqdm(tr_q):\n",
    "    for i in tr_gr[q_id]:\n",
    "        current = cosine(query_embds[q_id].reshape(1, 1024), \n",
    "                         titles_embds[i].reshape(1, 1024))\n",
    "        tr_use_large.append(current[0][0])\n",
    "\n",
    "tt_use_large = []\n",
    "for q_id, query in notebook.tqdm(tt_q):\n",
    "    for i in tt_gr[q_id]:\n",
    "        current = cosine(query_embds[q_id].reshape(1, 1024),\n",
    "                         titles_embds[i].reshape(1, 1024))\n",
    "        tt_use_large.append(current[0][0])"
   ]
  },
  {
   "cell_type": "code",
   "execution_count": 30,
   "metadata": {
    "id": "6eVSuCkDyg3D"
   },
   "outputs": [],
   "source": [
    "train_df['use_large'] = tr_use_large\n",
    "test_df['use_large'] = tt_use_large\n",
    "train_df.to_csv('tr_python_features', index=None)\n",
    "test_df.to_csv('tt_python_features', index=None)"
   ]
  }
 ],
 "metadata": {
  "colab": {
   "authorship_tag": "ABX9TyMR008QiayZV52UdQrfJ8eC",
   "collapsed_sections": [],
   "mount_file_id": "1uSqyKZZz0WEwRuK9aJojGWr9kf2mtg_C",
   "name": "NotebookVDM.ipynb",
   "provenance": [],
   "toc_visible": true
  },
  "kernelspec": {
   "display_name": "Python 3",
   "language": "python",
   "name": "python3"
  },
  "language_info": {
   "codemirror_mode": {
    "name": "ipython",
    "version": 3
   },
   "file_extension": ".py",
   "mimetype": "text/x-python",
   "name": "python",
   "nbconvert_exporter": "python",
   "pygments_lexer": "ipython3",
   "version": "3.8.3"
  },
  "widgets": {
   "application/vnd.jupyter.widget-state+json": {
    "063f3cb9b2d345a7adca4543d855e4b5": {
     "model_module": "@jupyter-widgets/controls",
     "model_name": "DescriptionStyleModel",
     "state": {
      "_model_module": "@jupyter-widgets/controls",
      "_model_module_version": "1.5.0",
      "_model_name": "DescriptionStyleModel",
      "_view_count": null,
      "_view_module": "@jupyter-widgets/base",
      "_view_module_version": "1.2.0",
      "_view_name": "StyleView",
      "description_width": ""
     }
    },
    "08bdddfad5a44ed0b1a732c69f19fd5a": {
     "model_module": "@jupyter-widgets/controls",
     "model_name": "DescriptionStyleModel",
     "state": {
      "_model_module": "@jupyter-widgets/controls",
      "_model_module_version": "1.5.0",
      "_model_name": "DescriptionStyleModel",
      "_view_count": null,
      "_view_module": "@jupyter-widgets/base",
      "_view_module_version": "1.2.0",
      "_view_name": "StyleView",
      "description_width": ""
     }
    },
    "0fd3da43fb854581bf9c0d99b0e0c3e3": {
     "model_module": "@jupyter-widgets/base",
     "model_name": "LayoutModel",
     "state": {
      "_model_module": "@jupyter-widgets/base",
      "_model_module_version": "1.2.0",
      "_model_name": "LayoutModel",
      "_view_count": null,
      "_view_module": "@jupyter-widgets/base",
      "_view_module_version": "1.2.0",
      "_view_name": "LayoutView",
      "align_content": null,
      "align_items": null,
      "align_self": null,
      "border": null,
      "bottom": null,
      "display": null,
      "flex": null,
      "flex_flow": null,
      "grid_area": null,
      "grid_auto_columns": null,
      "grid_auto_flow": null,
      "grid_auto_rows": null,
      "grid_column": null,
      "grid_gap": null,
      "grid_row": null,
      "grid_template_areas": null,
      "grid_template_columns": null,
      "grid_template_rows": null,
      "height": null,
      "justify_content": null,
      "justify_items": null,
      "left": null,
      "margin": null,
      "max_height": null,
      "max_width": null,
      "min_height": null,
      "min_width": null,
      "object_fit": null,
      "object_position": null,
      "order": null,
      "overflow": null,
      "overflow_x": null,
      "overflow_y": null,
      "padding": null,
      "right": null,
      "top": null,
      "visibility": null,
      "width": null
     }
    },
    "10659ead1d97488caa2209aa28deafb3": {
     "model_module": "@jupyter-widgets/controls",
     "model_name": "DescriptionStyleModel",
     "state": {
      "_model_module": "@jupyter-widgets/controls",
      "_model_module_version": "1.5.0",
      "_model_name": "DescriptionStyleModel",
      "_view_count": null,
      "_view_module": "@jupyter-widgets/base",
      "_view_module_version": "1.2.0",
      "_view_name": "StyleView",
      "description_width": ""
     }
    },
    "1ca895fe0f344b7ca0e1ce5a45725aca": {
     "model_module": "@jupyter-widgets/base",
     "model_name": "LayoutModel",
     "state": {
      "_model_module": "@jupyter-widgets/base",
      "_model_module_version": "1.2.0",
      "_model_name": "LayoutModel",
      "_view_count": null,
      "_view_module": "@jupyter-widgets/base",
      "_view_module_version": "1.2.0",
      "_view_name": "LayoutView",
      "align_content": null,
      "align_items": null,
      "align_self": null,
      "border": null,
      "bottom": null,
      "display": null,
      "flex": null,
      "flex_flow": null,
      "grid_area": null,
      "grid_auto_columns": null,
      "grid_auto_flow": null,
      "grid_auto_rows": null,
      "grid_column": null,
      "grid_gap": null,
      "grid_row": null,
      "grid_template_areas": null,
      "grid_template_columns": null,
      "grid_template_rows": null,
      "height": null,
      "justify_content": null,
      "justify_items": null,
      "left": null,
      "margin": null,
      "max_height": null,
      "max_width": null,
      "min_height": null,
      "min_width": null,
      "object_fit": null,
      "object_position": null,
      "order": null,
      "overflow": null,
      "overflow_x": null,
      "overflow_y": null,
      "padding": null,
      "right": null,
      "top": null,
      "visibility": null,
      "width": null
     }
    },
    "29b4401201bd4870bd2ffb47f522fa0c": {
     "model_module": "@jupyter-widgets/base",
     "model_name": "LayoutModel",
     "state": {
      "_model_module": "@jupyter-widgets/base",
      "_model_module_version": "1.2.0",
      "_model_name": "LayoutModel",
      "_view_count": null,
      "_view_module": "@jupyter-widgets/base",
      "_view_module_version": "1.2.0",
      "_view_name": "LayoutView",
      "align_content": null,
      "align_items": null,
      "align_self": null,
      "border": null,
      "bottom": null,
      "display": null,
      "flex": null,
      "flex_flow": null,
      "grid_area": null,
      "grid_auto_columns": null,
      "grid_auto_flow": null,
      "grid_auto_rows": null,
      "grid_column": null,
      "grid_gap": null,
      "grid_row": null,
      "grid_template_areas": null,
      "grid_template_columns": null,
      "grid_template_rows": null,
      "height": null,
      "justify_content": null,
      "justify_items": null,
      "left": null,
      "margin": null,
      "max_height": null,
      "max_width": null,
      "min_height": null,
      "min_width": null,
      "object_fit": null,
      "object_position": null,
      "order": null,
      "overflow": null,
      "overflow_x": null,
      "overflow_y": null,
      "padding": null,
      "right": null,
      "top": null,
      "visibility": null,
      "width": null
     }
    },
    "2d47cb1f56ab473188edd3f010fcddce": {
     "model_module": "@jupyter-widgets/base",
     "model_name": "LayoutModel",
     "state": {
      "_model_module": "@jupyter-widgets/base",
      "_model_module_version": "1.2.0",
      "_model_name": "LayoutModel",
      "_view_count": null,
      "_view_module": "@jupyter-widgets/base",
      "_view_module_version": "1.2.0",
      "_view_name": "LayoutView",
      "align_content": null,
      "align_items": null,
      "align_self": null,
      "border": null,
      "bottom": null,
      "display": null,
      "flex": null,
      "flex_flow": null,
      "grid_area": null,
      "grid_auto_columns": null,
      "grid_auto_flow": null,
      "grid_auto_rows": null,
      "grid_column": null,
      "grid_gap": null,
      "grid_row": null,
      "grid_template_areas": null,
      "grid_template_columns": null,
      "grid_template_rows": null,
      "height": null,
      "justify_content": null,
      "justify_items": null,
      "left": null,
      "margin": null,
      "max_height": null,
      "max_width": null,
      "min_height": null,
      "min_width": null,
      "object_fit": null,
      "object_position": null,
      "order": null,
      "overflow": null,
      "overflow_x": null,
      "overflow_y": null,
      "padding": null,
      "right": null,
      "top": null,
      "visibility": null,
      "width": null
     }
    },
    "37735863ec364ff0a66820565ee466ab": {
     "model_module": "@jupyter-widgets/controls",
     "model_name": "FloatProgressModel",
     "state": {
      "_dom_classes": [],
      "_model_module": "@jupyter-widgets/controls",
      "_model_module_version": "1.5.0",
      "_model_name": "FloatProgressModel",
      "_view_count": null,
      "_view_module": "@jupyter-widgets/controls",
      "_view_module_version": "1.5.0",
      "_view_name": "ProgressView",
      "bar_style": "danger",
      "description": " 23%",
      "description_tooltip": null,
      "layout": "IPY_MODEL_ab967258ff6a4127b84403f9ca012f8d",
      "max": 582167,
      "min": 0,
      "orientation": "horizontal",
      "style": "IPY_MODEL_796f20ffcb46405387ba832cba64e102",
      "value": 136685
     }
    },
    "38a9a841df314ee190fa3928b353b23f": {
     "model_module": "@jupyter-widgets/controls",
     "model_name": "ProgressStyleModel",
     "state": {
      "_model_module": "@jupyter-widgets/controls",
      "_model_module_version": "1.5.0",
      "_model_name": "ProgressStyleModel",
      "_view_count": null,
      "_view_module": "@jupyter-widgets/base",
      "_view_module_version": "1.2.0",
      "_view_name": "StyleView",
      "bar_color": null,
      "description_width": "initial"
     }
    },
    "3b89f241ad464a0aaf73f6ae1fb371f2": {
     "model_module": "@jupyter-widgets/controls",
     "model_name": "FloatProgressModel",
     "state": {
      "_dom_classes": [],
      "_model_module": "@jupyter-widgets/controls",
      "_model_module_version": "1.5.0",
      "_model_name": "FloatProgressModel",
      "_view_count": null,
      "_view_module": "@jupyter-widgets/controls",
      "_view_module_version": "1.5.0",
      "_view_name": "ProgressView",
      "bar_style": "danger",
      "description": "  0%",
      "description_tooltip": null,
      "layout": "IPY_MODEL_df86cfd82a174cee946f9e4913568bf7",
      "max": 582167,
      "min": 0,
      "orientation": "horizontal",
      "style": "IPY_MODEL_38a9a841df314ee190fa3928b353b23f",
      "value": 45
     }
    },
    "423c554bf50648c084e5809c55f84da1": {
     "model_module": "@jupyter-widgets/base",
     "model_name": "LayoutModel",
     "state": {
      "_model_module": "@jupyter-widgets/base",
      "_model_module_version": "1.2.0",
      "_model_name": "LayoutModel",
      "_view_count": null,
      "_view_module": "@jupyter-widgets/base",
      "_view_module_version": "1.2.0",
      "_view_name": "LayoutView",
      "align_content": null,
      "align_items": null,
      "align_self": null,
      "border": null,
      "bottom": null,
      "display": null,
      "flex": null,
      "flex_flow": null,
      "grid_area": null,
      "grid_auto_columns": null,
      "grid_auto_flow": null,
      "grid_auto_rows": null,
      "grid_column": null,
      "grid_gap": null,
      "grid_row": null,
      "grid_template_areas": null,
      "grid_template_columns": null,
      "grid_template_rows": null,
      "height": null,
      "justify_content": null,
      "justify_items": null,
      "left": null,
      "margin": null,
      "max_height": null,
      "max_width": null,
      "min_height": null,
      "min_width": null,
      "object_fit": null,
      "object_position": null,
      "order": null,
      "overflow": null,
      "overflow_x": null,
      "overflow_y": null,
      "padding": null,
      "right": null,
      "top": null,
      "visibility": null,
      "width": null
     }
    },
    "4bfdfbd78c4448fb88d936be566ec5a9": {
     "model_module": "@jupyter-widgets/base",
     "model_name": "LayoutModel",
     "state": {
      "_model_module": "@jupyter-widgets/base",
      "_model_module_version": "1.2.0",
      "_model_name": "LayoutModel",
      "_view_count": null,
      "_view_module": "@jupyter-widgets/base",
      "_view_module_version": "1.2.0",
      "_view_name": "LayoutView",
      "align_content": null,
      "align_items": null,
      "align_self": null,
      "border": null,
      "bottom": null,
      "display": null,
      "flex": null,
      "flex_flow": null,
      "grid_area": null,
      "grid_auto_columns": null,
      "grid_auto_flow": null,
      "grid_auto_rows": null,
      "grid_column": null,
      "grid_gap": null,
      "grid_row": null,
      "grid_template_areas": null,
      "grid_template_columns": null,
      "grid_template_rows": null,
      "height": null,
      "justify_content": null,
      "justify_items": null,
      "left": null,
      "margin": null,
      "max_height": null,
      "max_width": null,
      "min_height": null,
      "min_width": null,
      "object_fit": null,
      "object_position": null,
      "order": null,
      "overflow": null,
      "overflow_x": null,
      "overflow_y": null,
      "padding": null,
      "right": null,
      "top": null,
      "visibility": null,
      "width": null
     }
    },
    "54e45ddb6def4df4a9c2c73b1ac2774f": {
     "model_module": "@jupyter-widgets/controls",
     "model_name": "HBoxModel",
     "state": {
      "_dom_classes": [],
      "_model_module": "@jupyter-widgets/controls",
      "_model_module_version": "1.5.0",
      "_model_name": "HBoxModel",
      "_view_count": null,
      "_view_module": "@jupyter-widgets/controls",
      "_view_module_version": "1.5.0",
      "_view_name": "HBoxView",
      "box_style": "",
      "children": [
       "IPY_MODEL_3b89f241ad464a0aaf73f6ae1fb371f2",
       "IPY_MODEL_c3bd90835a1b4e518a1055b505d396af"
      ],
      "layout": "IPY_MODEL_df0729df3664498ea38b0a65d0d93bae"
     }
    },
    "69412349cf564dbfb875419aa29a4d7c": {
     "model_module": "@jupyter-widgets/controls",
     "model_name": "HTMLModel",
     "state": {
      "_dom_classes": [],
      "_model_module": "@jupyter-widgets/controls",
      "_model_module_version": "1.5.0",
      "_model_name": "HTMLModel",
      "_view_count": null,
      "_view_module": "@jupyter-widgets/controls",
      "_view_module_version": "1.5.0",
      "_view_name": "HTMLView",
      "description": "",
      "description_tooltip": null,
      "layout": "IPY_MODEL_2d47cb1f56ab473188edd3f010fcddce",
      "placeholder": "​",
      "style": "IPY_MODEL_08bdddfad5a44ed0b1a732c69f19fd5a",
      "value": " 582167/582167 [00:06&lt;00:00, 84225.70it/s]"
     }
    },
    "69d98c7199f8402b8a9efaf42f5ebb60": {
     "model_module": "@jupyter-widgets/controls",
     "model_name": "FloatProgressModel",
     "state": {
      "_dom_classes": [],
      "_model_module": "@jupyter-widgets/controls",
      "_model_module_version": "1.5.0",
      "_model_name": "FloatProgressModel",
      "_view_count": null,
      "_view_module": "@jupyter-widgets/controls",
      "_view_module_version": "1.5.0",
      "_view_name": "ProgressView",
      "bar_style": "success",
      "description": "100%",
      "description_tooltip": null,
      "layout": "IPY_MODEL_fdce716d1dcd4ae88fecba754d21483c",
      "max": 582167,
      "min": 0,
      "orientation": "horizontal",
      "style": "IPY_MODEL_ad1aabd44db1467f849f06caed5d7671",
      "value": 582167
     }
    },
    "760152281451455097c3aca738512b83": {
     "model_module": "@jupyter-widgets/controls",
     "model_name": "FloatProgressModel",
     "state": {
      "_dom_classes": [],
      "_model_module": "@jupyter-widgets/controls",
      "_model_module_version": "1.5.0",
      "_model_name": "FloatProgressModel",
      "_view_count": null,
      "_view_module": "@jupyter-widgets/controls",
      "_view_module_version": "1.5.0",
      "_view_name": "ProgressView",
      "bar_style": "danger",
      "description": "  0%",
      "description_tooltip": null,
      "layout": "IPY_MODEL_9a5e8da8344941e89817ed1ea5d187dc",
      "max": 6311,
      "min": 0,
      "orientation": "horizontal",
      "style": "IPY_MODEL_cd507042f0c74951b16ca7173fd62806",
      "value": 4
     }
    },
    "77fcc48afc7b4ac990b280554d210ce6": {
     "model_module": "@jupyter-widgets/base",
     "model_name": "LayoutModel",
     "state": {
      "_model_module": "@jupyter-widgets/base",
      "_model_module_version": "1.2.0",
      "_model_name": "LayoutModel",
      "_view_count": null,
      "_view_module": "@jupyter-widgets/base",
      "_view_module_version": "1.2.0",
      "_view_name": "LayoutView",
      "align_content": null,
      "align_items": null,
      "align_self": null,
      "border": null,
      "bottom": null,
      "display": null,
      "flex": null,
      "flex_flow": null,
      "grid_area": null,
      "grid_auto_columns": null,
      "grid_auto_flow": null,
      "grid_auto_rows": null,
      "grid_column": null,
      "grid_gap": null,
      "grid_row": null,
      "grid_template_areas": null,
      "grid_template_columns": null,
      "grid_template_rows": null,
      "height": null,
      "justify_content": null,
      "justify_items": null,
      "left": null,
      "margin": null,
      "max_height": null,
      "max_width": null,
      "min_height": null,
      "min_width": null,
      "object_fit": null,
      "object_position": null,
      "order": null,
      "overflow": null,
      "overflow_x": null,
      "overflow_y": null,
      "padding": null,
      "right": null,
      "top": null,
      "visibility": null,
      "width": null
     }
    },
    "796f20ffcb46405387ba832cba64e102": {
     "model_module": "@jupyter-widgets/controls",
     "model_name": "ProgressStyleModel",
     "state": {
      "_model_module": "@jupyter-widgets/controls",
      "_model_module_version": "1.5.0",
      "_model_name": "ProgressStyleModel",
      "_view_count": null,
      "_view_module": "@jupyter-widgets/base",
      "_view_module_version": "1.2.0",
      "_view_name": "StyleView",
      "bar_color": null,
      "description_width": "initial"
     }
    },
    "8197bb7277c74912ab6b7aae69020ab4": {
     "model_module": "@jupyter-widgets/controls",
     "model_name": "HBoxModel",
     "state": {
      "_dom_classes": [],
      "_model_module": "@jupyter-widgets/controls",
      "_model_module_version": "1.5.0",
      "_model_name": "HBoxModel",
      "_view_count": null,
      "_view_module": "@jupyter-widgets/controls",
      "_view_module_version": "1.5.0",
      "_view_name": "HBoxView",
      "box_style": "",
      "children": [
       "IPY_MODEL_37735863ec364ff0a66820565ee466ab",
       "IPY_MODEL_8cd3555bcc5a409dba5d4a7539814d5c"
      ],
      "layout": "IPY_MODEL_1ca895fe0f344b7ca0e1ce5a45725aca"
     }
    },
    "8cd3555bcc5a409dba5d4a7539814d5c": {
     "model_module": "@jupyter-widgets/controls",
     "model_name": "HTMLModel",
     "state": {
      "_dom_classes": [],
      "_model_module": "@jupyter-widgets/controls",
      "_model_module_version": "1.5.0",
      "_model_name": "HTMLModel",
      "_view_count": null,
      "_view_module": "@jupyter-widgets/controls",
      "_view_module_version": "1.5.0",
      "_view_name": "HTMLView",
      "description": "",
      "description_tooltip": null,
      "layout": "IPY_MODEL_423c554bf50648c084e5809c55f84da1",
      "placeholder": "​",
      "style": "IPY_MODEL_bc0272c950b94b9da2b204546bf2f3a9",
      "value": " 136685/582167 [02:40&lt;06:44, 1102.34it/s]"
     }
    },
    "8d37f7c485984b3e9ef9718cdbe87e41": {
     "model_module": "@jupyter-widgets/controls",
     "model_name": "HBoxModel",
     "state": {
      "_dom_classes": [],
      "_model_module": "@jupyter-widgets/controls",
      "_model_module_version": "1.5.0",
      "_model_name": "HBoxModel",
      "_view_count": null,
      "_view_module": "@jupyter-widgets/controls",
      "_view_module_version": "1.5.0",
      "_view_name": "HBoxView",
      "box_style": "",
      "children": [
       "IPY_MODEL_760152281451455097c3aca738512b83",
       "IPY_MODEL_f64a04ff33004a3080c40a550e192415"
      ],
      "layout": "IPY_MODEL_4bfdfbd78c4448fb88d936be566ec5a9"
     }
    },
    "8e7d86f3cf83438094da674b6f80ef55": {
     "model_module": "@jupyter-widgets/controls",
     "model_name": "HBoxModel",
     "state": {
      "_dom_classes": [],
      "_model_module": "@jupyter-widgets/controls",
      "_model_module_version": "1.5.0",
      "_model_name": "HBoxModel",
      "_view_count": null,
      "_view_module": "@jupyter-widgets/controls",
      "_view_module_version": "1.5.0",
      "_view_name": "HBoxView",
      "box_style": "",
      "children": [
       "IPY_MODEL_69d98c7199f8402b8a9efaf42f5ebb60",
       "IPY_MODEL_69412349cf564dbfb875419aa29a4d7c"
      ],
      "layout": "IPY_MODEL_77fcc48afc7b4ac990b280554d210ce6"
     }
    },
    "9a5e8da8344941e89817ed1ea5d187dc": {
     "model_module": "@jupyter-widgets/base",
     "model_name": "LayoutModel",
     "state": {
      "_model_module": "@jupyter-widgets/base",
      "_model_module_version": "1.2.0",
      "_model_name": "LayoutModel",
      "_view_count": null,
      "_view_module": "@jupyter-widgets/base",
      "_view_module_version": "1.2.0",
      "_view_name": "LayoutView",
      "align_content": null,
      "align_items": null,
      "align_self": null,
      "border": null,
      "bottom": null,
      "display": null,
      "flex": null,
      "flex_flow": null,
      "grid_area": null,
      "grid_auto_columns": null,
      "grid_auto_flow": null,
      "grid_auto_rows": null,
      "grid_column": null,
      "grid_gap": null,
      "grid_row": null,
      "grid_template_areas": null,
      "grid_template_columns": null,
      "grid_template_rows": null,
      "height": null,
      "justify_content": null,
      "justify_items": null,
      "left": null,
      "margin": null,
      "max_height": null,
      "max_width": null,
      "min_height": null,
      "min_width": null,
      "object_fit": null,
      "object_position": null,
      "order": null,
      "overflow": null,
      "overflow_x": null,
      "overflow_y": null,
      "padding": null,
      "right": null,
      "top": null,
      "visibility": null,
      "width": null
     }
    },
    "ab967258ff6a4127b84403f9ca012f8d": {
     "model_module": "@jupyter-widgets/base",
     "model_name": "LayoutModel",
     "state": {
      "_model_module": "@jupyter-widgets/base",
      "_model_module_version": "1.2.0",
      "_model_name": "LayoutModel",
      "_view_count": null,
      "_view_module": "@jupyter-widgets/base",
      "_view_module_version": "1.2.0",
      "_view_name": "LayoutView",
      "align_content": null,
      "align_items": null,
      "align_self": null,
      "border": null,
      "bottom": null,
      "display": null,
      "flex": null,
      "flex_flow": null,
      "grid_area": null,
      "grid_auto_columns": null,
      "grid_auto_flow": null,
      "grid_auto_rows": null,
      "grid_column": null,
      "grid_gap": null,
      "grid_row": null,
      "grid_template_areas": null,
      "grid_template_columns": null,
      "grid_template_rows": null,
      "height": null,
      "justify_content": null,
      "justify_items": null,
      "left": null,
      "margin": null,
      "max_height": null,
      "max_width": null,
      "min_height": null,
      "min_width": null,
      "object_fit": null,
      "object_position": null,
      "order": null,
      "overflow": null,
      "overflow_x": null,
      "overflow_y": null,
      "padding": null,
      "right": null,
      "top": null,
      "visibility": null,
      "width": null
     }
    },
    "ad1aabd44db1467f849f06caed5d7671": {
     "model_module": "@jupyter-widgets/controls",
     "model_name": "ProgressStyleModel",
     "state": {
      "_model_module": "@jupyter-widgets/controls",
      "_model_module_version": "1.5.0",
      "_model_name": "ProgressStyleModel",
      "_view_count": null,
      "_view_module": "@jupyter-widgets/base",
      "_view_module_version": "1.2.0",
      "_view_name": "StyleView",
      "bar_color": null,
      "description_width": "initial"
     }
    },
    "bc0272c950b94b9da2b204546bf2f3a9": {
     "model_module": "@jupyter-widgets/controls",
     "model_name": "DescriptionStyleModel",
     "state": {
      "_model_module": "@jupyter-widgets/controls",
      "_model_module_version": "1.5.0",
      "_model_name": "DescriptionStyleModel",
      "_view_count": null,
      "_view_module": "@jupyter-widgets/base",
      "_view_module_version": "1.2.0",
      "_view_name": "StyleView",
      "description_width": ""
     }
    },
    "c3bd90835a1b4e518a1055b505d396af": {
     "model_module": "@jupyter-widgets/controls",
     "model_name": "HTMLModel",
     "state": {
      "_dom_classes": [],
      "_model_module": "@jupyter-widgets/controls",
      "_model_module_version": "1.5.0",
      "_model_name": "HTMLModel",
      "_view_count": null,
      "_view_module": "@jupyter-widgets/controls",
      "_view_module_version": "1.5.0",
      "_view_name": "HTMLView",
      "description": "",
      "description_tooltip": null,
      "layout": "IPY_MODEL_0fd3da43fb854581bf9c0d99b0e0c3e3",
      "placeholder": "​",
      "style": "IPY_MODEL_10659ead1d97488caa2209aa28deafb3",
      "value": " 45/582167 [00:19&lt;12:41:55, 12.73it/s]"
     }
    },
    "cd507042f0c74951b16ca7173fd62806": {
     "model_module": "@jupyter-widgets/controls",
     "model_name": "ProgressStyleModel",
     "state": {
      "_model_module": "@jupyter-widgets/controls",
      "_model_module_version": "1.5.0",
      "_model_name": "ProgressStyleModel",
      "_view_count": null,
      "_view_module": "@jupyter-widgets/base",
      "_view_module_version": "1.2.0",
      "_view_name": "StyleView",
      "bar_color": null,
      "description_width": "initial"
     }
    },
    "df0729df3664498ea38b0a65d0d93bae": {
     "model_module": "@jupyter-widgets/base",
     "model_name": "LayoutModel",
     "state": {
      "_model_module": "@jupyter-widgets/base",
      "_model_module_version": "1.2.0",
      "_model_name": "LayoutModel",
      "_view_count": null,
      "_view_module": "@jupyter-widgets/base",
      "_view_module_version": "1.2.0",
      "_view_name": "LayoutView",
      "align_content": null,
      "align_items": null,
      "align_self": null,
      "border": null,
      "bottom": null,
      "display": null,
      "flex": null,
      "flex_flow": null,
      "grid_area": null,
      "grid_auto_columns": null,
      "grid_auto_flow": null,
      "grid_auto_rows": null,
      "grid_column": null,
      "grid_gap": null,
      "grid_row": null,
      "grid_template_areas": null,
      "grid_template_columns": null,
      "grid_template_rows": null,
      "height": null,
      "justify_content": null,
      "justify_items": null,
      "left": null,
      "margin": null,
      "max_height": null,
      "max_width": null,
      "min_height": null,
      "min_width": null,
      "object_fit": null,
      "object_position": null,
      "order": null,
      "overflow": null,
      "overflow_x": null,
      "overflow_y": null,
      "padding": null,
      "right": null,
      "top": null,
      "visibility": null,
      "width": null
     }
    },
    "df86cfd82a174cee946f9e4913568bf7": {
     "model_module": "@jupyter-widgets/base",
     "model_name": "LayoutModel",
     "state": {
      "_model_module": "@jupyter-widgets/base",
      "_model_module_version": "1.2.0",
      "_model_name": "LayoutModel",
      "_view_count": null,
      "_view_module": "@jupyter-widgets/base",
      "_view_module_version": "1.2.0",
      "_view_name": "LayoutView",
      "align_content": null,
      "align_items": null,
      "align_self": null,
      "border": null,
      "bottom": null,
      "display": null,
      "flex": null,
      "flex_flow": null,
      "grid_area": null,
      "grid_auto_columns": null,
      "grid_auto_flow": null,
      "grid_auto_rows": null,
      "grid_column": null,
      "grid_gap": null,
      "grid_row": null,
      "grid_template_areas": null,
      "grid_template_columns": null,
      "grid_template_rows": null,
      "height": null,
      "justify_content": null,
      "justify_items": null,
      "left": null,
      "margin": null,
      "max_height": null,
      "max_width": null,
      "min_height": null,
      "min_width": null,
      "object_fit": null,
      "object_position": null,
      "order": null,
      "overflow": null,
      "overflow_x": null,
      "overflow_y": null,
      "padding": null,
      "right": null,
      "top": null,
      "visibility": null,
      "width": null
     }
    },
    "f64a04ff33004a3080c40a550e192415": {
     "model_module": "@jupyter-widgets/controls",
     "model_name": "HTMLModel",
     "state": {
      "_dom_classes": [],
      "_model_module": "@jupyter-widgets/controls",
      "_model_module_version": "1.5.0",
      "_model_name": "HTMLModel",
      "_view_count": null,
      "_view_module": "@jupyter-widgets/controls",
      "_view_module_version": "1.5.0",
      "_view_name": "HTMLView",
      "description": "",
      "description_tooltip": null,
      "layout": "IPY_MODEL_29b4401201bd4870bd2ffb47f522fa0c",
      "placeholder": "​",
      "style": "IPY_MODEL_063f3cb9b2d345a7adca4543d855e4b5",
      "value": " 4/6311 [00:03&lt;1:14:35,  1.41it/s]"
     }
    },
    "fdce716d1dcd4ae88fecba754d21483c": {
     "model_module": "@jupyter-widgets/base",
     "model_name": "LayoutModel",
     "state": {
      "_model_module": "@jupyter-widgets/base",
      "_model_module_version": "1.2.0",
      "_model_name": "LayoutModel",
      "_view_count": null,
      "_view_module": "@jupyter-widgets/base",
      "_view_module_version": "1.2.0",
      "_view_name": "LayoutView",
      "align_content": null,
      "align_items": null,
      "align_self": null,
      "border": null,
      "bottom": null,
      "display": null,
      "flex": null,
      "flex_flow": null,
      "grid_area": null,
      "grid_auto_columns": null,
      "grid_auto_flow": null,
      "grid_auto_rows": null,
      "grid_column": null,
      "grid_gap": null,
      "grid_row": null,
      "grid_template_areas": null,
      "grid_template_columns": null,
      "grid_template_rows": null,
      "height": null,
      "justify_content": null,
      "justify_items": null,
      "left": null,
      "margin": null,
      "max_height": null,
      "max_width": null,
      "min_height": null,
      "min_width": null,
      "object_fit": null,
      "object_position": null,
      "order": null,
      "overflow": null,
      "overflow_x": null,
      "overflow_y": null,
      "padding": null,
      "right": null,
      "top": null,
      "visibility": null,
      "width": null
     }
    }
   }
  }
 },
 "nbformat": 4,
 "nbformat_minor": 1
}
