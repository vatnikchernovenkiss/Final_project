{
 "cells": [
  {
   "cell_type": "markdown",
   "metadata": {},
   "source": [
    "# Обработка хадуповских статистик"
   ]
  },
  {
   "cell_type": "code",
   "execution_count": 1,
   "metadata": {},
   "outputs": [],
   "source": [
    "import pandas as pd\n",
    "url_hdoop_out_path = './url_out.txt'\n",
    "url_hdoop_out = pd.read_csv(url_hdoop_out_path, sep=' ', header=None)\n",
    "url_hdoop_out = url_hdoop_out.rename(columns={0: 'DocumentId', \n",
    "                              1: 'url_shows', \n",
    "                              2: 'url_clicks',\n",
    "                             3: 'url_dbn_shows',\n",
    "                             4: 'url_dbn_clicks',\n",
    "                             5: 'url_dbn_last_click',\n",
    "                             6: 'url_avg_pos',\n",
    "                             7: 'avg_url_time'})\n",
    "url_hdoop_out['url_CTR'] = url_hdoop_out['url_clicks'] / url_hdoop_out['url_shows'] \n"
   ]
  },
  {
   "cell_type": "code",
   "execution_count": 2,
   "metadata": {},
   "outputs": [],
   "source": [
    "sample = pd.read_csv('./ranking-long-tail-queries-fall-2020/sample.csv/sample.csv')\n",
    "tt_hadoop = sample.merge(url_hdoop_out, how='left')"
   ]
  },
  {
   "cell_type": "code",
   "execution_count": 3,
   "metadata": {
    "scrolled": true
   },
   "outputs": [],
   "source": [
    "marks = pd.read_csv('./ranking-long-tail-queries-fall-2020/train.marks.tsv/train.marks.tsv', sep='\\t', header=None)\n",
    "marks = marks.rename(columns={0:'QueryId', 1:'DocumentId', 2: 'mark'})\n",
    "marks = marks.drop(columns=['mark'])\n",
    "tr_hadoop = marks.merge(url_hdoop_out, how='left')"
   ]
  },
  {
   "cell_type": "code",
   "execution_count": 4,
   "metadata": {},
   "outputs": [],
   "source": [
    "import pandas as pd\n",
    "host_hdoop_out_path = './host_out.txt'\n",
    "host_hdoop_out = pd.read_csv(url_hdoop_out_path, sep=' ', header=None)\n",
    "host_hdoop_out = qhost_hdoop_out.rename(columns={0: 'HostId', \n",
    "                              1: 'host_shows', \n",
    "                              2: 'host_clicks',\n",
    "                             3: 'host_dbn_shows',\n",
    "                             4: 'host_dbn_clicks',\n",
    "                             5: 'host_dbn_last_click',\n",
    "                             6: 'host_avg_pos',\n",
    "                             7: 'avg_host_time'})\n",
    "c = 0.1\n",
    "host_hdoop_out['host_dbn_a'] = (host_hdoop_out['host_dbn_clicks'] + c) / (host_hdoop_out['host_dbn_shows'] + 2 * c)\n",
    "host_hdoop_out['host_dbn_s'] = (host_hdoop_out['host_dbn_last_click'] + c) / (host_hdoop_out['host_dbn_clicks'] + 2 * c)\n",
    "host_hdoop_out['host_CTR'] = host_hdoop_out['host_clicks'] / host_hdoop_out['host_shows'] \n"
   ]
  },
  {
   "cell_type": "code",
   "execution_count": 5,
   "metadata": {},
   "outputs": [],
   "source": [
    "tt_hadoop = tt_hadoop.merge(host_hdoop_out, how='outer')\n"
   ]
  },
  {
   "cell_type": "code",
   "execution_count": 6,
   "metadata": {},
   "outputs": [],
   "source": [
    "tr_hadoop = tr_hadoop.merge(host_hdoop_out, how='outer')\n"
   ]
  },
  {
   "cell_type": "code",
   "execution_count": 7,
   "metadata": {},
   "outputs": [],
   "source": [
    "import pandas as pd\n",
    "qhost_hdoop_out_path = './qhost_out.txt'\n",
    "qhost_hdoop_out = pd.read_csv(url_hdoop_out_path, sep=' ', header=None)\n",
    "qhost_hdoop_out = qhost_hdoop_out.rename(columns={0: 'HostId', \n",
    "                              1: 'QueryId'\n",
    "                              2: 'qhost_shows', \n",
    "                              3: 'qhost_clicks',\n",
    "                             4: 'qhost_dbn_shows',\n",
    "                             5: 'qhost_dbn_clicks',\n",
    "                             6: 'qhost_dbn_last_click',\n",
    "                             7: 'qhost_avg_pos'})\n",
    "c = 0.1\n",
    "qhost_hdoop_out['qhost_dbn_a'] = (qhost_hdoop_out['qhost_dbn_clicks'] + c) / (qhost_hdoop_out['qhost_dbn_shows'] + 2 * c)\n",
    "qhost_hdoop_out['qhost_dbn_s'] = (qhost_hdoop_out['qhost_dbn_satisfied'] + c) / (qhost_hdoop_out['qhost_dbn_clicks'] + 2 * c)\n",
    "qhost_hdoop_out['qhost_CTR'] = qhost_hdoop_out['qhost_clicks'] / host_hdoop_out['qhost_shows'] \n"
   ]
  },
  {
   "cell_type": "code",
   "execution_count": 8,
   "metadata": {},
   "outputs": [],
   "source": [
    "tt_hadoop = tt_hadoop.merge(qhost_hdoop_out, how='outer')\n",
    "tr_hadoop = tr_hadoop.merge(qhost_hdoop_out, how='outer')\n"
   ]
  },
  {
   "cell_type": "code",
   "execution_count": 9,
   "metadata": {},
   "outputs": [],
   "source": [
    "tt_hadoop.to_csv('tt_hadoop_features', index=None)\n",
    "tr_hadoop.to_csv('tr_hadoop_features', index=None)"
   ]
  }
 ],
 "metadata": {
  "kernelspec": {
   "display_name": "Python 3",
   "language": "python",
   "name": "python3"
  },
  "language_info": {
   "codemirror_mode": {
    "name": "ipython",
    "version": 3
   },
   "file_extension": ".py",
   "mimetype": "text/x-python",
   "name": "python",
   "nbconvert_exporter": "python",
   "pygments_lexer": "ipython3",
   "version": "3.8.3"
  }
 },
 "nbformat": 4,
 "nbformat_minor": 4
}
